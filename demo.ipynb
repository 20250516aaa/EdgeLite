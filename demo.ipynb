{
 "cells": [
  {
   "cell_type": "code",
   "execution_count": 2,
   "id": "67dd2dc5-3016-4f72-a022-8f1f965f79cd",
   "metadata": {
    "execution": {
     "iopub.execute_input": "2025-07-09T02:01:39.113256Z",
     "iopub.status.busy": "2025-07-09T02:01:39.112361Z",
     "iopub.status.idle": "2025-07-09T02:01:39.120063Z",
     "shell.execute_reply": "2025-07-09T02:01:39.119229Z",
     "shell.execute_reply.started": "2025-07-09T02:01:39.113195Z"
    }
   },
   "outputs": [
    {
     "name": "stdout",
     "output_type": "stream",
     "text": [
      "ONNX Runtime版本: 1.22.0\n",
      "可用设备: GPU\n",
      "支持Provider: ['TensorrtExecutionProvider', 'CUDAExecutionProvider', 'CPUExecutionProvider']\n",
      "trt version:8.6.1\n",
      "torch cuda available:True\n"
     ]
    }
   ],
   "source": [
    "import os\n",
    "os.environ[\"CUDA_VISIBLE_DEVICES\"] = \"0\" \n",
    "from ultralytics import YOLO\n",
    "import torch\n",
    "import torch.nn as nn\n",
    "from loguru import logger\n",
    "import os\n",
    "import tensorrt as trt\n",
    "import onnxruntime\n",
    "import pytorch_quantization.nn as quant_nn\n",
    "from pytorch_quantization.nn import TensorQuantizer  # 来自你QAT框架（如 MQBench 等）\n",
    "import onnx\n",
    "from onnxsim import simplify\n",
    "print(\"ONNX Runtime版本:\", onnxruntime.__version__)\n",
    "print(\"可用设备:\", onnxruntime.get_device())\n",
    "print(\"支持Provider:\", onnxruntime.get_available_providers())\n",
    "print(f'trt version:{trt.__version__}')\n",
    "print(f'torch cuda available:{torch.cuda.is_available()}')"
   ]
  },
  {
   "cell_type": "code",
   "execution_count": 3,
   "id": "79148a72-6393-46f3-9f0a-bc575584e81b",
   "metadata": {
    "execution": {
     "iopub.execute_input": "2025-07-09T02:01:41.048051Z",
     "iopub.status.busy": "2025-07-09T02:01:41.047212Z",
     "iopub.status.idle": "2025-07-09T02:01:41.053145Z",
     "shell.execute_reply": "2025-07-09T02:01:41.052615Z",
     "shell.execute_reply.started": "2025-07-09T02:01:41.047997Z"
    }
   },
   "outputs": [],
   "source": [
    "def load_model(org_model_path, pt_model_path, device='cuda:0'):\n",
    "    model = YOLO(org_model_path)\n",
    "    model1 = torch.load(pt_model_path, map_location=device)[\"model\"]\n",
    "    model1.float()\n",
    "    model1.eval()\n",
    "    with torch.no_grad():\n",
    "        model1.fuse()\n",
    "    model.model = model1\n",
    "    model.args = vars(model.args)\n",
    "    model.model.args = model.args\n",
    "    model.model.task = model.task\n",
    "    return model"
   ]
  },
  {
   "cell_type": "code",
   "execution_count": 4,
   "id": "e4bf09b4-5970-4d49-9cd4-068bd3e1e097",
   "metadata": {
    "execution": {
     "iopub.execute_input": "2025-07-09T02:01:42.502842Z",
     "iopub.status.busy": "2025-07-09T02:01:42.501994Z",
     "iopub.status.idle": "2025-07-09T02:01:42.508023Z",
     "shell.execute_reply": "2025-07-09T02:01:42.507058Z",
     "shell.execute_reply.started": "2025-07-09T02:01:42.502787Z"
    }
   },
   "outputs": [],
   "source": [
    "data_yaml_file = './datasets/my-coco-pose.yaml' # 测试数据\n",
    "device = 'cuda:0'"
   ]
  },
  {
   "cell_type": "markdown",
   "id": "997e5c14-d02e-41be-8e4a-c96be0e6c59b",
   "metadata": {},
   "source": [
    "# 原始的yolov8s-pose"
   ]
  },
  {
   "cell_type": "code",
   "execution_count": 5,
   "id": "5f0aa9f8-96c3-44a1-8198-5577a874fbd2",
   "metadata": {
    "execution": {
     "iopub.execute_input": "2025-07-09T02:01:45.136557Z",
     "iopub.status.busy": "2025-07-09T02:01:45.135757Z",
     "iopub.status.idle": "2025-07-09T02:01:45.142017Z",
     "shell.execute_reply": "2025-07-09T02:01:45.141111Z",
     "shell.execute_reply.started": "2025-07-09T02:01:45.136501Z"
    }
   },
   "outputs": [],
   "source": [
    "org_pt_path = './weights/yolov8s-pose.pt'"
   ]
  },
  {
   "cell_type": "code",
   "execution_count": 6,
   "id": "99e5f5e9-3a1c-489b-9506-27c9316b1d36",
   "metadata": {
    "execution": {
     "iopub.execute_input": "2025-07-09T02:01:46.677571Z",
     "iopub.status.busy": "2025-07-09T02:01:46.676594Z",
     "iopub.status.idle": "2025-07-09T02:01:48.217632Z",
     "shell.execute_reply": "2025-07-09T02:01:48.216646Z",
     "shell.execute_reply.started": "2025-07-09T02:01:46.677549Z"
    }
   },
   "outputs": [],
   "source": [
    "dense_model = YOLO(org_pt_path, task='pose')"
   ]
  },
  {
   "cell_type": "markdown",
   "id": "4db39f36-a717-49a0-ab00-487096142541",
   "metadata": {},
   "source": [
    "**预测**"
   ]
  },
  {
   "cell_type": "code",
   "execution_count": 6,
   "id": "b22dde75-7029-4988-a08f-ef44924d9276",
   "metadata": {
    "execution": {
     "iopub.execute_input": "2025-07-07T09:58:16.808419Z",
     "iopub.status.busy": "2025-07-07T09:58:16.807351Z",
     "iopub.status.idle": "2025-07-07T09:58:18.872347Z",
     "shell.execute_reply": "2025-07-07T09:58:18.871702Z",
     "shell.execute_reply.started": "2025-07-07T09:58:16.808361Z"
    }
   },
   "outputs": [
    {
     "name": "stdout",
     "output_type": "stream",
     "text": [
      "\n",
      "image 1/1 /data/xl/Projects/EdgeLite/datasets/coco-pose/images/val2017/000000000139.jpg: 448x640 1 person, 46.3ms\n",
      "Speed: 4.1ms preprocess, 46.3ms inference, 393.8ms postprocess per image at shape (1, 3, 448, 640)\n"
     ]
    }
   ],
   "source": [
    "results = dense_model.predict(\"datasets/coco-pose/images/val2017/000000000139.jpg\",device=device)  # predict on an image"
   ]
  },
  {
   "cell_type": "code",
   "execution_count": 7,
   "id": "9ec62b58-2282-421f-a640-a8703e9385e2",
   "metadata": {
    "execution": {
     "iopub.execute_input": "2025-07-07T09:58:22.959568Z",
     "iopub.status.busy": "2025-07-07T09:58:22.958786Z",
     "iopub.status.idle": "2025-07-07T09:58:22.965234Z",
     "shell.execute_reply": "2025-07-07T09:58:22.964791Z",
     "shell.execute_reply.started": "2025-07-07T09:58:22.959509Z"
    }
   },
   "outputs": [
    {
     "data": {
      "text/plain": [
       "device(type='cuda', index=0)"
      ]
     },
     "execution_count": 7,
     "metadata": {},
     "output_type": "execute_result"
    }
   ],
   "source": [
    "dense_model.device"
   ]
  },
  {
   "cell_type": "code",
   "execution_count": 9,
   "id": "58ed1467-8b99-4ed5-b625-db988828173a",
   "metadata": {
    "collapsed": true,
    "execution": {
     "iopub.execute_input": "2025-07-07T09:59:45.950272Z",
     "iopub.status.busy": "2025-07-07T09:59:45.949429Z",
     "iopub.status.idle": "2025-07-07T10:00:07.394539Z",
     "shell.execute_reply": "2025-07-07T10:00:07.393336Z",
     "shell.execute_reply.started": "2025-07-07T09:59:45.950234Z"
    },
    "jupyter": {
     "outputs_hidden": true
    }
   },
   "outputs": [
    {
     "name": "stdout",
     "output_type": "stream",
     "text": [
      "Ultralytics 8.3.162 🚀 Python-3.10.18 torch-2.4.1+cu121 CUDA:0 (NVIDIA L40, 45386MiB)\n",
      "\u001b[34m\u001b[1mval: \u001b[0mFast image access ✅ (ping: 0.0±0.0 ms, read: 2792.2±981.5 MB/s, size: 120.7 KB)\n"
     ]
    },
    {
     "name": "stderr",
     "output_type": "stream",
     "text": [
      "\u001b[34m\u001b[1mval: \u001b[0mScanning /data/xl/Projects/EdgeLite/datasets/coco-pose/labels/val2017.cache... 2346 images, 0 backgrounds, 0 corrupt\u001b[0m\n",
      "                 Class     Images  Instances      Box(P          R      mAP50  mAP50-95)     Pose(P          R      mAP50\n"
     ]
    },
    {
     "name": "stdout",
     "output_type": "stream",
     "text": [
      "                   all       2346       6352      0.868      0.864       0.93      0.743      0.855      0.804      0.858      0.606\n",
      "Speed: 0.1ms preprocess, 1.0ms inference, 0.0ms loss, 0.5ms postprocess per image\n",
      "Saving /data/xl/Projects/ultralytics/runs/pose/val435/predictions.json...\n",
      "\n",
      "Evaluating faster-coco-eval mAP using /data/xl/Projects/ultralytics/runs/pose/val435/predictions.json and datasets/coco-pose/annotations/person_keypoints_val2017.json...\n",
      "Evaluate annotation type *bbox*\n",
      "COCOeval_opt.evaluate() finished...\n",
      "DONE (t=0.47s).\n",
      "Accumulating evaluation results...\n",
      "COCOeval_opt.accumulate() finished...\n",
      "DONE (t=0.00s).\n",
      " Average Precision  (AP) @[ IoU=0.50:0.95 | area=   all | maxDets=100 ] = 0.575\n",
      " Average Precision  (AP) @[ IoU=0.50      | area=   all | maxDets=100 ] = 0.752\n",
      " Average Precision  (AP) @[ IoU=0.75      | area=   all | maxDets=100 ] = 0.638\n",
      " Average Precision  (AP) @[ IoU=0.50:0.95 | area= small | maxDets=100 ] = 0.238\n",
      " Average Precision  (AP) @[ IoU=0.50:0.95 | area=medium | maxDets=100 ] = 0.703\n",
      " Average Precision  (AP) @[ IoU=0.50:0.95 | area= large | maxDets=100 ] = 0.820\n",
      " Average Recall     (AR) @[ IoU=0.50:0.95 | area=   all | maxDets=  1 ] = 0.216\n",
      " Average Recall     (AR) @[ IoU=0.50:0.95 | area=   all | maxDets= 10 ] = 0.585\n",
      " Average Recall     (AR) @[ IoU=0.50:0.95 | area=   all | maxDets=100 ] = 0.655\n",
      " Average Recall     (AR) @[ IoU=0.50:0.95 | area= small | maxDets=100 ] = 0.284\n",
      " Average Recall     (AR) @[ IoU=0.50:0.95 | area=medium | maxDets=100 ] = 0.783\n",
      " Average Recall     (AR) @[ IoU=0.50:0.95 | area= large | maxDets=100 ] = 0.878\n",
      " Average Recall     (AR) @[ IoU=0.50      | area=   all | maxDets=100 ] = 0.828\n",
      " Average Recall     (AR) @[ IoU=0.75      | area=   all | maxDets=100 ] = 0.724\n",
      "Evaluate annotation type *keypoints*\n",
      "COCOeval_opt.evaluate() finished...\n",
      "DONE (t=3.16s).\n",
      "Accumulating evaluation results...\n",
      "COCOeval_opt.accumulate() finished...\n",
      "DONE (t=0.00s).\n",
      " Average Precision  (AP) @[ IoU=0.50:0.95 | area=   all | maxDets= 20 ] = 0.600\n",
      " Average Precision  (AP) @[ IoU=0.50      | area=   all | maxDets= 20 ] = 0.861\n",
      " Average Precision  (AP) @[ IoU=0.75      | area=   all | maxDets= 20 ] = 0.659\n",
      " Average Precision  (AP) @[ IoU=0.50:0.95 | area=medium | maxDets= 20 ] = 0.538\n",
      " Average Precision  (AP) @[ IoU=0.50:0.95 | area= large | maxDets= 20 ] = 0.702\n",
      " Average Recall     (AR) @[ IoU=0.50:0.95 | area=   all | maxDets= 20 ] = 0.667\n",
      " Average Recall     (AR) @[ IoU=0.50      | area=   all | maxDets= 20 ] = 0.901\n",
      " Average Recall     (AR) @[ IoU=0.75      | area=   all | maxDets= 20 ] = 0.726\n",
      " Average Recall     (AR) @[ IoU=0.50:0.95 | area=medium | maxDets= 20 ] = 0.592\n",
      " Average Recall     (AR) @[ IoU=0.50:0.95 | area= large | maxDets= 20 ] = 0.772\n",
      "Results saved to \u001b[1m/data/xl/Projects/ultralytics/runs/pose/val435\u001b[0m\n"
     ]
    }
   ],
   "source": [
    "metrics = dense_model.val(data=data_yaml_file, device=device) "
   ]
  },
  {
   "cell_type": "code",
   "execution_count": 24,
   "id": "9a4dc716-2767-4f04-bf96-8e740c951252",
   "metadata": {
    "execution": {
     "iopub.execute_input": "2025-07-04T09:26:29.230980Z",
     "iopub.status.busy": "2025-07-04T09:26:29.229976Z",
     "iopub.status.idle": "2025-07-04T09:26:29.269677Z",
     "shell.execute_reply": "2025-07-04T09:26:29.269093Z",
     "shell.execute_reply.started": "2025-07-04T09:26:29.230921Z"
    }
   },
   "outputs": [
    {
     "name": "stdout",
     "output_type": "stream",
     "text": [
      "YOLOv8s-pose summary (fused): 81 layers, 11,615,724 parameters, 0 gradients, 30.2 GFLOPs\n"
     ]
    },
    {
     "data": {
      "text/plain": [
       "(81, 11615724, 0, 30.190670400000002)"
      ]
     },
     "execution_count": 24,
     "metadata": {},
     "output_type": "execute_result"
    }
   ],
   "source": [
    "dense_model.info()"
   ]
  },
  {
   "cell_type": "code",
   "execution_count": 23,
   "id": "606603d4-8f38-442d-a3c9-127ca83cc4f2",
   "metadata": {
    "execution": {
     "iopub.execute_input": "2025-07-04T09:25:42.109458Z",
     "iopub.status.busy": "2025-07-04T09:25:42.108243Z",
     "iopub.status.idle": "2025-07-04T09:25:42.116681Z",
     "shell.execute_reply": "2025-07-04T09:25:42.115762Z",
     "shell.execute_reply.started": "2025-07-04T09:25:42.109368Z"
    }
   },
   "outputs": [
    {
     "name": "stderr",
     "output_type": "stream",
     "text": [
      "\u001b[32m2025-07-04 17:25:42.112\u001b[0m | \u001b[1mINFO    \u001b[0m | \u001b[36m__main__\u001b[0m:\u001b[36m<module>\u001b[0m:\u001b[36m1\u001b[0m - \u001b[1mOriginal model fp32 pt-->YOLO load model evaluate inference speed:1.0 ms\u001b[0m\n"
     ]
    }
   ],
   "source": [
    "logger.info(f\"Original model fp32 pt-->YOLO load model evaluate inference speed:{metrics.speed['inference']:.1f} ms\")"
   ]
  },
  {
   "cell_type": "markdown",
   "id": "e056e834-98b9-4c54-ad96-d75bc53c83f0",
   "metadata": {},
   "source": [
    "# FP16->TRT engine"
   ]
  },
  {
   "cell_type": "markdown",
   "id": "761e639a-bc63-4cca-bbfc-3da1b424c62a",
   "metadata": {},
   "source": [
    "* 在动态情况下只有minShapes=maxShapes=optShapes=1x3x640x640->即静态，相当于默认的官方导出engine(dynamic=False)\n",
    "* 否则minShapes=images:batchx3x320x320, maxShapes=images:batchx3x640x640 可以跑\n",
    "* engine_model.val()"
   ]
  },
  {
   "cell_type": "markdown",
   "id": "9ed0ab40-066e-4289-9ca3-be88d6f12036",
   "metadata": {},
   "source": [
    "**官方导出engine, 静态**"
   ]
  },
  {
   "cell_type": "code",
   "execution_count": 10,
   "id": "49b21cd2-6758-47d7-995e-25177fb84c60",
   "metadata": {
    "collapsed": true,
    "execution": {
     "iopub.execute_input": "2025-07-07T11:32:42.312367Z",
     "iopub.status.busy": "2025-07-07T11:32:42.311478Z",
     "iopub.status.idle": "2025-07-07T11:40:56.396947Z",
     "shell.execute_reply": "2025-07-07T11:40:56.396118Z",
     "shell.execute_reply.started": "2025-07-07T11:32:42.312307Z"
    },
    "jupyter": {
     "outputs_hidden": true
    }
   },
   "outputs": [
    {
     "name": "stdout",
     "output_type": "stream",
     "text": [
      "Ultralytics 8.3.162 🚀 Python-3.10.18 torch-2.4.1+cu121 CUDA:0 (NVIDIA L40, 45386MiB)\n",
      "YOLOv8s-pose summary (fused): 81 layers, 11,615,724 parameters, 0 gradients, 30.2 GFLOPs\n",
      "\n",
      "\u001b[34m\u001b[1mPyTorch:\u001b[0m starting from 'weights/yolov8s-pose.pt' with input shape (1, 3, 640, 640) BCHW and output shape(s) (1, 56, 8400) (22.4 MB)\n",
      "\n",
      "\u001b[34m\u001b[1mONNX:\u001b[0m starting export with onnx 1.17.0 opset 19...\n",
      "\u001b[34m\u001b[1mONNX:\u001b[0m slimming with onnxslim 0.1.58...\n",
      "\u001b[34m\u001b[1mONNX:\u001b[0m export success ✅ 1.2s, saved as 'weights/yolov8s-pose.onnx' (44.6 MB)\n",
      "\n",
      "\u001b[34m\u001b[1mTensorRT:\u001b[0m starting export with TensorRT 8.6.1...\n",
      "[07/07/2025-19:32:44] [TRT] [I] [MemUsageChange] Init CUDA: CPU +1, GPU +0, now: CPU 2199, GPU 6023 (MiB)\n",
      "[07/07/2025-19:32:52] [TRT] [I] [MemUsageChange] Init builder kernel library: CPU +1444, GPU +270, now: CPU 3720, GPU 6293 (MiB)\n",
      "[07/07/2025-19:32:52] [TRT] [I] ----------------------------------------------------------------\n",
      "[07/07/2025-19:32:52] [TRT] [I] Input filename:   weights/yolov8s-pose.onnx\n",
      "[07/07/2025-19:32:52] [TRT] [I] ONNX IR version:  0.0.9\n",
      "[07/07/2025-19:32:52] [TRT] [I] Opset version:    19\n",
      "[07/07/2025-19:32:52] [TRT] [I] Producer name:    pytorch\n",
      "[07/07/2025-19:32:52] [TRT] [I] Producer version: 2.4.1\n",
      "[07/07/2025-19:32:52] [TRT] [I] Domain:           \n",
      "[07/07/2025-19:32:52] [TRT] [I] Model version:    0\n",
      "[07/07/2025-19:32:52] [TRT] [I] Doc string:       \n",
      "[07/07/2025-19:32:52] [TRT] [I] ----------------------------------------------------------------\n",
      "[07/07/2025-19:32:52] [TRT] [W] onnx2trt_utils.cpp:374: Your ONNX model has been generated with INT64 weights, while TensorRT does not natively support INT64. Attempting to cast down to INT32.\n",
      "\u001b[34m\u001b[1mTensorRT:\u001b[0m input \"images\" with shape(1, 3, 640, 640) DataType.FLOAT\n",
      "\u001b[34m\u001b[1mTensorRT:\u001b[0m output \"output0\" with shape(1, 56, 8400) DataType.FLOAT\n",
      "\u001b[34m\u001b[1mTensorRT:\u001b[0m building FP16 engine as weights/yolov8s-pose.engine\n",
      "[07/07/2025-19:32:52] [TRT] [I] Graph optimization time: 0.0545718 seconds.\n",
      "[07/07/2025-19:32:52] [TRT] [I] Local timing cache in use. Profiling results in this builder pass will not be stored.\n",
      "[07/07/2025-19:40:53] [TRT] [I] Detected 1 inputs and 4 output network tensors.\n",
      "[07/07/2025-19:40:54] [TRT] [I] Total Host Persistent Memory: 400880\n",
      "[07/07/2025-19:40:54] [TRT] [I] Total Device Persistent Memory: 1024\n",
      "[07/07/2025-19:40:54] [TRT] [I] Total Scratch Memory: 0\n",
      "[07/07/2025-19:40:54] [TRT] [I] [MemUsageStats] Peak memory usage of TRT CPU/GPU memory allocators: CPU 29 MiB, GPU 133 MiB\n",
      "[07/07/2025-19:40:54] [TRT] [I] [BlockAssignment] Started assigning block shifts. This will take 123 steps to complete.\n",
      "[07/07/2025-19:40:54] [TRT] [I] [BlockAssignment] Algorithm ShiftNTopDown took 7.52124ms to assign 7 blocks to 123 nodes requiring 18636800 bytes.\n",
      "[07/07/2025-19:40:54] [TRT] [I] Total Activation Memory: 18636800\n",
      "[07/07/2025-19:40:55] [TRT] [W] TensorRT encountered issues when converting weights between types and that could affect accuracy.\n",
      "[07/07/2025-19:40:55] [TRT] [W] If this is not the desired behavior, please modify the weights or retrain with regularization to adjust the magnitude of the weights.\n",
      "[07/07/2025-19:40:55] [TRT] [W] Check verbose logs for the list of affected weights.\n",
      "[07/07/2025-19:40:55] [TRT] [W] - 63 weights are affected by this issue: Detected subnormal FP16 values.\n",
      "[07/07/2025-19:40:55] [TRT] [W] - 1 weights are affected by this issue: Detected values less than smallest positive FP16 subnormal value and converted them to the FP16 minimum subnormalized value.\n",
      "[07/07/2025-19:40:55] [TRT] [I] [MemUsageChange] TensorRT-managed allocation in building engine: CPU +22, GPU +23, now: CPU 22, GPU 23 (MiB)\n",
      "\u001b[34m\u001b[1mTensorRT:\u001b[0m export success ✅ 492.9s, saved as 'weights/yolov8s-pose.engine' (24.9 MB)\n",
      "\n",
      "Export complete (494.1s)\n",
      "Results saved to \u001b[1m/data/xl/Projects/EdgeLite/weights\u001b[0m\n",
      "Predict:         yolo predict task=pose model=weights/yolov8s-pose.engine imgsz=640 half \n",
      "Validate:        yolo val task=pose model=weights/yolov8s-pose.engine imgsz=640 data=/usr/src/app/ultralytics/datasets/coco-pose.yaml half \n",
      "Visualize:       https://netron.app\n"
     ]
    },
    {
     "data": {
      "text/plain": [
       "'weights/yolov8s-pose.engine'"
      ]
     },
     "execution_count": 10,
     "metadata": {},
     "output_type": "execute_result"
    }
   ],
   "source": [
    "dense_model.export(format='engine', half=True, device=device)"
   ]
  },
  {
   "cell_type": "markdown",
   "id": "858f6dc5-9559-433d-901d-1b7a60fb0791",
   "metadata": {},
   "source": [
    "**官方导出engine, 动态**"
   ]
  },
  {
   "cell_type": "code",
   "execution_count": 6,
   "id": "428f3b71-b17c-492e-a1e2-1447783b15c0",
   "metadata": {
    "collapsed": true,
    "execution": {
     "iopub.execute_input": "2025-07-07T12:37:03.617151Z",
     "iopub.status.busy": "2025-07-07T12:37:03.616051Z",
     "iopub.status.idle": "2025-07-07T12:37:17.201699Z",
     "shell.execute_reply": "2025-07-07T12:37:17.200896Z",
     "shell.execute_reply.started": "2025-07-07T12:37:03.617089Z"
    },
    "jupyter": {
     "outputs_hidden": true
    }
   },
   "outputs": [
    {
     "name": "stdout",
     "output_type": "stream",
     "text": [
      "WARNING ⚠️ TensorRT requires GPU export, automatically assigning device=0\n",
      "Ultralytics 8.3.162 🚀 Python-3.10.18 torch-2.4.1+cu121 CUDA:0 (NVIDIA L40, 45386MiB)\n",
      "YOLOv8s-pose summary (fused): 81 layers, 11,615,724 parameters, 0 gradients, 30.2 GFLOPs\n",
      "\n",
      "\u001b[34m\u001b[1mPyTorch:\u001b[0m starting from 'weights/yolov8s-pose.pt' with input shape (8, 3, 640, 640) BCHW and output shape(s) (8, 56, 8400) (22.4 MB)\n",
      "\n",
      "\u001b[34m\u001b[1mONNX:\u001b[0m starting export with onnx 1.17.0 opset 19...\n",
      "\u001b[34m\u001b[1mONNX:\u001b[0m slimming with onnxslim 0.1.58...\n",
      "\u001b[34m\u001b[1mONNX:\u001b[0m export success ✅ 4.0s, saved as 'weights/yolov8s-pose.onnx' (44.4 MB)\n",
      "\n",
      "\u001b[34m\u001b[1mTensorRT:\u001b[0m starting export with TensorRT 8.6.1...\n",
      "[07/07/2025-20:37:09] [TRT] [I] [MemUsageChange] Init CUDA: CPU +2, GPU +0, now: CPU 893, GPU 2255 (MiB)\n",
      "[07/07/2025-20:37:16] [TRT] [I] [MemUsageChange] Init builder kernel library: CPU +1445, GPU +266, now: CPU 2414, GPU 2521 (MiB)\n"
     ]
    },
    {
     "ename": "KeyboardInterrupt",
     "evalue": "",
     "output_type": "error",
     "traceback": [
      "\u001b[0;31m---------------------------------------------------------------------------\u001b[0m",
      "\u001b[0;31mKeyboardInterrupt\u001b[0m                         Traceback (most recent call last)",
      "Cell \u001b[0;32mIn[6], line 4\u001b[0m\n\u001b[1;32m      2\u001b[0m \u001b[38;5;28;01mimport\u001b[39;00m\u001b[38;5;250m \u001b[39m\u001b[38;5;21;01mos\u001b[39;00m\n\u001b[1;32m      3\u001b[0m os\u001b[38;5;241m.\u001b[39menviron[\u001b[38;5;124m\"\u001b[39m\u001b[38;5;124mCUDA_VISIBLE_DEVICES\u001b[39m\u001b[38;5;124m\"\u001b[39m] \u001b[38;5;241m=\u001b[39m \u001b[38;5;124m\"\u001b[39m\u001b[38;5;124m0\u001b[39m\u001b[38;5;124m\"\u001b[39m \n\u001b[0;32m----> 4\u001b[0m fp16_trt_engine \u001b[38;5;241m=\u001b[39m \u001b[43mdense_model\u001b[49m\u001b[38;5;241;43m.\u001b[39;49m\u001b[43mexport\u001b[49m\u001b[43m(\u001b[49m\u001b[38;5;28;43mformat\u001b[39;49m\u001b[38;5;241;43m=\u001b[39;49m\u001b[38;5;124;43m\"\u001b[39;49m\u001b[38;5;124;43mengine\u001b[39;49m\u001b[38;5;124;43m\"\u001b[39;49m\u001b[43m,\u001b[49m\u001b[43m \u001b[49m\u001b[43mimgsz\u001b[49m\u001b[38;5;241;43m=\u001b[39;49m\u001b[38;5;241;43m640\u001b[39;49m\u001b[43m,\u001b[49m\u001b[43m \u001b[49m\u001b[43mdynamic\u001b[49m\u001b[38;5;241;43m=\u001b[39;49m\u001b[38;5;28;43;01mTrue\u001b[39;49;00m\u001b[43m,\u001b[49m\u001b[43m \u001b[49m\u001b[43mverbose\u001b[49m\u001b[38;5;241;43m=\u001b[39;49m\u001b[38;5;28;43;01mFalse\u001b[39;49;00m\u001b[43m,\u001b[49m\u001b[43m \u001b[49m\u001b[43mbatch\u001b[49m\u001b[38;5;241;43m=\u001b[39;49m\u001b[38;5;241;43m8\u001b[39;49m\u001b[43m,\u001b[49m\u001b[43m \u001b[49m\u001b[43mworkspace\u001b[49m\u001b[38;5;241;43m=\u001b[39;49m\u001b[38;5;241;43m2\u001b[39;49m\u001b[43m,\u001b[49m\u001b[43m \u001b[49m\u001b[43mhalf\u001b[49m\u001b[38;5;241;43m=\u001b[39;49m\u001b[38;5;28;43;01mTrue\u001b[39;49;00m\u001b[43m)\u001b[49m\n\u001b[1;32m      6\u001b[0m \u001b[38;5;66;03m# TensorRT INT8 with calibration `data` (i.e. COCO, ImageNet, or DOTAv1 for appropriate model task)\u001b[39;00m\n\u001b[1;32m      7\u001b[0m \u001b[38;5;66;03m# out = model.export(\u001b[39;00m\n\u001b[1;32m      8\u001b[0m \u001b[38;5;66;03m#     format=\"engine\", imgsz=640, dynamic=True, verbose=False, batch=8, workspace=2, int8=True, data=\"coco8.yaml\"\u001b[39;00m\n\u001b[1;32m      9\u001b[0m \u001b[38;5;66;03m# )\u001b[39;00m\n",
      "File \u001b[0;32m~/Projects/EdgeLite/ultralytics/engine/model.py:734\u001b[0m, in \u001b[0;36mModel.export\u001b[0;34m(self, **kwargs)\u001b[0m\n\u001b[1;32m    726\u001b[0m custom \u001b[38;5;241m=\u001b[39m {\n\u001b[1;32m    727\u001b[0m     \u001b[38;5;124m\"\u001b[39m\u001b[38;5;124mimgsz\u001b[39m\u001b[38;5;124m\"\u001b[39m: \u001b[38;5;28mself\u001b[39m\u001b[38;5;241m.\u001b[39mmodel\u001b[38;5;241m.\u001b[39margs[\u001b[38;5;124m\"\u001b[39m\u001b[38;5;124mimgsz\u001b[39m\u001b[38;5;124m\"\u001b[39m],\n\u001b[1;32m    728\u001b[0m     \u001b[38;5;124m\"\u001b[39m\u001b[38;5;124mbatch\u001b[39m\u001b[38;5;124m\"\u001b[39m: \u001b[38;5;241m1\u001b[39m,\n\u001b[0;32m   (...)\u001b[0m\n\u001b[1;32m    731\u001b[0m     \u001b[38;5;124m\"\u001b[39m\u001b[38;5;124mverbose\u001b[39m\u001b[38;5;124m\"\u001b[39m: \u001b[38;5;28;01mFalse\u001b[39;00m,\n\u001b[1;32m    732\u001b[0m }  \u001b[38;5;66;03m# method defaults\u001b[39;00m\n\u001b[1;32m    733\u001b[0m args \u001b[38;5;241m=\u001b[39m {\u001b[38;5;241m*\u001b[39m\u001b[38;5;241m*\u001b[39m\u001b[38;5;28mself\u001b[39m\u001b[38;5;241m.\u001b[39moverrides, \u001b[38;5;241m*\u001b[39m\u001b[38;5;241m*\u001b[39mcustom, \u001b[38;5;241m*\u001b[39m\u001b[38;5;241m*\u001b[39mkwargs, \u001b[38;5;124m\"\u001b[39m\u001b[38;5;124mmode\u001b[39m\u001b[38;5;124m\"\u001b[39m: \u001b[38;5;124m\"\u001b[39m\u001b[38;5;124mexport\u001b[39m\u001b[38;5;124m\"\u001b[39m}  \u001b[38;5;66;03m# highest priority args on the right\u001b[39;00m\n\u001b[0;32m--> 734\u001b[0m \u001b[38;5;28;01mreturn\u001b[39;00m \u001b[43mExporter\u001b[49m\u001b[43m(\u001b[49m\u001b[43moverrides\u001b[49m\u001b[38;5;241;43m=\u001b[39;49m\u001b[43margs\u001b[49m\u001b[43m,\u001b[49m\u001b[43m \u001b[49m\u001b[43m_callbacks\u001b[49m\u001b[38;5;241;43m=\u001b[39;49m\u001b[38;5;28;43mself\u001b[39;49m\u001b[38;5;241;43m.\u001b[39;49m\u001b[43mcallbacks\u001b[49m\u001b[43m)\u001b[49m\u001b[43m(\u001b[49m\u001b[43mmodel\u001b[49m\u001b[38;5;241;43m=\u001b[39;49m\u001b[38;5;28;43mself\u001b[39;49m\u001b[38;5;241;43m.\u001b[39;49m\u001b[43mmodel\u001b[49m\u001b[43m)\u001b[49m\n",
      "File \u001b[0;32m~/Projects/EdgeLite/ultralytics/engine/exporter.py:478\u001b[0m, in \u001b[0;36mExporter.__call__\u001b[0;34m(self, model)\u001b[0m\n\u001b[1;32m    476\u001b[0m     f[\u001b[38;5;241m0\u001b[39m], _ \u001b[38;5;241m=\u001b[39m \u001b[38;5;28mself\u001b[39m\u001b[38;5;241m.\u001b[39mexport_torchscript()\n\u001b[1;32m    477\u001b[0m \u001b[38;5;28;01mif\u001b[39;00m engine:  \u001b[38;5;66;03m# TensorRT required before ONNX\u001b[39;00m\n\u001b[0;32m--> 478\u001b[0m     f[\u001b[38;5;241m1\u001b[39m], _ \u001b[38;5;241m=\u001b[39m \u001b[38;5;28;43mself\u001b[39;49m\u001b[38;5;241;43m.\u001b[39;49m\u001b[43mexport_engine\u001b[49m\u001b[43m(\u001b[49m\u001b[43mdla\u001b[49m\u001b[38;5;241;43m=\u001b[39;49m\u001b[43mdla\u001b[49m\u001b[43m)\u001b[49m\n\u001b[1;32m    479\u001b[0m \u001b[38;5;28;01mif\u001b[39;00m onnx:  \u001b[38;5;66;03m# ONNX\u001b[39;00m\n\u001b[1;32m    480\u001b[0m     f[\u001b[38;5;241m2\u001b[39m], _ \u001b[38;5;241m=\u001b[39m \u001b[38;5;28mself\u001b[39m\u001b[38;5;241m.\u001b[39mexport_onnx()\n",
      "File \u001b[0;32m~/Projects/EdgeLite/ultralytics/engine/exporter.py:193\u001b[0m, in \u001b[0;36mtry_export.<locals>.outer_func\u001b[0;34m(*args, **kwargs)\u001b[0m\n\u001b[1;32m    191\u001b[0m \u001b[38;5;28;01mtry\u001b[39;00m:\n\u001b[1;32m    192\u001b[0m     \u001b[38;5;28;01mwith\u001b[39;00m Profile() \u001b[38;5;28;01mas\u001b[39;00m dt:\n\u001b[0;32m--> 193\u001b[0m         f, model \u001b[38;5;241m=\u001b[39m \u001b[43minner_func\u001b[49m\u001b[43m(\u001b[49m\u001b[38;5;241;43m*\u001b[39;49m\u001b[43margs\u001b[49m\u001b[43m,\u001b[49m\u001b[43m \u001b[49m\u001b[38;5;241;43m*\u001b[39;49m\u001b[38;5;241;43m*\u001b[39;49m\u001b[43mkwargs\u001b[49m\u001b[43m)\u001b[49m\n\u001b[1;32m    194\u001b[0m     LOGGER\u001b[38;5;241m.\u001b[39minfo(\u001b[38;5;124mf\u001b[39m\u001b[38;5;124m\"\u001b[39m\u001b[38;5;132;01m{\u001b[39;00mprefix\u001b[38;5;132;01m}\u001b[39;00m\u001b[38;5;124m export success ✅ \u001b[39m\u001b[38;5;132;01m{\u001b[39;00mdt\u001b[38;5;241m.\u001b[39mt\u001b[38;5;132;01m:\u001b[39;00m\u001b[38;5;124m.1f\u001b[39m\u001b[38;5;132;01m}\u001b[39;00m\u001b[38;5;124ms, saved as \u001b[39m\u001b[38;5;124m'\u001b[39m\u001b[38;5;132;01m{\u001b[39;00mf\u001b[38;5;132;01m}\u001b[39;00m\u001b[38;5;124m'\u001b[39m\u001b[38;5;124m (\u001b[39m\u001b[38;5;132;01m{\u001b[39;00mfile_size(f)\u001b[38;5;132;01m:\u001b[39;00m\u001b[38;5;124m.1f\u001b[39m\u001b[38;5;132;01m}\u001b[39;00m\u001b[38;5;124m MB)\u001b[39m\u001b[38;5;124m\"\u001b[39m)\n\u001b[1;32m    195\u001b[0m     \u001b[38;5;28;01mreturn\u001b[39;00m f, model\n",
      "File \u001b[0;32m~/Projects/EdgeLite/ultralytics/engine/exporter.py:922\u001b[0m, in \u001b[0;36mExporter.export_engine\u001b[0;34m(self, dla, prefix)\u001b[0m\n\u001b[1;32m    920\u001b[0m \u001b[38;5;28;01massert\u001b[39;00m Path(f_onnx)\u001b[38;5;241m.\u001b[39mexists(), \u001b[38;5;124mf\u001b[39m\u001b[38;5;124m\"\u001b[39m\u001b[38;5;124mfailed to export ONNX file: \u001b[39m\u001b[38;5;132;01m{\u001b[39;00mf_onnx\u001b[38;5;132;01m}\u001b[39;00m\u001b[38;5;124m\"\u001b[39m\n\u001b[1;32m    921\u001b[0m f \u001b[38;5;241m=\u001b[39m \u001b[38;5;28mself\u001b[39m\u001b[38;5;241m.\u001b[39mfile\u001b[38;5;241m.\u001b[39mwith_suffix(\u001b[38;5;124m\"\u001b[39m\u001b[38;5;124m.engine\u001b[39m\u001b[38;5;124m\"\u001b[39m)  \u001b[38;5;66;03m# TensorRT engine file\u001b[39;00m\n\u001b[0;32m--> 922\u001b[0m \u001b[43mexport_engine\u001b[49m\u001b[43m(\u001b[49m\n\u001b[1;32m    923\u001b[0m \u001b[43m    \u001b[49m\u001b[43mf_onnx\u001b[49m\u001b[43m,\u001b[49m\n\u001b[1;32m    924\u001b[0m \u001b[43m    \u001b[49m\u001b[43mf\u001b[49m\u001b[43m,\u001b[49m\n\u001b[1;32m    925\u001b[0m \u001b[43m    \u001b[49m\u001b[38;5;28;43mself\u001b[39;49m\u001b[38;5;241;43m.\u001b[39;49m\u001b[43margs\u001b[49m\u001b[38;5;241;43m.\u001b[39;49m\u001b[43mworkspace\u001b[49m\u001b[43m,\u001b[49m\n\u001b[1;32m    926\u001b[0m \u001b[43m    \u001b[49m\u001b[38;5;28;43mself\u001b[39;49m\u001b[38;5;241;43m.\u001b[39;49m\u001b[43margs\u001b[49m\u001b[38;5;241;43m.\u001b[39;49m\u001b[43mhalf\u001b[49m\u001b[43m,\u001b[49m\n\u001b[1;32m    927\u001b[0m \u001b[43m    \u001b[49m\u001b[38;5;28;43mself\u001b[39;49m\u001b[38;5;241;43m.\u001b[39;49m\u001b[43margs\u001b[49m\u001b[38;5;241;43m.\u001b[39;49m\u001b[43mint8\u001b[49m\u001b[43m,\u001b[49m\n\u001b[1;32m    928\u001b[0m \u001b[43m    \u001b[49m\u001b[38;5;28;43mself\u001b[39;49m\u001b[38;5;241;43m.\u001b[39;49m\u001b[43margs\u001b[49m\u001b[38;5;241;43m.\u001b[39;49m\u001b[43mdynamic\u001b[49m\u001b[43m,\u001b[49m\n\u001b[1;32m    929\u001b[0m \u001b[43m    \u001b[49m\u001b[38;5;28;43mself\u001b[39;49m\u001b[38;5;241;43m.\u001b[39;49m\u001b[43mim\u001b[49m\u001b[38;5;241;43m.\u001b[39;49m\u001b[43mshape\u001b[49m\u001b[43m,\u001b[49m\n\u001b[1;32m    930\u001b[0m \u001b[43m    \u001b[49m\u001b[43mdla\u001b[49m\u001b[38;5;241;43m=\u001b[39;49m\u001b[43mdla\u001b[49m\u001b[43m,\u001b[49m\n\u001b[1;32m    931\u001b[0m \u001b[43m    \u001b[49m\u001b[43mdataset\u001b[49m\u001b[38;5;241;43m=\u001b[39;49m\u001b[38;5;28;43mself\u001b[39;49m\u001b[38;5;241;43m.\u001b[39;49m\u001b[43mget_int8_calibration_dataloader\u001b[49m\u001b[43m(\u001b[49m\u001b[43mprefix\u001b[49m\u001b[43m)\u001b[49m\u001b[43m \u001b[49m\u001b[38;5;28;43;01mif\u001b[39;49;00m\u001b[43m \u001b[49m\u001b[38;5;28;43mself\u001b[39;49m\u001b[38;5;241;43m.\u001b[39;49m\u001b[43margs\u001b[49m\u001b[38;5;241;43m.\u001b[39;49m\u001b[43mint8\u001b[49m\u001b[43m \u001b[49m\u001b[38;5;28;43;01melse\u001b[39;49;00m\u001b[43m \u001b[49m\u001b[38;5;28;43;01mNone\u001b[39;49;00m\u001b[43m,\u001b[49m\n\u001b[1;32m    932\u001b[0m \u001b[43m    \u001b[49m\u001b[43mmetadata\u001b[49m\u001b[38;5;241;43m=\u001b[39;49m\u001b[38;5;28;43mself\u001b[39;49m\u001b[38;5;241;43m.\u001b[39;49m\u001b[43mmetadata\u001b[49m\u001b[43m,\u001b[49m\n\u001b[1;32m    933\u001b[0m \u001b[43m    \u001b[49m\u001b[43mverbose\u001b[49m\u001b[38;5;241;43m=\u001b[39;49m\u001b[38;5;28;43mself\u001b[39;49m\u001b[38;5;241;43m.\u001b[39;49m\u001b[43margs\u001b[49m\u001b[38;5;241;43m.\u001b[39;49m\u001b[43mverbose\u001b[49m\u001b[43m,\u001b[49m\n\u001b[1;32m    934\u001b[0m \u001b[43m    \u001b[49m\u001b[43mprefix\u001b[49m\u001b[38;5;241;43m=\u001b[39;49m\u001b[43mprefix\u001b[49m\u001b[43m,\u001b[49m\n\u001b[1;32m    935\u001b[0m \u001b[43m\u001b[49m\u001b[43m)\u001b[49m\n\u001b[1;32m    937\u001b[0m \u001b[38;5;28;01mreturn\u001b[39;00m f, \u001b[38;5;28;01mNone\u001b[39;00m\n",
      "File \u001b[0;32m~/Projects/EdgeLite/ultralytics/utils/export.py:99\u001b[0m, in \u001b[0;36mexport_engine\u001b[0;34m(onnx_file, engine_file, workspace, half, int8, dynamic, shape, dla, dataset, metadata, verbose, prefix)\u001b[0m\n\u001b[1;32m     97\u001b[0m \u001b[38;5;66;03m# Engine builder\u001b[39;00m\n\u001b[1;32m     98\u001b[0m workspace0 \u001b[38;5;241m=\u001b[39m workspace\n\u001b[0;32m---> 99\u001b[0m builder \u001b[38;5;241m=\u001b[39m \u001b[43mtrt\u001b[49m\u001b[38;5;241;43m.\u001b[39;49m\u001b[43mBuilder\u001b[49m\u001b[43m(\u001b[49m\u001b[43mlogger\u001b[49m\u001b[43m)\u001b[49m\n\u001b[1;32m    100\u001b[0m config \u001b[38;5;241m=\u001b[39m builder\u001b[38;5;241m.\u001b[39mcreate_builder_config()\n\u001b[1;32m    101\u001b[0m workspace \u001b[38;5;241m=\u001b[39m \u001b[38;5;28mint\u001b[39m((workspace \u001b[38;5;129;01mor\u001b[39;00m \u001b[38;5;241m0\u001b[39m) \u001b[38;5;241m*\u001b[39m (\u001b[38;5;241m1\u001b[39m \u001b[38;5;241m<<\u001b[39m \u001b[38;5;241m30\u001b[39m))\n",
      "\u001b[0;31mKeyboardInterrupt\u001b[0m: "
     ]
    }
   ],
   "source": [
    "# TensorRT FP16\n",
    "import os\n",
    "os.environ[\"CUDA_VISIBLE_DEVICES\"] = \"0\" \n",
    "fp16_trt_engine = dense_model.export(format=\"engine\", imgsz=640, dynamic=True, verbose=False, batch=8, workspace=2, half=True)"
   ]
  },
  {
   "cell_type": "markdown",
   "id": "e7fec177-f70a-499e-bbf5-474d833a468e",
   "metadata": {},
   "source": [
    "模型文件路径原始模型的pt文件路径将'pt'替换为'engine\n",
    "即'./weights/yolov8s-pose.pt'->'./weights/yolov8s-pose.engine'"
   ]
  },
  {
   "cell_type": "markdown",
   "id": "dc786d7a-cef1-4632-a5f6-2748ce2a0b63",
   "metadata": {},
   "source": [
    "对其重命名:"
   ]
  },
  {
   "cell_type": "code",
   "execution_count": 7,
   "id": "7d870836-beb0-4e92-8c28-05ce8edec153",
   "metadata": {
    "execution": {
     "iopub.execute_input": "2025-07-07T12:06:17.158216Z",
     "iopub.status.busy": "2025-07-07T12:06:17.157606Z",
     "iopub.status.idle": "2025-07-07T12:06:17.166520Z",
     "shell.execute_reply": "2025-07-07T12:06:17.165642Z",
     "shell.execute_reply.started": "2025-07-07T12:06:17.158190Z"
    }
   },
   "outputs": [],
   "source": [
    "import os\n",
    "os.rename('./weights/yolov8s-pose.engine', './weights/yolov8s-pose-fp16.engine')"
   ]
  },
  {
   "cell_type": "code",
   "execution_count": 60,
   "id": "835a8969-37c9-4ff3-8574-61bd2883e8a2",
   "metadata": {
    "execution": {
     "iopub.execute_input": "2025-07-09T03:41:08.989050Z",
     "iopub.status.busy": "2025-07-09T03:41:08.988218Z",
     "iopub.status.idle": "2025-07-09T03:41:08.994820Z",
     "shell.execute_reply": "2025-07-09T03:41:08.994017Z",
     "shell.execute_reply.started": "2025-07-09T03:41:08.988995Z"
    }
   },
   "outputs": [],
   "source": [
    "# fp16_trt_engine = YOLO('./weights/yolov8s-pose-fp16.engine', task='pose')\n",
    "import os\n",
    "os.environ[\"CUDA_VISIBLE_DEVICES\"] = \"0\"\n",
    "fp16_trt_engine = YOLO('./weights/yolov8s-pose-fp16.engine', task='pose')"
   ]
  },
  {
   "cell_type": "markdown",
   "id": "e633a180-bc18-4402-a252-300559ddee62",
   "metadata": {},
   "source": [
    "**动态情况下一定要设置rect=False(特别是imgsz=640固定shape时)**"
   ]
  },
  {
   "cell_type": "code",
   "execution_count": 61,
   "id": "01c3a8ba-6aad-4148-8ea2-02ac3bfa59e3",
   "metadata": {
    "execution": {
     "iopub.execute_input": "2025-07-09T03:41:11.310960Z",
     "iopub.status.busy": "2025-07-09T03:41:11.310339Z",
     "iopub.status.idle": "2025-07-09T03:41:33.965958Z",
     "shell.execute_reply": "2025-07-09T03:41:33.965011Z",
     "shell.execute_reply.started": "2025-07-09T03:41:11.310933Z"
    },
    "scrolled": true
   },
   "outputs": [
    {
     "name": "stdout",
     "output_type": "stream",
     "text": [
      "Ultralytics 8.3.162 🚀 Python-3.10.18 torch-2.4.1+cu121 CUDA:0 (NVIDIA L40, 45386MiB)\n",
      "Loading weights/yolov8s-pose-fp16.engine for TensorRT inference...\n",
      "[07/09/2025-11:41:11] [TRT] [I] The logger passed into createInferRuntime differs from one already provided for an existing builder, runtime, or refitter. Uses of the global logger, returned by nvinfer1::getLogger(), will return the existing value.\n",
      "[07/09/2025-11:41:11] [TRT] [I] Loaded engine size: 26 MiB\n",
      "[07/09/2025-11:41:11] [TRT] [I] [MemUsageChange] TensorRT-managed allocation in engine deserialization: CPU +0, GPU +22, now: CPU 0, GPU 1137 (MiB)\n",
      "[07/09/2025-11:41:12] [TRT] [I] [MemUsageChange] TensorRT-managed allocation in IExecutionContext creation: CPU +1, GPU +272, now: CPU 1, GPU 1409 (MiB)\n",
      "WARNING ⚠️ Metadata not found for 'model=./weights/yolov8s-pose-fp16.engine'\n",
      "\u001b[34m\u001b[1mval: \u001b[0mFast image access ✅ (ping: 0.0±0.0 ms, read: 1091.5±192.2 MB/s, size: 155.3 KB)\n"
     ]
    },
    {
     "name": "stderr",
     "output_type": "stream",
     "text": [
      "\u001b[34m\u001b[1mval: \u001b[0mScanning /data/xl/Projects/EdgeLite/datasets/coco-pose/labels/val2017.cache... 2346 images, 0 backgrounds, 0 corrupt: 100%|██████████| 2346/2346 [00:0\u001b[0m\n",
      "                 Class     Images  Instances      Box(P          R      mAP50  mAP50-95)     Pose(P          R      mAP50  mAP50-95): 100%|██████████| 147/\n"
     ]
    },
    {
     "name": "stdout",
     "output_type": "stream",
     "text": [
      "                   all       2346       6352      0.868      0.855      0.925      0.733      0.854      0.807      0.856      0.605\n",
      "Speed: 0.1ms preprocess, 0.4ms inference, 0.0ms loss, 0.5ms postprocess per image\n",
      "Saving /data/xl/Projects/ultralytics/runs/pose/val576/predictions.json...\n",
      "\n",
      "Evaluating faster-coco-eval mAP using /data/xl/Projects/ultralytics/runs/pose/val576/predictions.json and datasets/coco-pose/annotations/person_keypoints_val2017.json...\n",
      "Evaluate annotation type *bbox*\n",
      "COCOeval_opt.evaluate() finished...\n",
      "DONE (t=0.57s).\n",
      "Accumulating evaluation results...\n",
      "COCOeval_opt.accumulate() finished...\n",
      "DONE (t=0.00s).\n",
      " Average Precision  (AP) @[ IoU=0.50:0.95 | area=   all | maxDets=100 ] = 0.560\n",
      " Average Precision  (AP) @[ IoU=0.50      | area=   all | maxDets=100 ] = 0.735\n",
      " Average Precision  (AP) @[ IoU=0.75      | area=   all | maxDets=100 ] = 0.622\n",
      " Average Precision  (AP) @[ IoU=0.50:0.95 | area= small | maxDets=100 ] = 0.198\n",
      " Average Precision  (AP) @[ IoU=0.50:0.95 | area=medium | maxDets=100 ] = 0.693\n",
      " Average Precision  (AP) @[ IoU=0.50:0.95 | area= large | maxDets=100 ] = 0.812\n",
      " Average Recall     (AR) @[ IoU=0.50:0.95 | area=   all | maxDets=  1 ] = 0.214\n",
      " Average Recall     (AR) @[ IoU=0.50:0.95 | area=   all | maxDets= 10 ] = 0.574\n",
      " Average Recall     (AR) @[ IoU=0.50:0.95 | area=   all | maxDets=100 ] = 0.647\n",
      " Average Recall     (AR) @[ IoU=0.50:0.95 | area= small | maxDets=100 ] = 0.268\n",
      " Average Recall     (AR) @[ IoU=0.50:0.95 | area=medium | maxDets=100 ] = 0.779\n",
      " Average Recall     (AR) @[ IoU=0.50:0.95 | area= large | maxDets=100 ] = 0.875\n",
      " Average Recall     (AR) @[ IoU=0.50      | area=   all | maxDets=100 ] = 0.820\n",
      " Average Recall     (AR) @[ IoU=0.75      | area=   all | maxDets=100 ] = 0.717\n",
      "Evaluate annotation type *keypoints*\n",
      "COCOeval_opt.evaluate() finished...\n",
      "DONE (t=3.20s).\n",
      "Accumulating evaluation results...\n",
      "COCOeval_opt.accumulate() finished...\n",
      "DONE (t=0.00s).\n",
      " Average Precision  (AP) @[ IoU=0.50:0.95 | area=   all | maxDets= 20 ] = 0.599\n",
      " Average Precision  (AP) @[ IoU=0.50      | area=   all | maxDets= 20 ] = 0.862\n",
      " Average Precision  (AP) @[ IoU=0.75      | area=   all | maxDets= 20 ] = 0.662\n",
      " Average Precision  (AP) @[ IoU=0.50:0.95 | area=medium | maxDets= 20 ] = 0.538\n",
      " Average Precision  (AP) @[ IoU=0.50:0.95 | area= large | maxDets= 20 ] = 0.702\n",
      " Average Recall     (AR) @[ IoU=0.50:0.95 | area=   all | maxDets= 20 ] = 0.667\n",
      " Average Recall     (AR) @[ IoU=0.50      | area=   all | maxDets= 20 ] = 0.901\n",
      " Average Recall     (AR) @[ IoU=0.75      | area=   all | maxDets= 20 ] = 0.729\n",
      " Average Recall     (AR) @[ IoU=0.50:0.95 | area=medium | maxDets= 20 ] = 0.592\n",
      " Average Recall     (AR) @[ IoU=0.50:0.95 | area= large | maxDets= 20 ] = 0.773\n",
      "Results saved to \u001b[1m/data/xl/Projects/ultralytics/runs/pose/val576\u001b[0m\n"
     ]
    }
   ],
   "source": [
    "metrics = fp16_trt_engine.val(data=data_yaml_file, batch=16,imgsz=640, rect=False, verbose=False, device=device)\n",
    "# metrics = model.val(data=data_yaml_file, batch=1,imgsz=640, rect=True, verbose=False, device=device) # "
   ]
  },
  {
   "cell_type": "code",
   "execution_count": 62,
   "id": "eec1ae2d-49d0-4069-9785-0879cfd80bc7",
   "metadata": {
    "execution": {
     "iopub.execute_input": "2025-07-09T03:41:33.972900Z",
     "iopub.status.busy": "2025-07-09T03:41:33.972669Z",
     "iopub.status.idle": "2025-07-09T03:41:33.977725Z",
     "shell.execute_reply": "2025-07-09T03:41:33.977054Z",
     "shell.execute_reply.started": "2025-07-09T03:41:33.972883Z"
    }
   },
   "outputs": [
    {
     "data": {
      "text/plain": [
       "{'preprocess': 0.12346564153747637,\n",
       " 'inference': 0.383697569057447,\n",
       " 'loss': 0.000414514766477258,\n",
       " 'postprocess': 0.46280918511675584}"
      ]
     },
     "execution_count": 62,
     "metadata": {},
     "output_type": "execute_result"
    }
   ],
   "source": [
    "metrics.speed"
   ]
  },
  {
   "cell_type": "code",
   "execution_count": 47,
   "id": "96176899-236c-4193-9390-01bd490a0bc0",
   "metadata": {
    "execution": {
     "iopub.execute_input": "2025-07-04T09:51:27.192328Z",
     "iopub.status.busy": "2025-07-04T09:51:27.191738Z",
     "iopub.status.idle": "2025-07-04T09:51:27.196338Z",
     "shell.execute_reply": "2025-07-04T09:51:27.195719Z",
     "shell.execute_reply.started": "2025-07-04T09:51:27.192304Z"
    }
   },
   "outputs": [],
   "source": [
    "fp16_infer_time = metrics.speed['inference']"
   ]
  },
  {
   "cell_type": "code",
   "execution_count": 48,
   "id": "bb59f672-8b78-4c46-8119-3634a2b1ac3d",
   "metadata": {
    "execution": {
     "iopub.execute_input": "2025-07-04T09:51:29.131207Z",
     "iopub.status.busy": "2025-07-04T09:51:29.130291Z",
     "iopub.status.idle": "2025-07-04T09:51:29.136031Z",
     "shell.execute_reply": "2025-07-04T09:51:29.135591Z",
     "shell.execute_reply.started": "2025-07-04T09:51:29.131182Z"
    }
   },
   "outputs": [
    {
     "name": "stderr",
     "output_type": "stream",
     "text": [
      "\u001b[32m2025-07-04 17:51:29.132\u001b[0m | \u001b[1mINFO    \u001b[0m | \u001b[36m__main__\u001b[0m:\u001b[36m<module>\u001b[0m:\u001b[36m1\u001b[0m - \u001b[1mfp16 trt engine-->YOLO load model evaluate inference speed:0.8 ms\u001b[0m\n"
     ]
    }
   ],
   "source": [
    "logger.info(f\"fp16 trt engine-->YOLO load model evaluate inference speed:{fp16_infer_time:.1f} ms\")"
   ]
  },
  {
   "cell_type": "code",
   "execution_count": 36,
   "id": "f2e6d74e-5cc7-49bd-9f55-704be6fcc6c6",
   "metadata": {
    "collapsed": true,
    "execution": {
     "iopub.execute_input": "2025-07-05T08:42:40.278222Z",
     "iopub.status.busy": "2025-07-05T08:42:40.277356Z",
     "iopub.status.idle": "2025-07-05T08:42:45.806195Z",
     "shell.execute_reply": "2025-07-05T08:42:45.805015Z",
     "shell.execute_reply.started": "2025-07-05T08:42:40.278164Z"
    },
    "jupyter": {
     "outputs_hidden": true
    }
   },
   "outputs": [
    {
     "name": "stdout",
     "output_type": "stream",
     "text": [
      "&&&& RUNNING TensorRT.trtexec [TensorRT v100700] [b23] # trtexec --loadEngine=weights/yolov8s-pose-fp16.engine --shapes=images:1x3x640x640\n",
      "[07/05/2025-16:42:41] [I] TF32 is enabled by default. Add --noTF32 flag to further improve accuracy with some performance cost.\n",
      "[07/05/2025-16:42:41] [I] === Model Options ===\n",
      "[07/05/2025-16:42:41] [I] Format: *\n",
      "[07/05/2025-16:42:41] [I] Model: \n",
      "[07/05/2025-16:42:41] [I] Output:\n",
      "[07/05/2025-16:42:41] [I] \n",
      "[07/05/2025-16:42:41] [I] === System Options ===\n",
      "[07/05/2025-16:42:41] [I] Device: 0\n",
      "[07/05/2025-16:42:41] [I] DLACore: \n",
      "[07/05/2025-16:42:41] [I] Plugins:\n",
      "[07/05/2025-16:42:41] [I] setPluginsToSerialize:\n",
      "[07/05/2025-16:42:41] [I] dynamicPlugins:\n",
      "[07/05/2025-16:42:41] [I] ignoreParsedPluginLibs: 0\n",
      "[07/05/2025-16:42:41] [I] \n",
      "[07/05/2025-16:42:41] [I] === Inference Options ===\n",
      "[07/05/2025-16:42:41] [I] Batch: Explicit\n",
      "[07/05/2025-16:42:41] [I] Input inference shape : images=1x3x640x640\n",
      "[07/05/2025-16:42:41] [I] Iterations: 10\n",
      "[07/05/2025-16:42:41] [I] Duration: 3s (+ 200ms warm up)\n",
      "[07/05/2025-16:42:41] [I] Sleep time: 0ms\n",
      "[07/05/2025-16:42:41] [I] Idle time: 0ms\n",
      "[07/05/2025-16:42:41] [I] Inference Streams: 1\n",
      "[07/05/2025-16:42:41] [I] ExposeDMA: Disabled\n",
      "[07/05/2025-16:42:41] [I] Data transfers: Enabled\n",
      "[07/05/2025-16:42:41] [I] Spin-wait: Disabled\n",
      "[07/05/2025-16:42:41] [I] Multithreading: Disabled\n",
      "[07/05/2025-16:42:41] [I] CUDA Graph: Disabled\n",
      "[07/05/2025-16:42:41] [I] Separate profiling: Disabled\n",
      "[07/05/2025-16:42:41] [I] Time Deserialize: Disabled\n",
      "[07/05/2025-16:42:41] [I] Time Refit: Disabled\n",
      "[07/05/2025-16:42:41] [I] NVTX verbosity: 0\n",
      "[07/05/2025-16:42:41] [I] Persistent Cache Ratio: 0\n",
      "[07/05/2025-16:42:41] [I] Optimization Profile Index: 0\n",
      "[07/05/2025-16:42:41] [I] Weight Streaming Budget: 100.000000%\n",
      "[07/05/2025-16:42:41] [I] Inputs:\n",
      "[07/05/2025-16:42:41] [I] Debug Tensor Save Destinations:\n",
      "[07/05/2025-16:42:41] [I] === Reporting Options ===\n",
      "[07/05/2025-16:42:41] [I] Verbose: Disabled\n",
      "[07/05/2025-16:42:41] [I] Averages: 10 inferences\n",
      "[07/05/2025-16:42:41] [I] Percentiles: 90,95,99\n",
      "[07/05/2025-16:42:41] [I] Dump refittable layers:Disabled\n",
      "[07/05/2025-16:42:41] [I] Dump output: Disabled\n",
      "[07/05/2025-16:42:41] [I] Profile: Disabled\n",
      "[07/05/2025-16:42:41] [I] Export timing to JSON file: \n",
      "[07/05/2025-16:42:41] [I] Export output to JSON file: \n",
      "[07/05/2025-16:42:41] [I] Export profile to JSON file: \n",
      "[07/05/2025-16:42:41] [I] \n",
      "[07/05/2025-16:42:41] [I] === Device Information ===\n",
      "[07/05/2025-16:42:41] [I] Available Devices: \n",
      "[07/05/2025-16:42:41] [I]   Device 0: \"NVIDIA L40\" UUID: GPU-24489db8-bad2-120a-7d4a-fc0957a903fb\n",
      "[07/05/2025-16:42:41] [I] Selected Device: NVIDIA L40\n",
      "[07/05/2025-16:42:41] [I] Selected Device ID: 0\n",
      "[07/05/2025-16:42:41] [I] Selected Device UUID: GPU-24489db8-bad2-120a-7d4a-fc0957a903fb\n",
      "[07/05/2025-16:42:41] [I] Compute Capability: 8.9\n",
      "[07/05/2025-16:42:41] [I] SMs: 142\n",
      "[07/05/2025-16:42:41] [I] Device Global Memory: 45385 MiB\n",
      "[07/05/2025-16:42:41] [I] Shared Memory per SM: 100 KiB\n",
      "[07/05/2025-16:42:41] [I] Memory Bus Width: 384 bits (ECC enabled)\n",
      "[07/05/2025-16:42:41] [I] Application Compute Clock Rate: 2.49 GHz\n",
      "[07/05/2025-16:42:41] [I] Application Memory Clock Rate: 9.001 GHz\n",
      "[07/05/2025-16:42:41] [I] \n",
      "[07/05/2025-16:42:41] [I] Note: The application clock rates do not reflect the actual clock rates that the GPU is currently running at.\n",
      "[07/05/2025-16:42:41] [I] \n",
      "[07/05/2025-16:42:41] [I] TensorRT version: 10.7.0\n",
      "[07/05/2025-16:42:41] [I] Loading standard plugins\n",
      "[07/05/2025-16:42:41] [I] [TRT] Loaded engine size: 25 MiB\n",
      "[07/05/2025-16:42:41] [I] Engine deserialized in 0.0654242 sec.\n",
      "[07/05/2025-16:42:41] [I] [TRT] [MemUsageChange] TensorRT-managed allocation in IExecutionContext creation: CPU +0, GPU +272, now: CPU 0, GPU 294 (MiB)\n",
      "[07/05/2025-16:42:41] [I] Setting persistentCacheLimit to 0 bytes.\n",
      "[07/05/2025-16:42:41] [I] Set shape of input tensor images to: 1x3x640x640\n",
      "[07/05/2025-16:42:41] [I] Created execution context with device memory size: 271.956 MiB\n",
      "[07/05/2025-16:42:41] [I] Using random values for input images\n",
      "[07/05/2025-16:42:41] [I] Input binding for images with dimensions 1x3x640x640 is created.\n",
      "[07/05/2025-16:42:41] [I] Output binding for output0 with dimensions 1x56x8400 is created.\n",
      "[07/05/2025-16:42:41] [I] Starting inference\n",
      "[07/05/2025-16:42:44] [I] Warmup completed 126 queries over 200 ms\n",
      "[07/05/2025-16:42:44] [I] Timing trace has 2298 queries over 3.00366 s\n",
      "[07/05/2025-16:42:44] [I] \n",
      "[07/05/2025-16:42:44] [I] === Trace details ===\n",
      "[07/05/2025-16:42:44] [I] Trace averages of 10 runs:\n",
      "[07/05/2025-16:42:44] [I] Average on 10 runs - GPU latency: 1.30253 ms - Host latency: 1.58157 ms (enqueue 0.828152 ms)\n",
      "[07/05/2025-16:42:44] [I] Average on 10 runs - GPU latency: 1.30263 ms - Host latency: 1.58175 ms (enqueue 0.828195 ms)\n",
      "[07/05/2025-16:42:44] [I] Average on 10 runs - GPU latency: 1.30253 ms - Host latency: 1.58267 ms (enqueue 0.828076 ms)\n",
      "[07/05/2025-16:42:44] [I] Average on 10 runs - GPU latency: 1.30192 ms - Host latency: 1.58124 ms (enqueue 0.825533 ms)\n",
      "[07/05/2025-16:42:44] [I] Average on 10 runs - GPU latency: 1.30232 ms - Host latency: 1.58254 ms (enqueue 0.822606 ms)\n",
      "[07/05/2025-16:42:44] [I] Average on 10 runs - GPU latency: 1.30274 ms - Host latency: 1.58297 ms (enqueue 0.823108 ms)\n",
      "[07/05/2025-16:42:44] [I] Average on 10 runs - GPU latency: 1.30232 ms - Host latency: 1.58157 ms (enqueue 0.824594 ms)\n",
      "[07/05/2025-16:42:44] [I] Average on 10 runs - GPU latency: 1.30253 ms - Host latency: 1.58249 ms (enqueue 0.822308 ms)\n",
      "[07/05/2025-16:42:44] [I] Average on 10 runs - GPU latency: 1.30202 ms - Host latency: 1.58087 ms (enqueue 0.822717 ms)\n",
      "[07/05/2025-16:42:44] [I] Average on 10 runs - GPU latency: 1.30264 ms - Host latency: 1.58239 ms (enqueue 0.823651 ms)\n",
      "[07/05/2025-16:42:44] [I] Average on 10 runs - GPU latency: 1.30233 ms - Host latency: 1.58224 ms (enqueue 0.824335 ms)\n",
      "[07/05/2025-16:42:44] [I] Average on 10 runs - GPU latency: 1.30222 ms - Host latency: 1.58165 ms (enqueue 0.821432 ms)\n",
      "[07/05/2025-16:42:44] [I] Average on 10 runs - GPU latency: 1.30263 ms - Host latency: 1.58177 ms (enqueue 0.826477 ms)\n",
      "[07/05/2025-16:42:44] [I] Average on 10 runs - GPU latency: 1.30233 ms - Host latency: 1.58213 ms (enqueue 0.829123 ms)\n",
      "[07/05/2025-16:42:44] [I] Average on 10 runs - GPU latency: 1.30233 ms - Host latency: 1.58175 ms (enqueue 0.827121 ms)\n",
      "[07/05/2025-16:42:44] [I] Average on 10 runs - GPU latency: 1.30242 ms - Host latency: 1.58158 ms (enqueue 0.824066 ms)\n",
      "[07/05/2025-16:42:44] [I] Average on 10 runs - GPU latency: 1.30243 ms - Host latency: 1.58167 ms (enqueue 0.826691 ms)\n",
      "[07/05/2025-16:42:44] [I] Average on 10 runs - GPU latency: 1.30243 ms - Host latency: 1.58229 ms (enqueue 0.825388 ms)\n",
      "[07/05/2025-16:42:44] [I] Average on 10 runs - GPU latency: 1.30273 ms - Host latency: 1.58197 ms (enqueue 0.825964 ms)\n",
      "[07/05/2025-16:42:44] [I] Average on 10 runs - GPU latency: 1.30232 ms - Host latency: 1.58152 ms (enqueue 0.823285 ms)\n",
      "[07/05/2025-16:42:44] [I] Average on 10 runs - GPU latency: 1.30243 ms - Host latency: 1.5825 ms (enqueue 0.825388 ms)\n",
      "[07/05/2025-16:42:44] [I] Average on 10 runs - GPU latency: 1.30324 ms - Host latency: 1.584 ms (enqueue 0.82294 ms)\n",
      "[07/05/2025-16:42:44] [I] Average on 10 runs - GPU latency: 1.30243 ms - Host latency: 1.58176 ms (enqueue 0.825967 ms)\n",
      "[07/05/2025-16:42:44] [I] Average on 10 runs - GPU latency: 1.30202 ms - Host latency: 1.58073 ms (enqueue 0.822647 ms)\n",
      "[07/05/2025-16:42:44] [I] Average on 10 runs - GPU latency: 1.30222 ms - Host latency: 1.58185 ms (enqueue 0.823895 ms)\n",
      "[07/05/2025-16:42:44] [I] Average on 10 runs - GPU latency: 1.30211 ms - Host latency: 1.58076 ms (enqueue 0.822461 ms)\n",
      "[07/05/2025-16:42:44] [I] Average on 10 runs - GPU latency: 1.30264 ms - Host latency: 1.58282 ms (enqueue 0.821289 ms)\n",
      "[07/05/2025-16:42:44] [I] Average on 10 runs - GPU latency: 1.30233 ms - Host latency: 1.58095 ms (enqueue 0.825751 ms)\n",
      "[07/05/2025-16:42:44] [I] Average on 10 runs - GPU latency: 1.30202 ms - Host latency: 1.58096 ms (enqueue 0.82102 ms)\n",
      "[07/05/2025-16:42:44] [I] Average on 10 runs - GPU latency: 1.30173 ms - Host latency: 1.58137 ms (enqueue 0.825678 ms)\n",
      "[07/05/2025-16:42:44] [I] Average on 10 runs - GPU latency: 1.30231 ms - Host latency: 1.58196 ms (enqueue 0.822681 ms)\n",
      "[07/05/2025-16:42:44] [I] Average on 10 runs - GPU latency: 1.30223 ms - Host latency: 1.58175 ms (enqueue 0.822815 ms)\n",
      "[07/05/2025-16:42:44] [I] Average on 10 runs - GPU latency: 1.30232 ms - Host latency: 1.58221 ms (enqueue 0.821057 ms)\n",
      "[07/05/2025-16:42:44] [I] Average on 10 runs - GPU latency: 1.30263 ms - Host latency: 1.5817 ms (enqueue 0.820758 ms)\n",
      "[07/05/2025-16:42:44] [I] Average on 10 runs - GPU latency: 1.30272 ms - Host latency: 1.58191 ms (enqueue 0.821905 ms)\n",
      "[07/05/2025-16:42:44] [I] Average on 10 runs - GPU latency: 1.30201 ms - Host latency: 1.58198 ms (enqueue 0.824835 ms)\n",
      "[07/05/2025-16:42:44] [I] Average on 10 runs - GPU latency: 1.30292 ms - Host latency: 1.58278 ms (enqueue 0.827374 ms)\n",
      "[07/05/2025-16:42:44] [I] Average on 10 runs - GPU latency: 1.30233 ms - Host latency: 1.58148 ms (enqueue 0.825946 ms)\n",
      "[07/05/2025-16:42:44] [I] Average on 10 runs - GPU latency: 1.30202 ms - Host latency: 1.58093 ms (enqueue 0.824408 ms)\n",
      "[07/05/2025-16:42:44] [I] Average on 10 runs - GPU latency: 1.30212 ms - Host latency: 1.58201 ms (enqueue 0.827509 ms)\n",
      "[07/05/2025-16:42:44] [I] Average on 10 runs - GPU latency: 1.30221 ms - Host latency: 1.58102 ms (enqueue 0.825317 ms)\n",
      "[07/05/2025-16:42:44] [I] Average on 10 runs - GPU latency: 1.30252 ms - Host latency: 1.58175 ms (enqueue 0.821967 ms)\n",
      "[07/05/2025-16:42:44] [I] Average on 10 runs - GPU latency: 1.30221 ms - Host latency: 1.58151 ms (enqueue 0.824695 ms)\n",
      "[07/05/2025-16:42:44] [I] Average on 10 runs - GPU latency: 1.30241 ms - Host latency: 1.58167 ms (enqueue 0.828369 ms)\n",
      "[07/05/2025-16:42:44] [I] Average on 10 runs - GPU latency: 1.30283 ms - Host latency: 1.58309 ms (enqueue 0.826715 ms)\n",
      "[07/05/2025-16:42:44] [I] Average on 10 runs - GPU latency: 1.30295 ms - Host latency: 1.58284 ms (enqueue 0.828119 ms)\n",
      "[07/05/2025-16:42:44] [I] Average on 10 runs - GPU latency: 1.30261 ms - Host latency: 1.58282 ms (enqueue 0.829486 ms)\n",
      "[07/05/2025-16:42:44] [I] Average on 10 runs - GPU latency: 1.30284 ms - Host latency: 1.5832 ms (enqueue 0.827045 ms)\n",
      "[07/05/2025-16:42:44] [I] Average on 10 runs - GPU latency: 1.30253 ms - Host latency: 1.58344 ms (enqueue 0.826373 ms)\n",
      "[07/05/2025-16:42:44] [I] Average on 10 runs - GPU latency: 1.3019 ms - Host latency: 1.58141 ms (enqueue 0.827661 ms)\n",
      "[07/05/2025-16:42:44] [I] Average on 10 runs - GPU latency: 1.30222 ms - Host latency: 1.58115 ms (enqueue 0.827338 ms)\n",
      "[07/05/2025-16:42:44] [I] Average on 10 runs - GPU latency: 1.30242 ms - Host latency: 1.58204 ms (enqueue 0.827991 ms)\n",
      "[07/05/2025-16:42:44] [I] Average on 10 runs - GPU latency: 1.30303 ms - Host latency: 1.58254 ms (enqueue 0.826172 ms)\n",
      "[07/05/2025-16:42:44] [I] Average on 10 runs - GPU latency: 1.30242 ms - Host latency: 1.58262 ms (enqueue 0.827844 ms)\n",
      "[07/05/2025-16:42:44] [I] Average on 10 runs - GPU latency: 1.30253 ms - Host latency: 1.58309 ms (enqueue 0.829144 ms)\n",
      "[07/05/2025-16:42:44] [I] Average on 10 runs - GPU latency: 1.30223 ms - Host latency: 1.58254 ms (enqueue 0.831976 ms)\n",
      "[07/05/2025-16:42:44] [I] Average on 10 runs - GPU latency: 1.30212 ms - Host latency: 1.58125 ms (enqueue 0.828088 ms)\n",
      "[07/05/2025-16:42:44] [I] Average on 10 runs - GPU latency: 1.30253 ms - Host latency: 1.58239 ms (enqueue 0.828589 ms)\n",
      "[07/05/2025-16:42:44] [I] Average on 10 runs - GPU latency: 1.30242 ms - Host latency: 1.58232 ms (enqueue 0.829785 ms)\n",
      "[07/05/2025-16:42:44] [I] Average on 10 runs - GPU latency: 1.30241 ms - Host latency: 1.58155 ms (enqueue 0.82868 ms)\n",
      "[07/05/2025-16:42:44] [I] Average on 10 runs - GPU latency: 1.30233 ms - Host latency: 1.58154 ms (enqueue 0.828278 ms)\n",
      "[07/05/2025-16:42:44] [I] Average on 10 runs - GPU latency: 1.30242 ms - Host latency: 1.58246 ms (enqueue 0.829596 ms)\n",
      "[07/05/2025-16:42:44] [I] Average on 10 runs - GPU latency: 1.30233 ms - Host latency: 1.58154 ms (enqueue 0.82655 ms)\n",
      "[07/05/2025-16:42:44] [I] Average on 10 runs - GPU latency: 1.30242 ms - Host latency: 1.58221 ms (enqueue 0.827325 ms)\n",
      "[07/05/2025-16:42:44] [I] Average on 10 runs - GPU latency: 1.30244 ms - Host latency: 1.58234 ms (enqueue 0.827332 ms)\n",
      "[07/05/2025-16:42:44] [I] Average on 10 runs - GPU latency: 1.30254 ms - Host latency: 1.58134 ms (enqueue 0.827307 ms)\n",
      "[07/05/2025-16:42:44] [I] Average on 10 runs - GPU latency: 1.30272 ms - Host latency: 1.58354 ms (enqueue 0.825513 ms)\n",
      "[07/05/2025-16:42:44] [I] Average on 10 runs - GPU latency: 1.30251 ms - Host latency: 1.58184 ms (enqueue 0.824805 ms)\n",
      "[07/05/2025-16:42:44] [I] Average on 10 runs - GPU latency: 1.30303 ms - Host latency: 1.58339 ms (enqueue 0.827637 ms)\n",
      "[07/05/2025-16:42:44] [I] Average on 10 runs - GPU latency: 1.30273 ms - Host latency: 1.5827 ms (enqueue 0.828101 ms)\n",
      "[07/05/2025-16:42:44] [I] Average on 10 runs - GPU latency: 1.30234 ms - Host latency: 1.58328 ms (enqueue 0.827771 ms)\n",
      "[07/05/2025-16:42:44] [I] Average on 10 runs - GPU latency: 1.30273 ms - Host latency: 1.58196 ms (enqueue 0.82738 ms)\n",
      "[07/05/2025-16:42:44] [I] Average on 10 runs - GPU latency: 1.30251 ms - Host latency: 1.5816 ms (enqueue 0.828308 ms)\n",
      "[07/05/2025-16:42:44] [I] Average on 10 runs - GPU latency: 1.30284 ms - Host latency: 1.58293 ms (enqueue 0.825549 ms)\n",
      "[07/05/2025-16:42:44] [I] Average on 10 runs - GPU latency: 1.30253 ms - Host latency: 1.58148 ms (enqueue 0.826746 ms)\n",
      "[07/05/2025-16:42:44] [I] Average on 10 runs - GPU latency: 1.30233 ms - Host latency: 1.58241 ms (enqueue 0.825684 ms)\n",
      "[07/05/2025-16:42:44] [I] Average on 10 runs - GPU latency: 1.302 ms - Host latency: 1.5811 ms (enqueue 0.826746 ms)\n",
      "[07/05/2025-16:42:44] [I] Average on 10 runs - GPU latency: 1.30242 ms - Host latency: 1.58224 ms (enqueue 0.831299 ms)\n",
      "[07/05/2025-16:42:44] [I] Average on 10 runs - GPU latency: 1.30255 ms - Host latency: 1.58195 ms (enqueue 0.827075 ms)\n",
      "[07/05/2025-16:42:44] [I] Average on 10 runs - GPU latency: 1.30192 ms - Host latency: 1.58098 ms (enqueue 0.825598 ms)\n",
      "[07/05/2025-16:42:44] [I] Average on 10 runs - GPU latency: 1.30234 ms - Host latency: 1.58151 ms (enqueue 0.828772 ms)\n",
      "[07/05/2025-16:42:44] [I] Average on 10 runs - GPU latency: 1.30233 ms - Host latency: 1.58232 ms (enqueue 0.825781 ms)\n",
      "[07/05/2025-16:42:44] [I] Average on 10 runs - GPU latency: 1.30283 ms - Host latency: 1.58206 ms (enqueue 0.826379 ms)\n",
      "[07/05/2025-16:42:44] [I] Average on 10 runs - GPU latency: 1.30192 ms - Host latency: 1.58126 ms (enqueue 0.82699 ms)\n",
      "[07/05/2025-16:42:44] [I] Average on 10 runs - GPU latency: 1.30292 ms - Host latency: 1.58235 ms (enqueue 0.827283 ms)\n",
      "[07/05/2025-16:42:44] [I] Average on 10 runs - GPU latency: 1.30221 ms - Host latency: 1.5821 ms (enqueue 0.825903 ms)\n",
      "[07/05/2025-16:42:44] [I] Average on 10 runs - GPU latency: 1.30254 ms - Host latency: 1.58188 ms (enqueue 0.826843 ms)\n",
      "[07/05/2025-16:42:44] [I] Average on 10 runs - GPU latency: 1.30254 ms - Host latency: 1.58186 ms (enqueue 0.827722 ms)\n",
      "[07/05/2025-16:42:44] [I] Average on 10 runs - GPU latency: 1.30236 ms - Host latency: 1.58215 ms (enqueue 0.828247 ms)\n",
      "[07/05/2025-16:42:44] [I] Average on 10 runs - GPU latency: 1.30264 ms - Host latency: 1.58228 ms (enqueue 0.823547 ms)\n",
      "[07/05/2025-16:42:44] [I] Average on 10 runs - GPU latency: 1.3026 ms - Host latency: 1.58136 ms (enqueue 0.72887 ms)\n",
      "[07/05/2025-16:42:44] [I] Average on 10 runs - GPU latency: 1.30264 ms - Host latency: 1.58184 ms (enqueue 0.728906 ms)\n",
      "[07/05/2025-16:42:44] [I] Average on 10 runs - GPU latency: 1.30211 ms - Host latency: 1.58248 ms (enqueue 0.727979 ms)\n",
      "[07/05/2025-16:42:44] [I] Average on 10 runs - GPU latency: 1.30243 ms - Host latency: 1.58197 ms (enqueue 0.730188 ms)\n",
      "[07/05/2025-16:42:44] [I] Average on 10 runs - GPU latency: 1.30181 ms - Host latency: 1.5806 ms (enqueue 0.727148 ms)\n",
      "[07/05/2025-16:42:44] [I] Average on 10 runs - GPU latency: 1.30283 ms - Host latency: 1.58291 ms (enqueue 0.729419 ms)\n",
      "[07/05/2025-16:42:44] [I] Average on 10 runs - GPU latency: 1.30233 ms - Host latency: 1.5812 ms (enqueue 0.726648 ms)\n",
      "[07/05/2025-16:42:44] [I] Average on 10 runs - GPU latency: 1.30203 ms - Host latency: 1.58263 ms (enqueue 0.725476 ms)\n",
      "[07/05/2025-16:42:44] [I] Average on 10 runs - GPU latency: 1.30233 ms - Host latency: 1.58131 ms (enqueue 0.725146 ms)\n",
      "[07/05/2025-16:42:44] [I] Average on 10 runs - GPU latency: 1.30233 ms - Host latency: 1.5817 ms (enqueue 0.727454 ms)\n",
      "[07/05/2025-16:42:44] [I] Average on 10 runs - GPU latency: 1.42788 ms - Host latency: 1.7108 ms (enqueue 1.09106 ms)\n",
      "[07/05/2025-16:42:44] [I] Average on 10 runs - GPU latency: 1.30212 ms - Host latency: 1.58174 ms (enqueue 0.730591 ms)\n",
      "[07/05/2025-16:42:44] [I] Average on 10 runs - GPU latency: 1.30243 ms - Host latency: 1.583 ms (enqueue 0.7302 ms)\n",
      "[07/05/2025-16:42:44] [I] Average on 10 runs - GPU latency: 1.30232 ms - Host latency: 1.58195 ms (enqueue 0.728674 ms)\n",
      "[07/05/2025-16:42:44] [I] Average on 10 runs - GPU latency: 1.30265 ms - Host latency: 1.58257 ms (enqueue 0.728748 ms)\n",
      "[07/05/2025-16:42:44] [I] Average on 10 runs - GPU latency: 1.30233 ms - Host latency: 1.58146 ms (enqueue 0.730334 ms)\n",
      "[07/05/2025-16:42:44] [I] Average on 10 runs - GPU latency: 1.30242 ms - Host latency: 1.5842 ms (enqueue 0.728064 ms)\n",
      "[07/05/2025-16:42:44] [I] Average on 10 runs - GPU latency: 1.30225 ms - Host latency: 1.58253 ms (enqueue 0.729614 ms)\n",
      "[07/05/2025-16:42:44] [I] Average on 10 runs - GPU latency: 1.30313 ms - Host latency: 1.5823 ms (enqueue 0.729651 ms)\n",
      "[07/05/2025-16:42:44] [I] Average on 10 runs - GPU latency: 1.30212 ms - Host latency: 1.5817 ms (enqueue 0.724622 ms)\n",
      "[07/05/2025-16:42:44] [I] Average on 10 runs - GPU latency: 1.30243 ms - Host latency: 1.58243 ms (enqueue 0.726367 ms)\n",
      "[07/05/2025-16:42:44] [I] Average on 10 runs - GPU latency: 1.30253 ms - Host latency: 1.58198 ms (enqueue 0.725403 ms)\n",
      "[07/05/2025-16:42:44] [I] Average on 10 runs - GPU latency: 1.30293 ms - Host latency: 1.58203 ms (enqueue 0.727771 ms)\n",
      "[07/05/2025-16:42:44] [I] Average on 10 runs - GPU latency: 1.30222 ms - Host latency: 1.58219 ms (enqueue 0.72439 ms)\n",
      "[07/05/2025-16:42:44] [I] Average on 10 runs - GPU latency: 1.30284 ms - Host latency: 1.5819 ms (enqueue 0.726257 ms)\n",
      "[07/05/2025-16:42:44] [I] Average on 10 runs - GPU latency: 1.30232 ms - Host latency: 1.58132 ms (enqueue 0.724902 ms)\n",
      "[07/05/2025-16:42:44] [I] Average on 10 runs - GPU latency: 1.30316 ms - Host latency: 1.58239 ms (enqueue 0.726904 ms)\n",
      "[07/05/2025-16:42:44] [I] Average on 10 runs - GPU latency: 1.30264 ms - Host latency: 1.58254 ms (enqueue 0.727368 ms)\n",
      "[07/05/2025-16:42:44] [I] Average on 10 runs - GPU latency: 1.30242 ms - Host latency: 1.58143 ms (enqueue 0.726831 ms)\n",
      "[07/05/2025-16:42:44] [I] Average on 10 runs - GPU latency: 1.30231 ms - Host latency: 1.58187 ms (enqueue 0.726062 ms)\n",
      "[07/05/2025-16:42:44] [I] Average on 10 runs - GPU latency: 1.30262 ms - Host latency: 1.58263 ms (enqueue 0.727197 ms)\n",
      "[07/05/2025-16:42:44] [I] Average on 10 runs - GPU latency: 1.30284 ms - Host latency: 1.58201 ms (enqueue 0.72594 ms)\n",
      "[07/05/2025-16:42:44] [I] Average on 10 runs - GPU latency: 1.30192 ms - Host latency: 1.58137 ms (enqueue 0.727197 ms)\n",
      "[07/05/2025-16:42:44] [I] Average on 10 runs - GPU latency: 1.30245 ms - Host latency: 1.58295 ms (enqueue 0.727637 ms)\n",
      "[07/05/2025-16:42:44] [I] Average on 10 runs - GPU latency: 1.30248 ms - Host latency: 1.58206 ms (enqueue 0.728162 ms)\n",
      "[07/05/2025-16:42:44] [I] Average on 10 runs - GPU latency: 1.30254 ms - Host latency: 1.58261 ms (enqueue 0.728735 ms)\n",
      "[07/05/2025-16:42:44] [I] Average on 10 runs - GPU latency: 1.30253 ms - Host latency: 1.58168 ms (enqueue 0.730066 ms)\n",
      "[07/05/2025-16:42:44] [I] Average on 10 runs - GPU latency: 1.30251 ms - Host latency: 1.5818 ms (enqueue 0.724744 ms)\n",
      "[07/05/2025-16:42:44] [I] Average on 10 runs - GPU latency: 1.30264 ms - Host latency: 1.58243 ms (enqueue 0.727979 ms)\n",
      "[07/05/2025-16:42:44] [I] Average on 10 runs - GPU latency: 1.30284 ms - Host latency: 1.58379 ms (enqueue 0.727332 ms)\n",
      "[07/05/2025-16:42:44] [I] Average on 10 runs - GPU latency: 1.30253 ms - Host latency: 1.58187 ms (enqueue 0.72865 ms)\n",
      "[07/05/2025-16:42:44] [I] Average on 10 runs - GPU latency: 1.30253 ms - Host latency: 1.58175 ms (enqueue 0.729163 ms)\n",
      "[07/05/2025-16:42:44] [I] Average on 10 runs - GPU latency: 1.30264 ms - Host latency: 1.58282 ms (enqueue 0.72771 ms)\n",
      "[07/05/2025-16:42:44] [I] Average on 10 runs - GPU latency: 1.30265 ms - Host latency: 1.5818 ms (enqueue 0.726501 ms)\n",
      "[07/05/2025-16:42:44] [I] Average on 10 runs - GPU latency: 1.30211 ms - Host latency: 1.58151 ms (enqueue 0.727222 ms)\n",
      "[07/05/2025-16:42:44] [I] Average on 10 runs - GPU latency: 1.30273 ms - Host latency: 1.58202 ms (enqueue 0.72561 ms)\n",
      "[07/05/2025-16:42:44] [I] Average on 10 runs - GPU latency: 1.30193 ms - Host latency: 1.58119 ms (enqueue 0.726025 ms)\n",
      "[07/05/2025-16:42:44] [I] Average on 10 runs - GPU latency: 1.30222 ms - Host latency: 1.58148 ms (enqueue 0.727527 ms)\n",
      "[07/05/2025-16:42:44] [I] Average on 10 runs - GPU latency: 1.30234 ms - Host latency: 1.58145 ms (enqueue 0.727002 ms)\n",
      "[07/05/2025-16:42:44] [I] Average on 10 runs - GPU latency: 1.30233 ms - Host latency: 1.58241 ms (enqueue 0.72915 ms)\n",
      "[07/05/2025-16:42:44] [I] Average on 10 runs - GPU latency: 1.30211 ms - Host latency: 1.58104 ms (enqueue 0.726196 ms)\n",
      "[07/05/2025-16:42:44] [I] Average on 10 runs - GPU latency: 1.34983 ms - Host latency: 1.6338 ms (enqueue 0.939185 ms)\n",
      "[07/05/2025-16:42:44] [I] Average on 10 runs - GPU latency: 1.34302 ms - Host latency: 1.62334 ms (enqueue 0.931592 ms)\n",
      "[07/05/2025-16:42:44] [I] Average on 10 runs - GPU latency: 1.30254 ms - Host latency: 1.58196 ms (enqueue 0.85061 ms)\n",
      "[07/05/2025-16:42:44] [I] Average on 10 runs - GPU latency: 1.30271 ms - Host latency: 1.58279 ms (enqueue 0.840942 ms)\n",
      "[07/05/2025-16:42:44] [I] Average on 10 runs - GPU latency: 1.30281 ms - Host latency: 1.58208 ms (enqueue 0.837915 ms)\n",
      "[07/05/2025-16:42:44] [I] Average on 10 runs - GPU latency: 1.30232 ms - Host latency: 1.58301 ms (enqueue 0.834595 ms)\n",
      "[07/05/2025-16:42:44] [I] Average on 10 runs - GPU latency: 1.30247 ms - Host latency: 1.58264 ms (enqueue 0.834204 ms)\n",
      "[07/05/2025-16:42:44] [I] Average on 10 runs - GPU latency: 1.30222 ms - Host latency: 1.5813 ms (enqueue 0.836279 ms)\n",
      "[07/05/2025-16:42:44] [I] Average on 10 runs - GPU latency: 1.30222 ms - Host latency: 1.58179 ms (enqueue 0.830176 ms)\n",
      "[07/05/2025-16:42:44] [I] Average on 10 runs - GPU latency: 1.30242 ms - Host latency: 1.58169 ms (enqueue 0.832056 ms)\n",
      "[07/05/2025-16:42:44] [I] Average on 10 runs - GPU latency: 1.30205 ms - Host latency: 1.58162 ms (enqueue 0.834814 ms)\n",
      "[07/05/2025-16:42:44] [I] Average on 10 runs - GPU latency: 1.30256 ms - Host latency: 1.58264 ms (enqueue 0.835547 ms)\n",
      "[07/05/2025-16:42:44] [I] Average on 10 runs - GPU latency: 1.30264 ms - Host latency: 1.58193 ms (enqueue 0.834595 ms)\n",
      "[07/05/2025-16:42:44] [I] Average on 10 runs - GPU latency: 1.30259 ms - Host latency: 1.58206 ms (enqueue 0.833447 ms)\n",
      "[07/05/2025-16:42:44] [I] Average on 10 runs - GPU latency: 1.30203 ms - Host latency: 1.58154 ms (enqueue 0.833789 ms)\n",
      "[07/05/2025-16:42:44] [I] Average on 10 runs - GPU latency: 1.30183 ms - Host latency: 1.58167 ms (enqueue 0.83562 ms)\n",
      "[07/05/2025-16:42:44] [I] Average on 10 runs - GPU latency: 1.30237 ms - Host latency: 1.58257 ms (enqueue 0.83584 ms)\n",
      "[07/05/2025-16:42:44] [I] Average on 10 runs - GPU latency: 1.30249 ms - Host latency: 1.58191 ms (enqueue 0.833179 ms)\n",
      "[07/05/2025-16:42:44] [I] Average on 10 runs - GPU latency: 1.30242 ms - Host latency: 1.5823 ms (enqueue 0.832178 ms)\n",
      "[07/05/2025-16:42:44] [I] Average on 10 runs - GPU latency: 1.30242 ms - Host latency: 1.58162 ms (enqueue 0.831665 ms)\n",
      "[07/05/2025-16:42:44] [I] Average on 10 runs - GPU latency: 1.30271 ms - Host latency: 1.58203 ms (enqueue 0.831348 ms)\n",
      "[07/05/2025-16:42:44] [I] Average on 10 runs - GPU latency: 1.30288 ms - Host latency: 1.58267 ms (enqueue 0.836035 ms)\n",
      "[07/05/2025-16:42:44] [I] Average on 10 runs - GPU latency: 1.30264 ms - Host latency: 1.58245 ms (enqueue 0.836743 ms)\n",
      "[07/05/2025-16:42:44] [I] Average on 10 runs - GPU latency: 1.30288 ms - Host latency: 1.58318 ms (enqueue 0.830078 ms)\n",
      "[07/05/2025-16:42:44] [I] Average on 10 runs - GPU latency: 1.30227 ms - Host latency: 1.58132 ms (enqueue 0.832959 ms)\n",
      "[07/05/2025-16:42:44] [I] Average on 10 runs - GPU latency: 1.30273 ms - Host latency: 1.58167 ms (enqueue 0.834302 ms)\n",
      "[07/05/2025-16:42:44] [I] Average on 10 runs - GPU latency: 1.30254 ms - Host latency: 1.58281 ms (enqueue 0.830859 ms)\n",
      "[07/05/2025-16:42:44] [I] Average on 10 runs - GPU latency: 1.30264 ms - Host latency: 1.58337 ms (enqueue 0.834521 ms)\n",
      "[07/05/2025-16:42:44] [I] Average on 10 runs - GPU latency: 1.30264 ms - Host latency: 1.58184 ms (enqueue 0.832129 ms)\n",
      "[07/05/2025-16:42:44] [I] Average on 10 runs - GPU latency: 1.30283 ms - Host latency: 1.58193 ms (enqueue 0.834033 ms)\n",
      "[07/05/2025-16:42:44] [I] Average on 10 runs - GPU latency: 1.30244 ms - Host latency: 1.58247 ms (enqueue 0.831787 ms)\n",
      "[07/05/2025-16:42:44] [I] Average on 10 runs - GPU latency: 1.30222 ms - Host latency: 1.58145 ms (enqueue 0.828906 ms)\n",
      "[07/05/2025-16:42:44] [I] Average on 10 runs - GPU latency: 1.30264 ms - Host latency: 1.58252 ms (enqueue 0.833838 ms)\n",
      "[07/05/2025-16:42:44] [I] Average on 10 runs - GPU latency: 1.30305 ms - Host latency: 1.58335 ms (enqueue 0.83125 ms)\n",
      "[07/05/2025-16:42:44] [I] Average on 10 runs - GPU latency: 1.30247 ms - Host latency: 1.58237 ms (enqueue 0.832886 ms)\n",
      "[07/05/2025-16:42:44] [I] Average on 10 runs - GPU latency: 1.30222 ms - Host latency: 1.58118 ms (enqueue 0.833325 ms)\n",
      "[07/05/2025-16:42:44] [I] Average on 10 runs - GPU latency: 1.30251 ms - Host latency: 1.58164 ms (enqueue 0.829224 ms)\n",
      "[07/05/2025-16:42:44] [I] Average on 10 runs - GPU latency: 1.30259 ms - Host latency: 1.58291 ms (enqueue 0.831982 ms)\n",
      "[07/05/2025-16:42:44] [I] Average on 10 runs - GPU latency: 1.30237 ms - Host latency: 1.58159 ms (enqueue 0.833203 ms)\n",
      "[07/05/2025-16:42:44] [I] Average on 10 runs - GPU latency: 1.30266 ms - Host latency: 1.58191 ms (enqueue 0.832153 ms)\n",
      "[07/05/2025-16:42:44] [I] Average on 10 runs - GPU latency: 1.30261 ms - Host latency: 1.58167 ms (enqueue 0.831641 ms)\n",
      "[07/05/2025-16:42:44] [I] Average on 10 runs - GPU latency: 1.30244 ms - Host latency: 1.58154 ms (enqueue 0.836035 ms)\n",
      "[07/05/2025-16:42:44] [I] Average on 10 runs - GPU latency: 1.30264 ms - Host latency: 1.58254 ms (enqueue 0.835303 ms)\n",
      "[07/05/2025-16:42:44] [I] Average on 10 runs - GPU latency: 1.30256 ms - Host latency: 1.58171 ms (enqueue 0.831421 ms)\n",
      "[07/05/2025-16:42:44] [I] Average on 10 runs - GPU latency: 1.30242 ms - Host latency: 1.58154 ms (enqueue 0.831323 ms)\n",
      "[07/05/2025-16:42:44] [I] Average on 10 runs - GPU latency: 1.30244 ms - Host latency: 1.58228 ms (enqueue 0.834424 ms)\n",
      "[07/05/2025-16:42:44] [I] Average on 10 runs - GPU latency: 1.30249 ms - Host latency: 1.58232 ms (enqueue 0.833594 ms)\n",
      "[07/05/2025-16:42:44] [I] Average on 10 runs - GPU latency: 1.303 ms - Host latency: 1.58218 ms (enqueue 0.83064 ms)\n",
      "[07/05/2025-16:42:44] [I] Average on 10 runs - GPU latency: 1.30247 ms - Host latency: 1.58196 ms (enqueue 0.83335 ms)\n",
      "[07/05/2025-16:42:44] [I] Average on 10 runs - GPU latency: 1.303 ms - Host latency: 1.58354 ms (enqueue 0.830566 ms)\n",
      "[07/05/2025-16:42:44] [I] Average on 10 runs - GPU latency: 1.30249 ms - Host latency: 1.58284 ms (enqueue 0.833057 ms)\n",
      "[07/05/2025-16:42:44] [I] Average on 10 runs - GPU latency: 1.30251 ms - Host latency: 1.58201 ms (enqueue 0.839209 ms)\n",
      "[07/05/2025-16:42:44] [I] Average on 10 runs - GPU latency: 1.30269 ms - Host latency: 1.58252 ms (enqueue 0.832324 ms)\n",
      "[07/05/2025-16:42:44] [I] Average on 10 runs - GPU latency: 1.30203 ms - Host latency: 1.58203 ms (enqueue 0.832666 ms)\n",
      "[07/05/2025-16:42:44] [I] Average on 10 runs - GPU latency: 1.30264 ms - Host latency: 1.58262 ms (enqueue 0.831519 ms)\n",
      "[07/05/2025-16:42:44] [I] Average on 10 runs - GPU latency: 1.30234 ms - Host latency: 1.58127 ms (enqueue 0.831201 ms)\n",
      "[07/05/2025-16:42:44] [I] Average on 10 runs - GPU latency: 1.30225 ms - Host latency: 1.58232 ms (enqueue 0.832886 ms)\n",
      "[07/05/2025-16:42:44] [I] Average on 10 runs - GPU latency: 1.33018 ms - Host latency: 1.61348 ms (enqueue 1.01292 ms)\n",
      "[07/05/2025-16:42:44] [I] Average on 10 runs - GPU latency: 1.36978 ms - Host latency: 1.65232 ms (enqueue 1.09087 ms)\n",
      "[07/05/2025-16:42:44] [I] Average on 10 runs - GPU latency: 1.30217 ms - Host latency: 1.58313 ms (enqueue 0.858252 ms)\n",
      "[07/05/2025-16:42:44] [I] Average on 10 runs - GPU latency: 1.30247 ms - Host latency: 1.58279 ms (enqueue 0.842969 ms)\n",
      "[07/05/2025-16:42:44] [I] Average on 10 runs - GPU latency: 1.30273 ms - Host latency: 1.5822 ms (enqueue 0.83916 ms)\n",
      "[07/05/2025-16:42:44] [I] Average on 10 runs - GPU latency: 1.30283 ms - Host latency: 1.58188 ms (enqueue 0.838696 ms)\n",
      "[07/05/2025-16:42:44] [I] Average on 10 runs - GPU latency: 1.30212 ms - Host latency: 1.58191 ms (enqueue 0.831104 ms)\n",
      "[07/05/2025-16:42:44] [I] Average on 10 runs - GPU latency: 1.30283 ms - Host latency: 1.58311 ms (enqueue 0.835181 ms)\n",
      "[07/05/2025-16:42:44] [I] Average on 10 runs - GPU latency: 1.30254 ms - Host latency: 1.58145 ms (enqueue 0.832642 ms)\n",
      "[07/05/2025-16:42:44] [I] Average on 10 runs - GPU latency: 1.30222 ms - Host latency: 1.58157 ms (enqueue 0.832105 ms)\n",
      "[07/05/2025-16:42:44] [I] Average on 10 runs - GPU latency: 1.30247 ms - Host latency: 1.58264 ms (enqueue 0.829639 ms)\n",
      "[07/05/2025-16:42:44] [I] Average on 10 runs - GPU latency: 1.30281 ms - Host latency: 1.58213 ms (enqueue 0.830933 ms)\n",
      "[07/05/2025-16:42:44] [I] Average on 10 runs - GPU latency: 1.30271 ms - Host latency: 1.58218 ms (enqueue 0.827612 ms)\n",
      "[07/05/2025-16:42:44] [I] Average on 10 runs - GPU latency: 1.30239 ms - Host latency: 1.58159 ms (enqueue 0.828833 ms)\n",
      "[07/05/2025-16:42:44] [I] Average on 10 runs - GPU latency: 1.30251 ms - Host latency: 1.58179 ms (enqueue 0.82937 ms)\n",
      "[07/05/2025-16:42:44] [I] Average on 10 runs - GPU latency: 1.30234 ms - Host latency: 1.58213 ms (enqueue 0.83103 ms)\n",
      "[07/05/2025-16:42:44] [I] Average on 10 runs - GPU latency: 1.30247 ms - Host latency: 1.58206 ms (enqueue 0.831348 ms)\n",
      "[07/05/2025-16:42:44] [I] Average on 10 runs - GPU latency: 1.30251 ms - Host latency: 1.58162 ms (enqueue 0.828198 ms)\n",
      "[07/05/2025-16:42:44] [I] Average on 10 runs - GPU latency: 1.30195 ms - Host latency: 1.58169 ms (enqueue 0.82915 ms)\n",
      "[07/05/2025-16:42:44] [I] Average on 10 runs - GPU latency: 1.30212 ms - Host latency: 1.58247 ms (enqueue 0.829785 ms)\n",
      "[07/05/2025-16:42:44] [I] Average on 10 runs - GPU latency: 1.30276 ms - Host latency: 1.5824 ms (enqueue 0.827832 ms)\n",
      "[07/05/2025-16:42:44] [I] Average on 10 runs - GPU latency: 1.30259 ms - Host latency: 1.58152 ms (enqueue 0.831567 ms)\n",
      "[07/05/2025-16:42:44] [I] Average on 10 runs - GPU latency: 1.30247 ms - Host latency: 1.58247 ms (enqueue 0.830054 ms)\n",
      "[07/05/2025-16:42:44] [I] Average on 10 runs - GPU latency: 1.30291 ms - Host latency: 1.58247 ms (enqueue 0.833862 ms)\n",
      "[07/05/2025-16:42:44] [I] Average on 10 runs - GPU latency: 1.30251 ms - Host latency: 1.58323 ms (enqueue 0.837402 ms)\n",
      "[07/05/2025-16:42:44] [I] Average on 10 runs - GPU latency: 1.30303 ms - Host latency: 1.58345 ms (enqueue 0.83252 ms)\n",
      "[07/05/2025-16:42:44] [I] Average on 10 runs - GPU latency: 1.30264 ms - Host latency: 1.58274 ms (enqueue 0.833032 ms)\n",
      "[07/05/2025-16:42:44] [I] Average on 10 runs - GPU latency: 1.30256 ms - Host latency: 1.58232 ms (enqueue 0.82998 ms)\n",
      "[07/05/2025-16:42:44] [I] Average on 10 runs - GPU latency: 1.30222 ms - Host latency: 1.58145 ms (enqueue 0.862842 ms)\n",
      "[07/05/2025-16:42:44] [I] Average on 10 runs - GPU latency: 1.30225 ms - Host latency: 1.58193 ms (enqueue 0.829834 ms)\n",
      "[07/05/2025-16:42:44] [I] Average on 10 runs - GPU latency: 1.30242 ms - Host latency: 1.58149 ms (enqueue 0.831885 ms)\n",
      "[07/05/2025-16:42:44] [I] \n",
      "[07/05/2025-16:42:44] [I] === Performance summary ===\n",
      "[07/05/2025-16:42:44] [I] Throughput: 765.068 qps\n",
      "[07/05/2025-16:42:44] [I] Latency: min = 1.57861 ms, max = 2.76135 ms, mean = 1.58348 ms, median = 1.58173 ms, percentile(90%) = 1.58374 ms, percentile(95%) = 1.58691 ms, percentile(99%) = 1.59119 ms\n",
      "[07/05/2025-16:42:44] [I] Enqueue Time: min = 0.713867 ms, max = 3.63025 ms, mean = 0.811519 ms, median = 0.826294 ms, percentile(90%) = 0.839111 ms, percentile(95%) = 0.843018 ms, percentile(99%) = 0.863525 ms\n",
      "[07/05/2025-16:42:44] [I] H2D Latency: min = 0.202148 ms, max = 0.227295 ms, mean = 0.203103 ms, median = 0.202881 ms, percentile(90%) = 0.203369 ms, percentile(95%) = 0.203857 ms, percentile(99%) = 0.2099 ms\n",
      "[07/05/2025-16:42:44] [I] GPU Compute Time: min = 1.30029 ms, max = 2.47192 ms, mean = 1.30381 ms, median = 1.30249 ms, percentile(90%) = 1.30359 ms, percentile(95%) = 1.30371 ms, percentile(99%) = 1.30469 ms\n",
      "[07/05/2025-16:42:44] [I] D2H Latency: min = 0.0749512 ms, max = 0.0942383 ms, mean = 0.0765784 ms, median = 0.0759277 ms, percentile(90%) = 0.0776978 ms, percentile(95%) = 0.078125 ms, percentile(99%) = 0.0846558 ms\n",
      "[07/05/2025-16:42:44] [I] Total Host Walltime: 3.00366 s\n",
      "[07/05/2025-16:42:44] [I] Total GPU Compute Time: 2.99616 s\n",
      "[07/05/2025-16:42:44] [W] * GPU compute time is unstable, with coefficient of variance = 2.41788%.\n",
      "[07/05/2025-16:42:44] [W]   If not already in use, locking GPU clock frequency or adding --useSpinWait may improve the stability.\n",
      "[07/05/2025-16:42:44] [I] Explanations of the performance metrics are printed in the verbose logs.\n",
      "[07/05/2025-16:42:44] [I] \n",
      "&&&& PASSED TensorRT.trtexec [TensorRT v100700] [b23] # trtexec --loadEngine=weights/yolov8s-pose-fp16.engine --shapes=images:1x3x640x640\n"
     ]
    }
   ],
   "source": [
    "!trtexec --loadEngine=weights/yolov8s-pose-fp16.engine --shapes=images:1x3x640x640"
   ]
  },
  {
   "cell_type": "code",
   "execution_count": 35,
   "id": "48d2c636-2f08-4a5e-a9e3-ec664b83bc70",
   "metadata": {
    "execution": {
     "iopub.execute_input": "2025-07-05T08:42:33.563776Z",
     "iopub.status.busy": "2025-07-05T08:42:33.562953Z",
     "iopub.status.idle": "2025-07-05T08:42:33.570528Z",
     "shell.execute_reply": "2025-07-05T08:42:33.569739Z",
     "shell.execute_reply.started": "2025-07-05T08:42:33.563737Z"
    }
   },
   "outputs": [
    {
     "name": "stderr",
     "output_type": "stream",
     "text": [
      "\u001b[32m2025-07-05 16:42:33.565\u001b[0m | \u001b[1mINFO    \u001b[0m | \u001b[36m__main__\u001b[0m:\u001b[36m<module>\u001b[0m:\u001b[36m1\u001b[0m - \u001b[1mfp16 trt engine, batch 16, gpu mean time/per img: 6.75ms\u001b[0m\n"
     ]
    }
   ],
   "source": [
    "logger.info(f'fp16 trt engine, batch 16, gpu mean time/per img: 6.75ms')"
   ]
  },
  {
   "cell_type": "code",
   "execution_count": 37,
   "id": "45afc8d9-7784-45c6-9201-b3ceb703d4c7",
   "metadata": {
    "execution": {
     "iopub.execute_input": "2025-07-05T08:43:17.107958Z",
     "iopub.status.busy": "2025-07-05T08:43:17.107233Z",
     "iopub.status.idle": "2025-07-05T08:43:17.112959Z",
     "shell.execute_reply": "2025-07-05T08:43:17.112400Z",
     "shell.execute_reply.started": "2025-07-05T08:43:17.107917Z"
    }
   },
   "outputs": [
    {
     "name": "stderr",
     "output_type": "stream",
     "text": [
      "\u001b[32m2025-07-05 16:43:17.108\u001b[0m | \u001b[1mINFO    \u001b[0m | \u001b[36m__main__\u001b[0m:\u001b[36m<module>\u001b[0m:\u001b[36m1\u001b[0m - \u001b[1mfp16 trt engine, batch 1, gpu mean time/per img: 1.3ms\u001b[0m\n"
     ]
    }
   ],
   "source": [
    "logger.info(f'fp16 trt engine, batch 1, gpu mean time/per img: 1.3ms')"
   ]
  },
  {
   "cell_type": "markdown",
   "id": "a2bf1dd4-1f75-4b21-b9a5-2999a7daaede",
   "metadata": {},
   "source": [
    "# PTQ"
   ]
  },
  {
   "cell_type": "code",
   "execution_count": 9,
   "id": "344bf89f-b55b-4d17-82d4-9208bf6c0d55",
   "metadata": {
    "collapsed": true,
    "execution": {
     "iopub.execute_input": "2025-07-07T13:43:50.992742Z",
     "iopub.status.busy": "2025-07-07T13:43:50.992026Z",
     "iopub.status.idle": "2025-07-07T13:54:51.156016Z",
     "shell.execute_reply": "2025-07-07T13:54:51.155389Z",
     "shell.execute_reply.started": "2025-07-07T13:43:50.992713Z"
    },
    "jupyter": {
     "outputs_hidden": true
    }
   },
   "outputs": [
    {
     "name": "stdout",
     "output_type": "stream",
     "text": [
      "WARNING ⚠️ TensorRT requires GPU export, automatically assigning device=0\n",
      "Ultralytics 8.3.162 🚀 Python-3.10.18 torch-2.4.1+cu121 CUDA:0 (NVIDIA L40, 45386MiB)\n",
      "YOLOv8s-pose summary (fused): 81 layers, 11,615,724 parameters, 0 gradients, 30.2 GFLOPs\n",
      "\n",
      "\u001b[34m\u001b[1mPyTorch:\u001b[0m starting from 'weights/yolov8s-pose.pt' with input shape (8, 3, 640, 640) BCHW and output shape(s) (8, 56, 8400) (22.4 MB)\n",
      "\n",
      "\u001b[34m\u001b[1mONNX:\u001b[0m starting export with onnx 1.17.0 opset 19...\n",
      "\u001b[34m\u001b[1mONNX:\u001b[0m slimming with onnxslim 0.1.58...\n",
      "\u001b[34m\u001b[1mONNX:\u001b[0m export success ✅ 4.1s, saved as 'weights/yolov8s-pose.onnx' (44.4 MB)\n",
      "\n",
      "\u001b[34m\u001b[1mTensorRT:\u001b[0m starting export with TensorRT 8.6.1...\n",
      "\u001b[34m\u001b[1mTensorRT:\u001b[0m collecting INT8 calibration images from 'data=./datasets/my-coco-pose.yaml'\n",
      "Fast image access ✅ (ping: 0.0±0.0 ms, read: 3612.7±830.6 MB/s, size: 173.9 KB)\n"
     ]
    },
    {
     "name": "stderr",
     "output_type": "stream",
     "text": [
      "Scanning /data/xl/Projects/EdgeLite/datasets/coco-pose/labels/val2017.cache... 2346 images, 0 backgrounds, 0 corrupt: 1"
     ]
    },
    {
     "name": "stdout",
     "output_type": "stream",
     "text": [
      "[07/07/2025-21:43:56] [TRT] [I] The logger passed into createInferBuilder differs from one already provided for an existing builder, runtime, or refitter. Uses of the global logger, returned by nvinfer1::getLogger(), will return the existing value.\n"
     ]
    },
    {
     "name": "stderr",
     "output_type": "stream",
     "text": [
      "\n"
     ]
    },
    {
     "name": "stdout",
     "output_type": "stream",
     "text": [
      "[07/07/2025-21:43:56] [TRT] [I] [MemUsageChange] Init CUDA: CPU +0, GPU +0, now: CPU 896, GPU 1117 (MiB)\n",
      "[07/07/2025-21:44:03] [TRT] [I] [MemUsageChange] Init builder kernel library: CPU +1445, GPU +266, now: CPU 2417, GPU 1383 (MiB)\n",
      "[07/07/2025-21:44:03] [TRT] [I] ----------------------------------------------------------------\n",
      "[07/07/2025-21:44:03] [TRT] [I] Input filename:   weights/yolov8s-pose.onnx\n",
      "[07/07/2025-21:44:03] [TRT] [I] ONNX IR version:  0.0.9\n",
      "[07/07/2025-21:44:03] [TRT] [I] Opset version:    19\n",
      "[07/07/2025-21:44:03] [TRT] [I] Producer name:    pytorch\n",
      "[07/07/2025-21:44:03] [TRT] [I] Producer version: 2.4.1\n",
      "[07/07/2025-21:44:03] [TRT] [I] Domain:           \n",
      "[07/07/2025-21:44:03] [TRT] [I] Model version:    0\n",
      "[07/07/2025-21:44:03] [TRT] [I] Doc string:       \n",
      "[07/07/2025-21:44:03] [TRT] [I] ----------------------------------------------------------------\n",
      "[07/07/2025-21:44:03] [TRT] [W] onnx2trt_utils.cpp:374: Your ONNX model has been generated with INT64 weights, while TensorRT does not natively support INT64. Attempting to cast down to INT32.\n",
      "\u001b[34m\u001b[1mTensorRT:\u001b[0m input \"images\" with shape(-1, 3, -1, -1) DataType.FLOAT\n",
      "\u001b[34m\u001b[1mTensorRT:\u001b[0m output \"output0\" with shape(-1, 56, -1) DataType.FLOAT\n",
      "\u001b[34m\u001b[1mTensorRT:\u001b[0m building INT8 engine as weights/yolov8s-pose.engine\n",
      "[07/07/2025-21:44:03] [TRT] [I] Graph optimization time: 0.00423389 seconds.\n",
      "[07/07/2025-21:44:03] [TRT] [I] Calibration table does not match calibrator algorithm type.\n",
      "[07/07/2025-21:44:03] [TRT] [I] Timing cache disabled. Turning it on will improve builder speed.\n",
      "[07/07/2025-21:44:06] [TRT] [I] Detected 1 inputs and 4 output network tensors.\n",
      "[07/07/2025-21:44:08] [TRT] [I] Total Host Persistent Memory: 389968\n",
      "[07/07/2025-21:44:08] [TRT] [I] Total Device Persistent Memory: 1446400\n",
      "[07/07/2025-21:44:08] [TRT] [I] Total Scratch Memory: 0\n",
      "[07/07/2025-21:44:08] [TRT] [I] [MemUsageStats] Peak memory usage of TRT CPU/GPU memory allocators: CPU 4 MiB, GPU 300 MiB\n",
      "[07/07/2025-21:44:08] [TRT] [I] [BlockAssignment] Started assigning block shifts. This will take 347 steps to complete.\n",
      "[07/07/2025-21:44:08] [TRT] [I] [BlockAssignment] Algorithm ShiftNTopDown took 140.213ms to assign 32 blocks to 347 nodes requiring 429896704 bytes.\n",
      "[07/07/2025-21:44:08] [TRT] [I] Total Activation Memory: 429896704\n",
      "[07/07/2025-21:44:08] [TRT] [I] [MemUsageChange] TensorRT-managed allocation in IExecutionContext creation: CPU +0, GPU +411, now: CPU 0, GPU 457 (MiB)\n",
      "[07/07/2025-21:44:08] [TRT] [I] Starting Calibration.\n",
      "[07/07/2025-21:44:09] [TRT] [I]   Calibrated batch 0 in 1.2155 seconds.\n",
      "[07/07/2025-21:44:10] [TRT] [I]   Calibrated batch 1 in 1.17481 seconds.\n",
      "[07/07/2025-21:44:12] [TRT] [I]   Calibrated batch 2 in 1.16946 seconds.\n",
      "[07/07/2025-21:44:13] [TRT] [I]   Calibrated batch 3 in 1.17077 seconds.\n",
      "[07/07/2025-21:44:14] [TRT] [I]   Calibrated batch 4 in 1.18037 seconds.\n",
      "[07/07/2025-21:44:15] [TRT] [I]   Calibrated batch 5 in 1.17123 seconds.\n",
      "[07/07/2025-21:44:17] [TRT] [I]   Calibrated batch 6 in 1.1738 seconds.\n",
      "[07/07/2025-21:44:18] [TRT] [I]   Calibrated batch 7 in 1.17846 seconds.\n",
      "[07/07/2025-21:44:19] [TRT] [I]   Calibrated batch 8 in 1.17648 seconds.\n",
      "[07/07/2025-21:44:20] [TRT] [I]   Calibrated batch 9 in 1.16409 seconds.\n",
      "[07/07/2025-21:44:22] [TRT] [I]   Calibrated batch 10 in 1.17331 seconds.\n",
      "[07/07/2025-21:44:23] [TRT] [I]   Calibrated batch 11 in 1.17559 seconds.\n",
      "[07/07/2025-21:44:24] [TRT] [I]   Calibrated batch 12 in 1.16785 seconds.\n",
      "[07/07/2025-21:44:25] [TRT] [I]   Calibrated batch 13 in 1.16982 seconds.\n",
      "[07/07/2025-21:44:27] [TRT] [I]   Calibrated batch 14 in 1.17243 seconds.\n",
      "[07/07/2025-21:44:28] [TRT] [I]   Calibrated batch 15 in 1.17492 seconds.\n",
      "[07/07/2025-21:44:29] [TRT] [I]   Calibrated batch 16 in 1.18135 seconds.\n",
      "[07/07/2025-21:44:30] [TRT] [I]   Calibrated batch 17 in 1.18434 seconds.\n",
      "[07/07/2025-21:44:32] [TRT] [I]   Calibrated batch 18 in 1.19218 seconds.\n",
      "[07/07/2025-21:44:33] [TRT] [I]   Calibrated batch 19 in 1.17939 seconds.\n",
      "[07/07/2025-21:44:34] [TRT] [I]   Calibrated batch 20 in 1.17144 seconds.\n",
      "[07/07/2025-21:44:35] [TRT] [I]   Calibrated batch 21 in 1.1759 seconds.\n",
      "[07/07/2025-21:44:37] [TRT] [I]   Calibrated batch 22 in 1.17495 seconds.\n",
      "[07/07/2025-21:44:38] [TRT] [I]   Calibrated batch 23 in 1.17521 seconds.\n",
      "[07/07/2025-21:44:39] [TRT] [I]   Calibrated batch 24 in 1.19254 seconds.\n",
      "[07/07/2025-21:44:40] [TRT] [I]   Calibrated batch 25 in 1.34569 seconds.\n",
      "[07/07/2025-21:44:42] [TRT] [I]   Calibrated batch 26 in 1.18515 seconds.\n",
      "[07/07/2025-21:44:43] [TRT] [I]   Calibrated batch 27 in 1.19221 seconds.\n",
      "[07/07/2025-21:44:44] [TRT] [I]   Calibrated batch 28 in 1.1845 seconds.\n",
      "[07/07/2025-21:44:45] [TRT] [I]   Calibrated batch 29 in 1.18561 seconds.\n",
      "[07/07/2025-21:44:47] [TRT] [I]   Calibrated batch 30 in 1.17605 seconds.\n",
      "[07/07/2025-21:44:48] [TRT] [I]   Calibrated batch 31 in 1.19375 seconds.\n",
      "[07/07/2025-21:44:49] [TRT] [I]   Calibrated batch 32 in 1.36096 seconds.\n",
      "[07/07/2025-21:44:51] [TRT] [I]   Calibrated batch 33 in 1.36193 seconds.\n",
      "[07/07/2025-21:44:52] [TRT] [I]   Calibrated batch 34 in 1.19909 seconds.\n",
      "[07/07/2025-21:44:53] [TRT] [I]   Calibrated batch 35 in 1.18191 seconds.\n",
      "[07/07/2025-21:44:55] [TRT] [I]   Calibrated batch 36 in 1.18699 seconds.\n",
      "[07/07/2025-21:44:56] [TRT] [I]   Calibrated batch 37 in 1.18139 seconds.\n",
      "[07/07/2025-21:44:57] [TRT] [I]   Calibrated batch 38 in 1.18575 seconds.\n",
      "[07/07/2025-21:44:58] [TRT] [I]   Calibrated batch 39 in 1.21709 seconds.\n",
      "[07/07/2025-21:45:00] [TRT] [I]   Calibrated batch 40 in 1.19858 seconds.\n",
      "[07/07/2025-21:45:01] [TRT] [I]   Calibrated batch 41 in 1.18333 seconds.\n",
      "[07/07/2025-21:45:02] [TRT] [I]   Calibrated batch 42 in 1.18235 seconds.\n",
      "[07/07/2025-21:45:03] [TRT] [I]   Calibrated batch 43 in 1.182 seconds.\n",
      "[07/07/2025-21:45:05] [TRT] [I]   Calibrated batch 44 in 1.18526 seconds.\n",
      "[07/07/2025-21:45:06] [TRT] [I]   Calibrated batch 45 in 1.18321 seconds.\n",
      "[07/07/2025-21:45:07] [TRT] [I]   Calibrated batch 46 in 1.18515 seconds.\n",
      "[07/07/2025-21:45:08] [TRT] [I]   Calibrated batch 47 in 1.18876 seconds.\n",
      "[07/07/2025-21:45:10] [TRT] [I]   Calibrated batch 48 in 1.18099 seconds.\n",
      "[07/07/2025-21:45:11] [TRT] [I]   Calibrated batch 49 in 1.17914 seconds.\n",
      "[07/07/2025-21:45:12] [TRT] [I]   Calibrated batch 50 in 1.1838 seconds.\n",
      "[07/07/2025-21:45:13] [TRT] [I]   Calibrated batch 51 in 1.19808 seconds.\n",
      "[07/07/2025-21:45:15] [TRT] [I]   Calibrated batch 52 in 1.17716 seconds.\n",
      "[07/07/2025-21:45:16] [TRT] [I]   Calibrated batch 53 in 1.18391 seconds.\n",
      "[07/07/2025-21:45:17] [TRT] [I]   Calibrated batch 54 in 1.18287 seconds.\n",
      "[07/07/2025-21:45:18] [TRT] [I]   Calibrated batch 55 in 1.18025 seconds.\n",
      "[07/07/2025-21:45:20] [TRT] [I]   Calibrated batch 56 in 1.17623 seconds.\n",
      "[07/07/2025-21:45:21] [TRT] [I]   Calibrated batch 57 in 1.18497 seconds.\n",
      "[07/07/2025-21:45:22] [TRT] [I]   Calibrated batch 58 in 1.18111 seconds.\n",
      "[07/07/2025-21:45:23] [TRT] [I]   Calibrated batch 59 in 1.18751 seconds.\n",
      "[07/07/2025-21:45:25] [TRT] [I]   Calibrated batch 60 in 1.18739 seconds.\n",
      "[07/07/2025-21:45:26] [TRT] [I]   Calibrated batch 61 in 1.19123 seconds.\n",
      "[07/07/2025-21:45:27] [TRT] [I]   Calibrated batch 62 in 1.18436 seconds.\n",
      "[07/07/2025-21:45:28] [TRT] [I]   Calibrated batch 63 in 1.1941 seconds.\n",
      "[07/07/2025-21:45:30] [TRT] [I]   Calibrated batch 64 in 1.19232 seconds.\n",
      "[07/07/2025-21:45:31] [TRT] [I]   Calibrated batch 65 in 1.18087 seconds.\n",
      "[07/07/2025-21:45:32] [TRT] [I]   Calibrated batch 66 in 1.17944 seconds.\n",
      "[07/07/2025-21:45:33] [TRT] [I]   Calibrated batch 67 in 1.1924 seconds.\n",
      "[07/07/2025-21:45:35] [TRT] [I]   Calibrated batch 68 in 1.18571 seconds.\n",
      "[07/07/2025-21:45:36] [TRT] [I]   Calibrated batch 69 in 1.18797 seconds.\n",
      "[07/07/2025-21:45:37] [TRT] [I]   Calibrated batch 70 in 1.18199 seconds.\n",
      "[07/07/2025-21:45:38] [TRT] [I]   Calibrated batch 71 in 1.19852 seconds.\n",
      "[07/07/2025-21:45:40] [TRT] [I]   Calibrated batch 72 in 1.17809 seconds.\n",
      "[07/07/2025-21:45:41] [TRT] [I]   Calibrated batch 73 in 1.18683 seconds.\n",
      "[07/07/2025-21:45:42] [TRT] [I]   Calibrated batch 74 in 1.18388 seconds.\n",
      "[07/07/2025-21:45:43] [TRT] [I]   Calibrated batch 75 in 1.19588 seconds.\n",
      "[07/07/2025-21:45:45] [TRT] [I]   Calibrated batch 76 in 1.19755 seconds.\n",
      "[07/07/2025-21:45:46] [TRT] [I]   Calibrated batch 77 in 1.17971 seconds.\n",
      "[07/07/2025-21:45:47] [TRT] [I]   Calibrated batch 78 in 1.17856 seconds.\n",
      "[07/07/2025-21:45:48] [TRT] [I]   Calibrated batch 79 in 1.18752 seconds.\n",
      "[07/07/2025-21:45:50] [TRT] [I]   Calibrated batch 80 in 1.17519 seconds.\n",
      "[07/07/2025-21:45:51] [TRT] [I]   Calibrated batch 81 in 1.17799 seconds.\n",
      "[07/07/2025-21:45:52] [TRT] [I]   Calibrated batch 82 in 1.20229 seconds.\n",
      "[07/07/2025-21:45:54] [TRT] [I]   Calibrated batch 83 in 1.18277 seconds.\n",
      "[07/07/2025-21:45:55] [TRT] [I]   Calibrated batch 84 in 1.1785 seconds.\n",
      "[07/07/2025-21:45:56] [TRT] [I]   Calibrated batch 85 in 1.18492 seconds.\n",
      "[07/07/2025-21:45:57] [TRT] [I]   Calibrated batch 86 in 1.18478 seconds.\n",
      "[07/07/2025-21:45:58] [TRT] [I]   Calibrated batch 87 in 1.18544 seconds.\n",
      "[07/07/2025-21:46:00] [TRT] [I]   Calibrated batch 88 in 1.19707 seconds.\n",
      "[07/07/2025-21:46:01] [TRT] [I]   Calibrated batch 89 in 1.19142 seconds.\n",
      "[07/07/2025-21:46:02] [TRT] [I]   Calibrated batch 90 in 1.18367 seconds.\n",
      "[07/07/2025-21:46:04] [TRT] [I]   Calibrated batch 91 in 1.17941 seconds.\n",
      "[07/07/2025-21:46:05] [TRT] [I]   Calibrated batch 92 in 1.18445 seconds.\n",
      "[07/07/2025-21:46:06] [TRT] [I]   Calibrated batch 93 in 1.19767 seconds.\n",
      "[07/07/2025-21:46:07] [TRT] [I]   Calibrated batch 94 in 1.18759 seconds.\n",
      "[07/07/2025-21:46:09] [TRT] [I]   Calibrated batch 95 in 1.18691 seconds.\n",
      "[07/07/2025-21:46:10] [TRT] [I]   Calibrated batch 96 in 1.18475 seconds.\n",
      "[07/07/2025-21:46:11] [TRT] [I]   Calibrated batch 97 in 1.1842 seconds.\n",
      "[07/07/2025-21:46:12] [TRT] [I]   Calibrated batch 98 in 1.18533 seconds.\n",
      "[07/07/2025-21:46:14] [TRT] [I]   Calibrated batch 99 in 1.18268 seconds.\n",
      "[07/07/2025-21:46:15] [TRT] [I]   Calibrated batch 100 in 1.18134 seconds.\n",
      "[07/07/2025-21:46:16] [TRT] [I]   Calibrated batch 101 in 1.18149 seconds.\n",
      "[07/07/2025-21:46:17] [TRT] [I]   Calibrated batch 102 in 1.18791 seconds.\n",
      "[07/07/2025-21:46:19] [TRT] [I]   Calibrated batch 103 in 1.19725 seconds.\n",
      "[07/07/2025-21:46:20] [TRT] [I]   Calibrated batch 104 in 1.17984 seconds.\n",
      "[07/07/2025-21:46:21] [TRT] [I]   Calibrated batch 105 in 1.17896 seconds.\n",
      "[07/07/2025-21:46:22] [TRT] [I]   Calibrated batch 106 in 1.21041 seconds.\n",
      "[07/07/2025-21:46:24] [TRT] [I]   Calibrated batch 107 in 1.18598 seconds.\n",
      "[07/07/2025-21:46:25] [TRT] [I]   Calibrated batch 108 in 1.18117 seconds.\n",
      "[07/07/2025-21:46:26] [TRT] [I]   Calibrated batch 109 in 1.18206 seconds.\n",
      "[07/07/2025-21:46:27] [TRT] [I]   Calibrated batch 110 in 1.18564 seconds.\n",
      "[07/07/2025-21:46:29] [TRT] [I]   Calibrated batch 111 in 1.18558 seconds.\n",
      "[07/07/2025-21:46:30] [TRT] [I]   Calibrated batch 112 in 1.19478 seconds.\n",
      "[07/07/2025-21:46:31] [TRT] [I]   Calibrated batch 113 in 1.19425 seconds.\n",
      "[07/07/2025-21:46:32] [TRT] [I]   Calibrated batch 114 in 1.18958 seconds.\n",
      "[07/07/2025-21:46:34] [TRT] [I]   Calibrated batch 115 in 1.18343 seconds.\n",
      "[07/07/2025-21:46:35] [TRT] [I]   Calibrated batch 116 in 1.18069 seconds.\n",
      "[07/07/2025-21:46:36] [TRT] [I]   Calibrated batch 117 in 1.18279 seconds.\n",
      "[07/07/2025-21:46:37] [TRT] [I]   Calibrated batch 118 in 1.19263 seconds.\n",
      "[07/07/2025-21:46:39] [TRT] [I]   Calibrated batch 119 in 1.18273 seconds.\n",
      "[07/07/2025-21:46:40] [TRT] [I]   Calibrated batch 120 in 1.1843 seconds.\n",
      "[07/07/2025-21:46:41] [TRT] [I]   Calibrated batch 121 in 1.18318 seconds.\n",
      "[07/07/2025-21:46:42] [TRT] [I]   Calibrated batch 122 in 1.19072 seconds.\n",
      "[07/07/2025-21:46:44] [TRT] [I]   Calibrated batch 123 in 1.18234 seconds.\n",
      "[07/07/2025-21:46:45] [TRT] [I]   Calibrated batch 124 in 1.19054 seconds.\n",
      "[07/07/2025-21:46:46] [TRT] [I]   Calibrated batch 125 in 1.18082 seconds.\n",
      "[07/07/2025-21:46:47] [TRT] [I]   Calibrated batch 126 in 1.18326 seconds.\n",
      "[07/07/2025-21:46:49] [TRT] [I]   Calibrated batch 127 in 1.19291 seconds.\n",
      "[07/07/2025-21:46:50] [TRT] [I]   Calibrated batch 128 in 1.18967 seconds.\n",
      "[07/07/2025-21:46:51] [TRT] [I]   Calibrated batch 129 in 1.18314 seconds.\n",
      "[07/07/2025-21:46:52] [TRT] [I]   Calibrated batch 130 in 1.20022 seconds.\n",
      "[07/07/2025-21:46:54] [TRT] [I]   Calibrated batch 131 in 1.19657 seconds.\n",
      "[07/07/2025-21:46:55] [TRT] [I]   Calibrated batch 132 in 1.17804 seconds.\n",
      "[07/07/2025-21:46:56] [TRT] [I]   Calibrated batch 133 in 1.18321 seconds.\n",
      "[07/07/2025-21:46:57] [TRT] [I]   Calibrated batch 134 in 1.1807 seconds.\n",
      "[07/07/2025-21:46:59] [TRT] [I]   Calibrated batch 135 in 1.18573 seconds.\n",
      "[07/07/2025-21:47:00] [TRT] [I]   Calibrated batch 136 in 1.18142 seconds.\n",
      "[07/07/2025-21:47:01] [TRT] [I]   Calibrated batch 137 in 1.18543 seconds.\n",
      "[07/07/2025-21:47:02] [TRT] [I]   Calibrated batch 138 in 1.18874 seconds.\n",
      "[07/07/2025-21:47:04] [TRT] [I]   Calibrated batch 139 in 1.20713 seconds.\n",
      "[07/07/2025-21:47:05] [TRT] [I]   Calibrated batch 140 in 1.18288 seconds.\n",
      "[07/07/2025-21:47:06] [TRT] [I]   Calibrated batch 141 in 1.18893 seconds.\n",
      "[07/07/2025-21:47:08] [TRT] [I]   Calibrated batch 142 in 1.18926 seconds.\n",
      "[07/07/2025-21:47:09] [TRT] [I]   Calibrated batch 143 in 1.1836 seconds.\n",
      "[07/07/2025-21:47:10] [TRT] [I]   Calibrated batch 144 in 1.19411 seconds.\n",
      "[07/07/2025-21:47:11] [TRT] [I]   Calibrated batch 145 in 1.18187 seconds.\n",
      "[07/07/2025-21:47:13] [TRT] [I]   Calibrated batch 146 in 1.19233 seconds.\n",
      "[07/07/2025-21:47:14] [TRT] [I]   Calibrated batch 147 in 1.1846 seconds.\n",
      "[07/07/2025-21:47:15] [TRT] [I]   Calibrated batch 148 in 1.18239 seconds.\n",
      "[07/07/2025-21:47:16] [TRT] [I]   Calibrated batch 149 in 1.18396 seconds.\n",
      "[07/07/2025-21:47:18] [TRT] [I]   Calibrated batch 150 in 1.20344 seconds.\n",
      "[07/07/2025-21:47:19] [TRT] [I]   Calibrated batch 151 in 1.18628 seconds.\n",
      "[07/07/2025-21:47:20] [TRT] [I]   Calibrated batch 152 in 1.18673 seconds.\n",
      "[07/07/2025-21:47:21] [TRT] [I]   Calibrated batch 153 in 1.18202 seconds.\n",
      "[07/07/2025-21:47:23] [TRT] [I]   Calibrated batch 154 in 1.19285 seconds.\n",
      "[07/07/2025-21:47:24] [TRT] [I]   Calibrated batch 155 in 1.19419 seconds.\n",
      "[07/07/2025-21:47:25] [TRT] [I]   Calibrated batch 156 in 1.1812 seconds.\n",
      "[07/07/2025-21:47:26] [TRT] [I]   Calibrated batch 157 in 1.18766 seconds.\n",
      "[07/07/2025-21:47:28] [TRT] [I]   Calibrated batch 158 in 1.18756 seconds.\n",
      "[07/07/2025-21:47:29] [TRT] [I]   Calibrated batch 159 in 1.18314 seconds.\n",
      "[07/07/2025-21:47:30] [TRT] [I]   Calibrated batch 160 in 1.18847 seconds.\n",
      "[07/07/2025-21:47:31] [TRT] [I]   Calibrated batch 161 in 1.18676 seconds.\n",
      "[07/07/2025-21:47:33] [TRT] [I]   Calibrated batch 162 in 1.18149 seconds.\n",
      "[07/07/2025-21:47:34] [TRT] [I]   Calibrated batch 163 in 1.18659 seconds.\n",
      "[07/07/2025-21:47:35] [TRT] [I]   Calibrated batch 164 in 1.18218 seconds.\n",
      "[07/07/2025-21:47:36] [TRT] [I]   Calibrated batch 165 in 1.18372 seconds.\n",
      "[07/07/2025-21:47:38] [TRT] [I]   Calibrated batch 166 in 1.19307 seconds.\n",
      "[07/07/2025-21:47:39] [TRT] [I]   Calibrated batch 167 in 1.18238 seconds.\n",
      "[07/07/2025-21:47:40] [TRT] [I]   Calibrated batch 168 in 1.18596 seconds.\n",
      "[07/07/2025-21:47:41] [TRT] [I]   Calibrated batch 169 in 1.18883 seconds.\n",
      "[07/07/2025-21:47:43] [TRT] [I]   Calibrated batch 170 in 1.18402 seconds.\n",
      "[07/07/2025-21:47:44] [TRT] [I]   Calibrated batch 171 in 1.18351 seconds.\n",
      "[07/07/2025-21:47:45] [TRT] [I]   Calibrated batch 172 in 1.1879 seconds.\n",
      "[07/07/2025-21:47:46] [TRT] [I]   Calibrated batch 173 in 1.18116 seconds.\n",
      "[07/07/2025-21:47:48] [TRT] [I]   Calibrated batch 174 in 1.18274 seconds.\n",
      "[07/07/2025-21:47:49] [TRT] [I]   Calibrated batch 175 in 1.18218 seconds.\n",
      "[07/07/2025-21:47:50] [TRT] [I]   Calibrated batch 176 in 1.18404 seconds.\n",
      "[07/07/2025-21:47:51] [TRT] [I]   Calibrated batch 177 in 1.18202 seconds.\n",
      "[07/07/2025-21:47:53] [TRT] [I]   Calibrated batch 178 in 1.17735 seconds.\n",
      "[07/07/2025-21:47:54] [TRT] [I]   Calibrated batch 179 in 1.18554 seconds.\n",
      "[07/07/2025-21:47:55] [TRT] [I]   Calibrated batch 180 in 1.18572 seconds.\n",
      "[07/07/2025-21:47:56] [TRT] [I]   Calibrated batch 181 in 1.17788 seconds.\n",
      "[07/07/2025-21:47:58] [TRT] [I]   Calibrated batch 182 in 1.18268 seconds.\n",
      "[07/07/2025-21:47:59] [TRT] [I]   Calibrated batch 183 in 1.18314 seconds.\n",
      "[07/07/2025-21:48:00] [TRT] [I]   Calibrated batch 184 in 1.18339 seconds.\n",
      "[07/07/2025-21:48:01] [TRT] [I]   Calibrated batch 185 in 1.20226 seconds.\n",
      "[07/07/2025-21:48:03] [TRT] [I]   Calibrated batch 186 in 1.18139 seconds.\n",
      "[07/07/2025-21:48:04] [TRT] [I]   Calibrated batch 187 in 1.18169 seconds.\n",
      "[07/07/2025-21:48:05] [TRT] [I]   Calibrated batch 188 in 1.1852 seconds.\n",
      "[07/07/2025-21:48:06] [TRT] [I]   Calibrated batch 189 in 1.18081 seconds.\n",
      "[07/07/2025-21:48:08] [TRT] [I]   Calibrated batch 190 in 1.18714 seconds.\n",
      "[07/07/2025-21:48:09] [TRT] [I]   Calibrated batch 191 in 1.20039 seconds.\n",
      "[07/07/2025-21:48:10] [TRT] [I]   Calibrated batch 192 in 1.18237 seconds.\n",
      "[07/07/2025-21:48:11] [TRT] [I]   Calibrated batch 193 in 1.18563 seconds.\n",
      "[07/07/2025-21:48:13] [TRT] [I]   Calibrated batch 194 in 1.18562 seconds.\n",
      "[07/07/2025-21:48:14] [TRT] [I]   Calibrated batch 195 in 1.18104 seconds.\n",
      "[07/07/2025-21:48:15] [TRT] [I]   Calibrated batch 196 in 1.18398 seconds.\n",
      "[07/07/2025-21:48:16] [TRT] [I]   Calibrated batch 197 in 1.1831 seconds.\n",
      "[07/07/2025-21:48:18] [TRT] [I]   Calibrated batch 198 in 1.18123 seconds.\n",
      "[07/07/2025-21:48:19] [TRT] [I]   Calibrated batch 199 in 1.20068 seconds.\n",
      "[07/07/2025-21:48:20] [TRT] [I]   Calibrated batch 200 in 1.18335 seconds.\n",
      "[07/07/2025-21:48:21] [TRT] [I]   Calibrated batch 201 in 1.18493 seconds.\n",
      "[07/07/2025-21:48:23] [TRT] [I]   Calibrated batch 202 in 1.18217 seconds.\n",
      "[07/07/2025-21:48:24] [TRT] [I]   Calibrated batch 203 in 1.17892 seconds.\n",
      "[07/07/2025-21:48:25] [TRT] [I]   Calibrated batch 204 in 1.19592 seconds.\n",
      "[07/07/2025-21:48:26] [TRT] [I]   Calibrated batch 205 in 1.19403 seconds.\n",
      "[07/07/2025-21:48:28] [TRT] [I]   Calibrated batch 206 in 1.20138 seconds.\n",
      "[07/07/2025-21:48:29] [TRT] [I]   Calibrated batch 207 in 1.2037 seconds.\n",
      "[07/07/2025-21:48:30] [TRT] [I]   Calibrated batch 208 in 1.17975 seconds.\n",
      "[07/07/2025-21:48:31] [TRT] [I]   Calibrated batch 209 in 1.18827 seconds.\n",
      "[07/07/2025-21:48:33] [TRT] [I]   Calibrated batch 210 in 1.18996 seconds.\n",
      "[07/07/2025-21:48:34] [TRT] [I]   Calibrated batch 211 in 1.18095 seconds.\n",
      "[07/07/2025-21:48:35] [TRT] [I]   Calibrated batch 212 in 1.18592 seconds.\n",
      "[07/07/2025-21:48:36] [TRT] [I]   Calibrated batch 213 in 1.18774 seconds.\n",
      "[07/07/2025-21:48:38] [TRT] [I]   Calibrated batch 214 in 1.17876 seconds.\n",
      "[07/07/2025-21:48:39] [TRT] [I]   Calibrated batch 215 in 1.1836 seconds.\n",
      "[07/07/2025-21:48:40] [TRT] [I]   Calibrated batch 216 in 1.18544 seconds.\n",
      "[07/07/2025-21:48:41] [TRT] [I]   Calibrated batch 217 in 1.18371 seconds.\n",
      "[07/07/2025-21:48:43] [TRT] [I]   Calibrated batch 218 in 1.18161 seconds.\n",
      "[07/07/2025-21:48:44] [TRT] [I]   Calibrated batch 219 in 1.18016 seconds.\n",
      "[07/07/2025-21:48:45] [TRT] [I]   Calibrated batch 220 in 1.18102 seconds.\n",
      "[07/07/2025-21:48:46] [TRT] [I]   Calibrated batch 221 in 1.17734 seconds.\n",
      "[07/07/2025-21:48:48] [TRT] [I]   Calibrated batch 222 in 1.17739 seconds.\n",
      "[07/07/2025-21:48:49] [TRT] [I]   Calibrated batch 223 in 1.18642 seconds.\n",
      "[07/07/2025-21:48:50] [TRT] [I]   Calibrated batch 224 in 1.18329 seconds.\n",
      "[07/07/2025-21:48:51] [TRT] [I]   Calibrated batch 225 in 1.18496 seconds.\n",
      "[07/07/2025-21:48:53] [TRT] [I]   Calibrated batch 226 in 1.18239 seconds.\n",
      "[07/07/2025-21:48:54] [TRT] [I]   Calibrated batch 227 in 1.18004 seconds.\n",
      "[07/07/2025-21:48:55] [TRT] [I]   Calibrated batch 228 in 1.18369 seconds.\n",
      "[07/07/2025-21:48:56] [TRT] [I]   Calibrated batch 229 in 1.18441 seconds.\n",
      "[07/07/2025-21:48:58] [TRT] [I]   Calibrated batch 230 in 1.18327 seconds.\n",
      "[07/07/2025-21:48:59] [TRT] [I]   Calibrated batch 231 in 1.19329 seconds.\n",
      "[07/07/2025-21:49:00] [TRT] [I]   Calibrated batch 232 in 1.18128 seconds.\n",
      "[07/07/2025-21:49:01] [TRT] [I]   Calibrated batch 233 in 1.18657 seconds.\n",
      "[07/07/2025-21:49:03] [TRT] [I]   Calibrated batch 234 in 1.20059 seconds.\n",
      "[07/07/2025-21:49:04] [TRT] [I]   Calibrated batch 235 in 1.18613 seconds.\n",
      "[07/07/2025-21:49:05] [TRT] [I]   Calibrated batch 236 in 1.18568 seconds.\n",
      "[07/07/2025-21:49:06] [TRT] [I]   Calibrated batch 237 in 1.19766 seconds.\n",
      "[07/07/2025-21:49:08] [TRT] [I]   Calibrated batch 238 in 1.18973 seconds.\n",
      "[07/07/2025-21:49:09] [TRT] [I]   Calibrated batch 239 in 1.17993 seconds.\n",
      "[07/07/2025-21:49:10] [TRT] [I]   Calibrated batch 240 in 1.19483 seconds.\n",
      "[07/07/2025-21:49:11] [TRT] [I]   Calibrated batch 241 in 1.17983 seconds.\n",
      "[07/07/2025-21:49:13] [TRT] [I]   Calibrated batch 242 in 1.19758 seconds.\n",
      "[07/07/2025-21:49:14] [TRT] [I]   Calibrated batch 243 in 1.19187 seconds.\n",
      "[07/07/2025-21:49:15] [TRT] [I]   Calibrated batch 244 in 1.18507 seconds.\n",
      "[07/07/2025-21:49:17] [TRT] [I]   Calibrated batch 245 in 1.17985 seconds.\n",
      "[07/07/2025-21:49:18] [TRT] [I]   Calibrated batch 246 in 1.19108 seconds.\n",
      "[07/07/2025-21:49:19] [TRT] [I]   Calibrated batch 247 in 1.18214 seconds.\n",
      "[07/07/2025-21:49:20] [TRT] [I]   Calibrated batch 248 in 1.19619 seconds.\n",
      "[07/07/2025-21:49:22] [TRT] [I]   Calibrated batch 249 in 1.18734 seconds.\n",
      "[07/07/2025-21:49:23] [TRT] [I]   Calibrated batch 250 in 1.19485 seconds.\n",
      "[07/07/2025-21:49:24] [TRT] [I]   Calibrated batch 251 in 1.17978 seconds.\n",
      "[07/07/2025-21:49:25] [TRT] [I]   Calibrated batch 252 in 1.18589 seconds.\n",
      "[07/07/2025-21:49:27] [TRT] [I]   Calibrated batch 253 in 1.18068 seconds.\n",
      "[07/07/2025-21:49:28] [TRT] [I]   Calibrated batch 254 in 1.17937 seconds.\n",
      "[07/07/2025-21:49:29] [TRT] [I]   Calibrated batch 255 in 1.18173 seconds.\n",
      "[07/07/2025-21:49:30] [TRT] [I]   Calibrated batch 256 in 1.18357 seconds.\n",
      "[07/07/2025-21:49:32] [TRT] [I]   Calibrated batch 257 in 1.18168 seconds.\n",
      "[07/07/2025-21:49:33] [TRT] [I]   Calibrated batch 258 in 1.17896 seconds.\n",
      "[07/07/2025-21:49:34] [TRT] [I]   Calibrated batch 259 in 1.19287 seconds.\n",
      "[07/07/2025-21:49:35] [TRT] [I]   Calibrated batch 260 in 1.18347 seconds.\n",
      "[07/07/2025-21:49:37] [TRT] [I]   Calibrated batch 261 in 1.17992 seconds.\n",
      "[07/07/2025-21:49:38] [TRT] [I]   Calibrated batch 262 in 1.18276 seconds.\n",
      "[07/07/2025-21:49:39] [TRT] [I]   Calibrated batch 263 in 1.18749 seconds.\n",
      "[07/07/2025-21:49:40] [TRT] [I]   Calibrated batch 264 in 1.19336 seconds.\n",
      "[07/07/2025-21:49:42] [TRT] [I]   Calibrated batch 265 in 1.1832 seconds.\n",
      "[07/07/2025-21:49:43] [TRT] [I]   Calibrated batch 266 in 1.18167 seconds.\n",
      "[07/07/2025-21:49:44] [TRT] [I]   Calibrated batch 267 in 1.1852 seconds.\n",
      "[07/07/2025-21:49:45] [TRT] [I]   Calibrated batch 268 in 1.18803 seconds.\n",
      "[07/07/2025-21:49:47] [TRT] [I]   Calibrated batch 269 in 1.17954 seconds.\n",
      "[07/07/2025-21:49:48] [TRT] [I]   Calibrated batch 270 in 1.18076 seconds.\n",
      "[07/07/2025-21:49:49] [TRT] [I]   Calibrated batch 271 in 1.1773 seconds.\n",
      "[07/07/2025-21:49:50] [TRT] [I]   Calibrated batch 272 in 1.18132 seconds.\n",
      "[07/07/2025-21:49:52] [TRT] [I]   Calibrated batch 273 in 1.18215 seconds.\n",
      "[07/07/2025-21:49:53] [TRT] [I]   Calibrated batch 274 in 1.18392 seconds.\n",
      "[07/07/2025-21:49:54] [TRT] [I]   Calibrated batch 275 in 1.17787 seconds.\n",
      "[07/07/2025-21:49:55] [TRT] [I]   Calibrated batch 276 in 1.18172 seconds.\n",
      "[07/07/2025-21:49:57] [TRT] [I]   Calibrated batch 277 in 1.18073 seconds.\n",
      "[07/07/2025-21:49:58] [TRT] [I]   Calibrated batch 278 in 1.18521 seconds.\n",
      "[07/07/2025-21:49:59] [TRT] [I]   Calibrated batch 279 in 1.1821 seconds.\n",
      "[07/07/2025-21:50:00] [TRT] [I]   Calibrated batch 280 in 1.182 seconds.\n",
      "[07/07/2025-21:50:02] [TRT] [I]   Calibrated batch 281 in 1.18337 seconds.\n",
      "[07/07/2025-21:50:03] [TRT] [I]   Calibrated batch 282 in 1.18524 seconds.\n",
      "[07/07/2025-21:50:04] [TRT] [I]   Calibrated batch 283 in 1.18394 seconds.\n",
      "[07/07/2025-21:50:05] [TRT] [I]   Calibrated batch 284 in 1.1861 seconds.\n",
      "[07/07/2025-21:50:07] [TRT] [I]   Calibrated batch 285 in 1.18526 seconds.\n",
      "[07/07/2025-21:50:08] [TRT] [I]   Calibrated batch 286 in 1.18014 seconds.\n",
      "[07/07/2025-21:50:09] [TRT] [I]   Calibrated batch 287 in 1.18745 seconds.\n",
      "[07/07/2025-21:50:10] [TRT] [I]   Calibrated batch 288 in 1.18495 seconds.\n",
      "[07/07/2025-21:50:12] [TRT] [I]   Calibrated batch 289 in 1.17992 seconds.\n",
      "[07/07/2025-21:50:13] [TRT] [I]   Calibrated batch 290 in 1.17865 seconds.\n",
      "[07/07/2025-21:50:14] [TRT] [I]   Calibrated batch 291 in 1.18024 seconds.\n",
      "[07/07/2025-21:50:15] [TRT] [I]   Calibrated batch 292 in 1.19618 seconds.\n",
      "[07/07/2025-21:50:16] [TRT] [I]   Post Processing Calibration data in 0.00242592 seconds.\n",
      "[07/07/2025-21:50:16] [TRT] [I] Calibration completed in 372.778 seconds.\n",
      "[07/07/2025-21:50:16] [TRT] [W] Missing scale and zero-point for tensor (Unnamed Layer* 251) [Constant]_output, expect fall back to non-int8 implementation for any layer consuming or producing given tensor\n",
      "[07/07/2025-21:50:16] [TRT] [W] Missing scale and zero-point for tensor (Unnamed Layer* 252) [Constant]_output, expect fall back to non-int8 implementation for any layer consuming or producing given tensor\n",
      "[07/07/2025-21:50:16] [TRT] [W] Missing scale and zero-point for tensor (Unnamed Layer* 274) [Constant]_output, expect fall back to non-int8 implementation for any layer consuming or producing given tensor\n",
      "[07/07/2025-21:50:16] [TRT] [W] Missing scale and zero-point for tensor (Unnamed Layer* 290) [Constant]_output, expect fall back to non-int8 implementation for any layer consuming or producing given tensor\n",
      "[07/07/2025-21:50:16] [TRT] [W] Missing scale and zero-point for tensor (Unnamed Layer* 416) [Constant]_output, expect fall back to non-int8 implementation for any layer consuming or producing given tensor\n",
      "[07/07/2025-21:50:16] [TRT] [W] Missing scale and zero-point for tensor (Unnamed Layer* 571) [Constant]_output, expect fall back to non-int8 implementation for any layer consuming or producing given tensor\n",
      "[07/07/2025-21:50:16] [TRT] [W] Missing scale and zero-point for tensor (Unnamed Layer* 591) [Constant]_output, expect fall back to non-int8 implementation for any layer consuming or producing given tensor\n",
      "[07/07/2025-21:50:16] [TRT] [W] Missing scale and zero-point for tensor /model.22/dfl/Softmax_output_0, expect fall back to non-int8 implementation for any layer consuming or producing given tensor\n",
      "[07/07/2025-21:50:16] [TRT] [I] Graph optimization time: 0.0861526 seconds.\n",
      "[07/07/2025-21:50:16] [TRT] [I] Local timing cache in use. Profiling results in this builder pass will not be stored.\n",
      "[07/07/2025-21:54:45] [TRT] [I] Detected 1 inputs and 4 output network tensors.\n",
      "[07/07/2025-21:54:50] [TRT] [I] Total Host Persistent Memory: 385856\n",
      "[07/07/2025-21:54:50] [TRT] [I] Total Device Persistent Memory: 0\n",
      "[07/07/2025-21:54:50] [TRT] [I] Total Scratch Memory: 0\n",
      "[07/07/2025-21:54:50] [TRT] [I] [MemUsageStats] Peak memory usage of TRT CPU/GPU memory allocators: CPU 100 MiB, GPU 551 MiB\n",
      "[07/07/2025-21:54:50] [TRT] [I] [BlockAssignment] Started assigning block shifts. This will take 152 steps to complete.\n",
      "[07/07/2025-21:54:50] [TRT] [I] [BlockAssignment] Algorithm ShiftNTopDown took 18.0871ms to assign 16 blocks to 152 nodes requiring 306236928 bytes.\n",
      "[07/07/2025-21:54:50] [TRT] [I] Total Activation Memory: 306233856\n",
      "[07/07/2025-21:54:50] [TRT] [I] [MemUsageChange] TensorRT-managed allocation in building engine: CPU +11, GPU +12, now: CPU 11, GPU 12 (MiB)\n",
      "\u001b[34m\u001b[1mTensorRT:\u001b[0m export success ✅ 658.5s, saved as 'weights/yolov8s-pose.engine' (14.9 MB)\n",
      "\n",
      "Export complete (660.2s)\n",
      "Results saved to \u001b[1m/data/xl/Projects/EdgeLite/weights\u001b[0m\n",
      "Predict:         yolo predict task=pose model=weights/yolov8s-pose.engine imgsz=640 int8 \n",
      "Validate:        yolo val task=pose model=weights/yolov8s-pose.engine imgsz=640 data=/usr/src/app/ultralytics/datasets/coco-pose.yaml int8 \n",
      "Visualize:       https://netron.app\n"
     ]
    },
    {
     "data": {
      "text/plain": [
       "'weights/yolov8s-pose.engine'"
      ]
     },
     "execution_count": 9,
     "metadata": {},
     "output_type": "execute_result"
    }
   ],
   "source": [
    "# 官方ptq,导出精度十分低！\n",
    "dense_model.export(format='engine', imgsz=640, dynamic=True, verbose=False, batch=8, workspace=2, int8=True, data=data_yaml_file)"
   ]
  },
  {
   "cell_type": "code",
   "execution_count": 10,
   "id": "e62fc854-94c5-48d4-883d-4f7cba9ad75c",
   "metadata": {
    "execution": {
     "iopub.execute_input": "2025-07-07T13:59:55.308277Z",
     "iopub.status.busy": "2025-07-07T13:59:55.307370Z",
     "iopub.status.idle": "2025-07-07T13:59:55.315425Z",
     "shell.execute_reply": "2025-07-07T13:59:55.314287Z",
     "shell.execute_reply.started": "2025-07-07T13:59:55.308219Z"
    }
   },
   "outputs": [],
   "source": [
    "import os\n",
    "os.rename('./weights/yolov8s-pose.engine', './weights/yolov8s-pose-ptq.engine')"
   ]
  },
  {
   "cell_type": "code",
   "execution_count": null,
   "id": "a441e7bc-58e2-48e3-a809-9018c61f5c73",
   "metadata": {
    "jupyter": {
     "source_hidden": true
    }
   },
   "outputs": [],
   "source": [
    "# 非官方手写ptq\n",
    "!python main_quant.py --weight weights/yolov8s-pose.pt --onnx_path weights/yolov8s-pose.onnx --engine_path weights/yolov8s-pose-ptq.engine \\\n",
    "--cali_data_path datasets/coco-pose/images/train2017 --cali_size 5000 --output_dir output/yolov8s-pose-ptq --output_dir output/yolov8s-pose-ptq \\\n",
    "--quant ptq --batch_size 1 --eval"
   ]
  },
  {
   "cell_type": "code",
   "execution_count": 11,
   "id": "df1f186a-9e40-41ab-93fd-da4234417f3a",
   "metadata": {
    "execution": {
     "iopub.execute_input": "2025-07-07T13:59:57.575996Z",
     "iopub.status.busy": "2025-07-07T13:59:57.575146Z",
     "iopub.status.idle": "2025-07-07T13:59:57.580985Z",
     "shell.execute_reply": "2025-07-07T13:59:57.580125Z",
     "shell.execute_reply.started": "2025-07-07T13:59:57.575939Z"
    }
   },
   "outputs": [],
   "source": [
    "ptq_engine_path = 'weights/yolov8s-pose-ptq.engine'\n",
    "# ptq_engine_path = 'weights/yolov8s-pose.engine'"
   ]
  },
  {
   "cell_type": "code",
   "execution_count": 12,
   "id": "868d1d22-9999-4d7f-9c07-2ea9d6360862",
   "metadata": {
    "execution": {
     "iopub.execute_input": "2025-07-07T13:59:59.227464Z",
     "iopub.status.busy": "2025-07-07T13:59:59.226621Z",
     "iopub.status.idle": "2025-07-07T13:59:59.232308Z",
     "shell.execute_reply": "2025-07-07T13:59:59.231755Z",
     "shell.execute_reply.started": "2025-07-07T13:59:59.227405Z"
    }
   },
   "outputs": [],
   "source": [
    "ptq_trt_engine = YOLO(ptq_engine_path, task='pose')"
   ]
  },
  {
   "cell_type": "code",
   "execution_count": 14,
   "id": "e892bf45-09f0-42dd-886c-de9ea3143318",
   "metadata": {
    "collapsed": true,
    "execution": {
     "iopub.execute_input": "2025-07-07T14:00:53.678830Z",
     "iopub.status.busy": "2025-07-07T14:00:53.678244Z",
     "iopub.status.idle": "2025-07-07T14:01:18.964124Z",
     "shell.execute_reply": "2025-07-07T14:01:18.963290Z",
     "shell.execute_reply.started": "2025-07-07T14:00:53.678807Z"
    },
    "jupyter": {
     "outputs_hidden": true
    }
   },
   "outputs": [
    {
     "name": "stdout",
     "output_type": "stream",
     "text": [
      "Ultralytics 8.3.162 🚀 Python-3.10.18 torch-2.4.1+cu121 CUDA:0 (NVIDIA L40, 45386MiB)\n",
      "Loading weights/yolov8s-pose-ptq.engine for TensorRT inference...\n",
      "[07/07/2025-22:00:53] [TRT] [I] The logger passed into createInferRuntime differs from one already provided for an existing builder, runtime, or refitter. Uses of the global logger, returned by nvinfer1::getLogger(), will return the existing value.\n",
      "[07/07/2025-22:00:53] [TRT] [I] Loaded engine size: 14 MiB\n",
      "[07/07/2025-22:00:53] [TRT] [I] [MemUsageChange] TensorRT-managed allocation in engine deserialization: CPU +0, GPU +11, now: CPU 0, GPU 314 (MiB)\n",
      "[07/07/2025-22:00:53] [TRT] [I] [MemUsageChange] TensorRT-managed allocation in IExecutionContext creation: CPU +1, GPU +292, now: CPU 1, GPU 606 (MiB)\n",
      "\u001b[34m\u001b[1mval: \u001b[0mFast image access ✅ (ping: 0.0±0.0 ms, read: 1832.8±822.0 MB/s, size: 162.0 KB)\n"
     ]
    },
    {
     "name": "stderr",
     "output_type": "stream",
     "text": [
      "\u001b[34m\u001b[1mval: \u001b[0mScanning /data/xl/Projects/EdgeLite/datasets/coco-pose/labels/val2017.cache... 2346 images, 0 backgrounds, 0 corru\u001b[0m\n",
      "                 Class     Images  Instances      Box(P          R      mAP50  mAP50-95)     Pose(P          R      mAP\n"
     ]
    },
    {
     "name": "stdout",
     "output_type": "stream",
     "text": [
      "                   all       2346       6352      0.867      0.841      0.915      0.716      0.839      0.792      0.838      0.555\n",
      "Speed: 0.1ms preprocess, 0.2ms inference, 0.0ms loss, 0.5ms postprocess per image\n",
      "Saving /data/xl/Projects/ultralytics/runs/pose/val487/predictions.json...\n",
      "\n",
      "Evaluating faster-coco-eval mAP using /data/xl/Projects/ultralytics/runs/pose/val487/predictions.json and datasets/coco-pose/annotations/person_keypoints_val2017.json...\n",
      "Evaluate annotation type *bbox*\n",
      "COCOeval_opt.evaluate() finished...\n",
      "DONE (t=0.99s).\n",
      "Accumulating evaluation results...\n",
      "COCOeval_opt.accumulate() finished...\n",
      "DONE (t=0.00s).\n",
      " Average Precision  (AP) @[ IoU=0.50:0.95 | area=   all | maxDets=100 ] = 0.547\n",
      " Average Precision  (AP) @[ IoU=0.50      | area=   all | maxDets=100 ] = 0.727\n",
      " Average Precision  (AP) @[ IoU=0.75      | area=   all | maxDets=100 ] = 0.606\n",
      " Average Precision  (AP) @[ IoU=0.50:0.95 | area= small | maxDets=100 ] = 0.184\n",
      " Average Precision  (AP) @[ IoU=0.50:0.95 | area=medium | maxDets=100 ] = 0.676\n",
      " Average Precision  (AP) @[ IoU=0.50:0.95 | area= large | maxDets=100 ] = 0.801\n",
      " Average Recall     (AR) @[ IoU=0.50:0.95 | area=   all | maxDets=  1 ] = 0.211\n",
      " Average Recall     (AR) @[ IoU=0.50:0.95 | area=   all | maxDets= 10 ] = 0.564\n",
      " Average Recall     (AR) @[ IoU=0.50:0.95 | area=   all | maxDets=100 ] = 0.647\n",
      " Average Recall     (AR) @[ IoU=0.50:0.95 | area= small | maxDets=100 ] = 0.278\n",
      " Average Recall     (AR) @[ IoU=0.50:0.95 | area=medium | maxDets=100 ] = 0.773\n",
      " Average Recall     (AR) @[ IoU=0.50:0.95 | area= large | maxDets=100 ] = 0.872\n",
      " Average Recall     (AR) @[ IoU=0.50      | area=   all | maxDets=100 ] = 0.827\n",
      " Average Recall     (AR) @[ IoU=0.75      | area=   all | maxDets=100 ] = 0.717\n",
      "Evaluate annotation type *keypoints*\n",
      "COCOeval_opt.evaluate() finished...\n",
      "DONE (t=3.33s).\n",
      "Accumulating evaluation results...\n",
      "COCOeval_opt.accumulate() finished...\n",
      "DONE (t=0.00s).\n",
      " Average Precision  (AP) @[ IoU=0.50:0.95 | area=   all | maxDets= 20 ] = 0.551\n",
      " Average Precision  (AP) @[ IoU=0.50      | area=   all | maxDets= 20 ] = 0.848\n",
      " Average Precision  (AP) @[ IoU=0.75      | area=   all | maxDets= 20 ] = 0.605\n",
      " Average Precision  (AP) @[ IoU=0.50:0.95 | area=medium | maxDets= 20 ] = 0.481\n",
      " Average Precision  (AP) @[ IoU=0.50:0.95 | area= large | maxDets= 20 ] = 0.665\n",
      " Average Recall     (AR) @[ IoU=0.50:0.95 | area=   all | maxDets= 20 ] = 0.623\n",
      " Average Recall     (AR) @[ IoU=0.50      | area=   all | maxDets= 20 ] = 0.893\n",
      " Average Recall     (AR) @[ IoU=0.75      | area=   all | maxDets= 20 ] = 0.682\n",
      " Average Recall     (AR) @[ IoU=0.50:0.95 | area=medium | maxDets= 20 ] = 0.540\n",
      " Average Recall     (AR) @[ IoU=0.50:0.95 | area= large | maxDets= 20 ] = 0.738\n",
      "Results saved to \u001b[1m/data/xl/Projects/ultralytics/runs/pose/val487\u001b[0m\n"
     ]
    }
   ],
   "source": [
    "metrics = ptq_trt_engine.val(data=data_yaml_file, rect=False, verbose=False, device=device)"
   ]
  },
  {
   "cell_type": "code",
   "execution_count": 36,
   "id": "d7f9ae6a-5076-4884-9133-48a27c40f569",
   "metadata": {
    "execution": {
     "iopub.execute_input": "2025-07-05T04:46:40.416449Z",
     "iopub.status.busy": "2025-07-05T04:46:40.415611Z",
     "iopub.status.idle": "2025-07-05T04:46:40.421377Z",
     "shell.execute_reply": "2025-07-05T04:46:40.420178Z",
     "shell.execute_reply.started": "2025-07-05T04:46:40.416390Z"
    }
   },
   "outputs": [],
   "source": [
    "ptq_infer_time = metrics.speed['inference']"
   ]
  },
  {
   "cell_type": "code",
   "execution_count": 37,
   "id": "115119cb-8a83-4be4-a391-5d12112fed78",
   "metadata": {
    "execution": {
     "iopub.execute_input": "2025-07-05T04:46:43.029912Z",
     "iopub.status.busy": "2025-07-05T04:46:43.029185Z",
     "iopub.status.idle": "2025-07-05T04:46:43.036899Z",
     "shell.execute_reply": "2025-07-05T04:46:43.036097Z",
     "shell.execute_reply.started": "2025-07-05T04:46:43.029859Z"
    }
   },
   "outputs": [
    {
     "name": "stderr",
     "output_type": "stream",
     "text": [
      "\u001b[32m2025-07-05 12:46:43.032\u001b[0m | \u001b[1mINFO    \u001b[0m | \u001b[36m__main__\u001b[0m:\u001b[36m<module>\u001b[0m:\u001b[36m1\u001b[0m - \u001b[1mptq trt engine-->YOLO load model evaluate inference speed:0.7 ms\u001b[0m\n"
     ]
    }
   ],
   "source": [
    "logger.info(f\"ptq trt engine-->YOLO load model evaluate inference speed:{ptq_infer_time:.1f} ms\")"
   ]
  },
  {
   "cell_type": "code",
   "execution_count": 54,
   "id": "97c21a7e-d208-4a7f-b6c3-0a8bf36820fd",
   "metadata": {
    "execution": {
     "iopub.execute_input": "2025-07-04T09:53:33.793097Z",
     "iopub.status.busy": "2025-07-04T09:53:33.792246Z",
     "iopub.status.idle": "2025-07-04T09:53:33.799500Z",
     "shell.execute_reply": "2025-07-04T09:53:33.798883Z",
     "shell.execute_reply.started": "2025-07-04T09:53:33.793036Z"
    }
   },
   "outputs": [
    {
     "name": "stderr",
     "output_type": "stream",
     "text": [
      "\u001b[32m2025-07-04 17:53:33.794\u001b[0m | \u001b[1mINFO    \u001b[0m | \u001b[36m__main__\u001b[0m:\u001b[36m<module>\u001b[0m:\u001b[36m1\u001b[0m - \u001b[1mptq vs.fp16 trt engine, speed up 1.1x\u001b[0m\n"
     ]
    }
   ],
   "source": [
    "logger.info(f\"ptq vs.fp16 trt engine, speed up {fp16_infer_time/ptq_infer_time:.1f}x\")"
   ]
  },
  {
   "cell_type": "markdown",
   "id": "627d77a3-73c8-4c8e-87bb-793f973c3115",
   "metadata": {},
   "source": [
    "# QAT"
   ]
  },
  {
   "cell_type": "code",
   "execution_count": 98,
   "id": "b1996070-ce15-4421-bdc3-adf8bd04de39",
   "metadata": {
    "execution": {
     "iopub.execute_input": "2025-07-09T04:32:08.847588Z",
     "iopub.status.busy": "2025-07-09T04:32:08.846903Z",
     "iopub.status.idle": "2025-07-09T04:32:08.852064Z",
     "shell.execute_reply": "2025-07-09T04:32:08.851420Z",
     "shell.execute_reply.started": "2025-07-09T04:32:08.847560Z"
    }
   },
   "outputs": [],
   "source": [
    "qat_pt_path = 'weights/yolov8s-pose-qat.pt'"
   ]
  },
  {
   "cell_type": "code",
   "execution_count": 99,
   "id": "99a4c145-3c74-490e-8fb6-943827758ab4",
   "metadata": {
    "execution": {
     "iopub.execute_input": "2025-07-09T04:32:10.843580Z",
     "iopub.status.busy": "2025-07-09T04:32:10.842826Z",
     "iopub.status.idle": "2025-07-09T04:32:10.981930Z",
     "shell.execute_reply": "2025-07-09T04:32:10.980950Z",
     "shell.execute_reply.started": "2025-07-09T04:32:10.843528Z"
    }
   },
   "outputs": [
    {
     "name": "stderr",
     "output_type": "stream",
     "text": [
      "/tmp/ipykernel_3799730/2763210459.py:3: FutureWarning: You are using `torch.load` with `weights_only=False` (the current default value), which uses the default pickle module implicitly. It is possible to construct malicious pickle data which will execute arbitrary code during unpickling (See https://github.com/pytorch/pytorch/blob/main/SECURITY.md#untrusted-models for more details). In a future release, the default value for `weights_only` will be flipped to `True`. This limits the functions that could be executed during unpickling. Arbitrary objects will no longer be allowed to be loaded via this mode unless they are explicitly allowlisted by the user via `torch.serialization.add_safe_globals`. We recommend you start setting `weights_only=True` for any use case where you don't have full control of the loaded file. Please open an issue on GitHub for any issues related to this experimental feature.\n",
      "  model1 = torch.load(pt_model_path, map_location=device)[\"model\"]\n"
     ]
    }
   ],
   "source": [
    "qat_model = load_model(\"weights/yolov8s-pose.pt\", 'weights/yolov8s-pose-qat.pt')"
   ]
  },
  {
   "cell_type": "code",
   "execution_count": 97,
   "id": "82563174-b9b8-410a-bc65-cb03bbdacddc",
   "metadata": {
    "execution": {
     "iopub.execute_input": "2025-07-09T04:15:50.797547Z",
     "iopub.status.busy": "2025-07-09T04:15:50.796960Z",
     "iopub.status.idle": "2025-07-09T04:16:15.059926Z",
     "shell.execute_reply": "2025-07-09T04:16:15.058965Z",
     "shell.execute_reply.started": "2025-07-09T04:15:50.797524Z"
    }
   },
   "outputs": [
    {
     "name": "stdout",
     "output_type": "stream",
     "text": [
      "Ultralytics 8.3.162 🚀 Python-3.10.18 torch-2.4.1+cu121 CUDA:0 (NVIDIA L40, 45386MiB)\n",
      "\u001b[34m\u001b[1mval: \u001b[0mFast image access ✅ (ping: 0.0±0.0 ms, read: 773.5±246.4 MB/s, size: 176.7 KB)\n"
     ]
    },
    {
     "name": "stderr",
     "output_type": "stream",
     "text": [
      "\u001b[34m\u001b[1mval: \u001b[0mScanning /data/xl/Projects/EdgeLite/datasets/coco-pose/labels/val2017.cache... 2346 images, 0 backgrounds, 0 corrupt: 100%|██████████| 2346/2346 [00:0\u001b[0m\n",
      "                 Class     Images  Instances      Box(P          R      mAP50  mAP50-95)     Pose(P          R      mAP50  mAP50-95): 100%|██████████| 147/\n"
     ]
    },
    {
     "name": "stdout",
     "output_type": "stream",
     "text": [
      "                   all       2346       6352      0.871      0.854      0.928      0.701      0.846      0.808      0.857      0.592\n",
      "Speed: 0.1ms preprocess, 1.5ms inference, 0.0ms loss, 0.5ms postprocess per image\n",
      "Saving /data/xl/Projects/ultralytics/runs/pose/val604/predictions.json...\n",
      "\n",
      "Evaluating faster-coco-eval mAP using /data/xl/Projects/ultralytics/runs/pose/val604/predictions.json and datasets/coco-pose/annotations/person_keypoints_val2017.json...\n",
      "Evaluate annotation type *bbox*\n",
      "COCOeval_opt.evaluate() finished...\n",
      "DONE (t=0.62s).\n",
      "Accumulating evaluation results...\n",
      "COCOeval_opt.accumulate() finished...\n",
      "DONE (t=0.00s).\n",
      " Average Precision  (AP) @[ IoU=0.50:0.95 | area=   all | maxDets=100 ] = 0.546\n",
      " Average Precision  (AP) @[ IoU=0.50      | area=   all | maxDets=100 ] = 0.753\n",
      " Average Precision  (AP) @[ IoU=0.75      | area=   all | maxDets=100 ] = 0.627\n",
      " Average Precision  (AP) @[ IoU=0.50:0.95 | area= small | maxDets=100 ] = 0.238\n",
      " Average Precision  (AP) @[ IoU=0.50:0.95 | area=medium | maxDets=100 ] = 0.673\n",
      " Average Precision  (AP) @[ IoU=0.50:0.95 | area= large | maxDets=100 ] = 0.762\n",
      " Average Recall     (AR) @[ IoU=0.50:0.95 | area=   all | maxDets=  1 ] = 0.205\n",
      " Average Recall     (AR) @[ IoU=0.50:0.95 | area=   all | maxDets= 10 ] = 0.562\n",
      " Average Recall     (AR) @[ IoU=0.50:0.95 | area=   all | maxDets=100 ] = 0.631\n",
      " Average Recall     (AR) @[ IoU=0.50:0.95 | area= small | maxDets=100 ] = 0.287\n",
      " Average Recall     (AR) @[ IoU=0.50:0.95 | area=medium | maxDets=100 ] = 0.757\n",
      " Average Recall     (AR) @[ IoU=0.50:0.95 | area= large | maxDets=100 ] = 0.830\n",
      " Average Recall     (AR) @[ IoU=0.50      | area=   all | maxDets=100 ] = 0.828\n",
      " Average Recall     (AR) @[ IoU=0.75      | area=   all | maxDets=100 ] = 0.716\n",
      "Evaluate annotation type *keypoints*\n",
      "COCOeval_opt.evaluate() finished...\n",
      "DONE (t=3.38s).\n",
      "Accumulating evaluation results...\n",
      "COCOeval_opt.accumulate() finished...\n",
      "DONE (t=0.00s).\n",
      " Average Precision  (AP) @[ IoU=0.50:0.95 | area=   all | maxDets= 20 ] = 0.583\n",
      " Average Precision  (AP) @[ IoU=0.50      | area=   all | maxDets= 20 ] = 0.857\n",
      " Average Precision  (AP) @[ IoU=0.75      | area=   all | maxDets= 20 ] = 0.642\n",
      " Average Precision  (AP) @[ IoU=0.50:0.95 | area=medium | maxDets= 20 ] = 0.519\n",
      " Average Precision  (AP) @[ IoU=0.50:0.95 | area= large | maxDets= 20 ] = 0.688\n",
      " Average Recall     (AR) @[ IoU=0.50:0.95 | area=   all | maxDets= 20 ] = 0.650\n",
      " Average Recall     (AR) @[ IoU=0.50      | area=   all | maxDets= 20 ] = 0.897\n",
      " Average Recall     (AR) @[ IoU=0.75      | area=   all | maxDets= 20 ] = 0.711\n",
      " Average Recall     (AR) @[ IoU=0.50:0.95 | area=medium | maxDets= 20 ] = 0.573\n",
      " Average Recall     (AR) @[ IoU=0.50:0.95 | area= large | maxDets= 20 ] = 0.758\n",
      "Results saved to \u001b[1m/data/xl/Projects/ultralytics/runs/pose/val604\u001b[0m\n"
     ]
    }
   ],
   "source": [
    "data_yaml_file = './datasets/my-coco-pose.yaml'\n",
    "# metrics = qat_model .val(data=data_yaml_file, batch=16, device='cuda:0') \n",
    "metrics = qat_model.val(data=data_yaml_file)"
   ]
  },
  {
   "cell_type": "code",
   "execution_count": 100,
   "id": "3df8442d-654f-43e2-b940-11bf620924b9",
   "metadata": {
    "execution": {
     "iopub.execute_input": "2025-07-09T04:33:19.629509Z",
     "iopub.status.busy": "2025-07-09T04:33:19.628667Z",
     "iopub.status.idle": "2025-07-09T04:33:31.851731Z",
     "shell.execute_reply": "2025-07-09T04:33:31.850849Z",
     "shell.execute_reply.started": "2025-07-09T04:33:19.629455Z"
    }
   },
   "outputs": [
    {
     "name": "stdout",
     "output_type": "stream",
     "text": [
      "Ultralytics 8.3.162 🚀 Python-3.10.18 torch-2.4.1+cu121 CPU (Intel Xeon Platinum 8457C)\n",
      "\n",
      "\u001b[34m\u001b[1mPyTorch:\u001b[0m starting from 'yolov8s-pose.yaml' with input shape (16, 3, 640, 640) BCHW and output shape(s) (16, 56, 8400) (0.0 MB)\n",
      "\n",
      "\u001b[34m\u001b[1mONNX:\u001b[0m starting export with onnx 1.17.0 opset 19...\n",
      "\u001b[34m\u001b[1mONNX:\u001b[0m slimming with onnxslim 0.1.58...\n",
      "\u001b[34m\u001b[1mONNX:\u001b[0m export success ✅ 8.0s, saved as 'yolov8s-pose.onnx' (44.6 MB)\n",
      "\n",
      "Export complete (12.2s)\n",
      "Results saved to \u001b[1m/data/xl/Projects/EdgeLite\u001b[0m\n",
      "Predict:         yolo predict task=pose model=yolov8s-pose.onnx imgsz=640  \n",
      "Validate:        yolo val task=pose model=yolov8s-pose.onnx imgsz=640 data=./datasets/my-coco-pose.yaml  \n",
      "Visualize:       https://netron.app\n"
     ]
    }
   ],
   "source": [
    "def enable_all_fake_quant(module):\n",
    "    for m in module.modules():\n",
    "        if isinstance(m, quant_nn.TensorQuantizer):\n",
    "            m._fake_quant = True\n",
    "    return module\n",
    "def validate_onnx(file):\n",
    "    model = onnx.load(file)\n",
    "    model_simp, check = simplify(\n",
    "        model,\n",
    "        skip_fuse_bn=True,\n",
    "        test_input_shapes={\"images\": [1, 3, 640, 640]},\n",
    "    )\n",
    "    onnx.save(model_simp, file)\n",
    "    print(f\"onnx validate finished , save to: {file}\")\n",
    "    print(\"========================\\n\")\n",
    "qat_model = enable_all_fake_quant(qat_model)\n",
    "path = qat_model.export(format='onnx', dynamic=True, imgsz=640, verbose=False, batch=16, workspace=2)"
   ]
  },
  {
   "cell_type": "code",
   "execution_count": 8,
   "id": "f5ac271b-c636-49d1-88c9-1282e735cbed",
   "metadata": {
    "execution": {
     "iopub.execute_input": "2025-07-08T05:54:47.662410Z",
     "iopub.status.busy": "2025-07-08T05:54:47.661520Z",
     "iopub.status.idle": "2025-07-08T05:54:47.670107Z",
     "shell.execute_reply": "2025-07-08T05:54:47.669518Z",
     "shell.execute_reply.started": "2025-07-08T05:54:47.662349Z"
    }
   },
   "outputs": [
    {
     "data": {
      "text/plain": [
       "'yolov8s-pose.onnx'"
      ]
     },
     "execution_count": 8,
     "metadata": {},
     "output_type": "execute_result"
    }
   ],
   "source": [
    "path"
   ]
  },
  {
   "cell_type": "code",
   "execution_count": 10,
   "id": "e042942d-c816-4eed-ae74-2b1639de86a2",
   "metadata": {
    "execution": {
     "iopub.execute_input": "2025-07-09T02:08:35.387121Z",
     "iopub.status.busy": "2025-07-09T02:08:35.386214Z",
     "iopub.status.idle": "2025-07-09T02:08:35.394714Z",
     "shell.execute_reply": "2025-07-09T02:08:35.394216Z",
     "shell.execute_reply.started": "2025-07-09T02:08:35.387057Z"
    }
   },
   "outputs": [
    {
     "data": {
      "text/plain": [
       "'weights/yolov8s-pose.pt'"
      ]
     },
     "execution_count": 10,
     "metadata": {},
     "output_type": "execute_result"
    }
   ],
   "source": [
    "qat_model.model_name"
   ]
  },
  {
   "cell_type": "code",
   "execution_count": 101,
   "id": "b002fbd7-7829-4004-9806-0ea0aab594aa",
   "metadata": {
    "execution": {
     "iopub.execute_input": "2025-07-09T04:35:12.358557Z",
     "iopub.status.busy": "2025-07-09T04:35:12.357727Z",
     "iopub.status.idle": "2025-07-09T04:35:13.045472Z",
     "shell.execute_reply": "2025-07-09T04:35:13.044754Z",
     "shell.execute_reply.started": "2025-07-09T04:35:12.358490Z"
    }
   },
   "outputs": [
    {
     "name": "stdout",
     "output_type": "stream",
     "text": [
      "onnx validate finished , save to: yolov8s-pose.onnx\n",
      "========================\n",
      "\n"
     ]
    }
   ],
   "source": [
    "validate_onnx('yolov8s-pose.onnx')"
   ]
  },
  {
   "cell_type": "code",
   "execution_count": 102,
   "id": "9d48a0bc-173e-4104-b899-54cf0907b841",
   "metadata": {
    "execution": {
     "iopub.execute_input": "2025-07-09T04:35:20.439785Z",
     "iopub.status.busy": "2025-07-09T04:35:20.438859Z",
     "iopub.status.idle": "2025-07-09T04:35:20.449411Z",
     "shell.execute_reply": "2025-07-09T04:35:20.448802Z",
     "shell.execute_reply.started": "2025-07-09T04:35:20.439720Z"
    }
   },
   "outputs": [],
   "source": [
    "import os\n",
    "os.rename(path, './weights/yolov8s-pose-qat.onnx')"
   ]
  },
  {
   "cell_type": "code",
   "execution_count": 103,
   "id": "e0e4f69a-1743-41fe-b546-b262b0909a9e",
   "metadata": {
    "execution": {
     "iopub.execute_input": "2025-07-09T04:35:23.043682Z",
     "iopub.status.busy": "2025-07-09T04:35:23.043104Z",
     "iopub.status.idle": "2025-07-09T04:35:23.048307Z",
     "shell.execute_reply": "2025-07-09T04:35:23.047637Z",
     "shell.execute_reply.started": "2025-07-09T04:35:23.043651Z"
    }
   },
   "outputs": [],
   "source": [
    "import os\n",
    "os.environ[\"CUDA_VISIBLE_DEVICES\"] = \"0\" "
   ]
  },
  {
   "cell_type": "code",
   "execution_count": 120,
   "id": "b7a5c8b8-ab6e-430e-94c1-8b3cababa66a",
   "metadata": {
    "execution": {
     "iopub.execute_input": "2025-07-09T05:01:28.821995Z",
     "iopub.status.busy": "2025-07-09T05:01:28.821307Z",
     "iopub.status.idle": "2025-07-09T05:09:50.415473Z",
     "shell.execute_reply": "2025-07-09T05:09:50.413603Z",
     "shell.execute_reply.started": "2025-07-09T05:01:28.821969Z"
    }
   },
   "outputs": [
    {
     "name": "stdout",
     "output_type": "stream",
     "text": [
      "&&&& RUNNING TensorRT.trtexec [TensorRT v8601] # trtexec --onnx=./weights/yolov8s-pose-qat.onnx --int8 --fp16 --saveEngine=./weights/yolov8s-pose-qat.engine --minShapes=images:1x3x640x640 --optShapes=images:16x3x640x640 --maxShapes=images:16x3x640x640\n",
      "[07/09/2025-13:01:29] [I] === Model Options ===\n",
      "[07/09/2025-13:01:29] [I] Format: ONNX\n",
      "[07/09/2025-13:01:29] [I] Model: ./weights/yolov8s-pose-qat.onnx\n",
      "[07/09/2025-13:01:29] [I] Output:\n",
      "[07/09/2025-13:01:29] [I] === Build Options ===\n",
      "[07/09/2025-13:01:29] [I] Max batch: explicit batch\n",
      "[07/09/2025-13:01:29] [I] Memory Pools: workspace: default, dlaSRAM: default, dlaLocalDRAM: default, dlaGlobalDRAM: default\n",
      "[07/09/2025-13:01:29] [I] minTiming: 1\n",
      "[07/09/2025-13:01:29] [I] avgTiming: 8\n",
      "[07/09/2025-13:01:29] [I] Precision: FP32+FP16+INT8\n",
      "[07/09/2025-13:01:29] [I] LayerPrecisions: \n",
      "[07/09/2025-13:01:29] [I] Layer Device Types: \n",
      "[07/09/2025-13:01:29] [I] Calibration: Dynamic\n",
      "[07/09/2025-13:01:29] [I] Refit: Disabled\n",
      "[07/09/2025-13:01:29] [I] Version Compatible: Disabled\n",
      "[07/09/2025-13:01:29] [I] TensorRT runtime: full\n",
      "[07/09/2025-13:01:29] [I] Lean DLL Path: \n",
      "[07/09/2025-13:01:29] [I] Tempfile Controls: { in_memory: allow, temporary: allow }\n",
      "[07/09/2025-13:01:29] [I] Exclude Lean Runtime: Disabled\n",
      "[07/09/2025-13:01:29] [I] Sparsity: Disabled\n",
      "[07/09/2025-13:01:29] [I] Safe mode: Disabled\n",
      "[07/09/2025-13:01:29] [I] Build DLA standalone loadable: Disabled\n",
      "[07/09/2025-13:01:29] [I] Allow GPU fallback for DLA: Disabled\n",
      "[07/09/2025-13:01:29] [I] DirectIO mode: Disabled\n",
      "[07/09/2025-13:01:29] [I] Restricted mode: Disabled\n",
      "[07/09/2025-13:01:29] [I] Skip inference: Disabled\n",
      "[07/09/2025-13:01:29] [I] Save engine: ./weights/yolov8s-pose-qat.engine\n",
      "[07/09/2025-13:01:29] [I] Load engine: \n",
      "[07/09/2025-13:01:29] [I] Profiling verbosity: 0\n",
      "[07/09/2025-13:01:29] [I] Tactic sources: Using default tactic sources\n",
      "[07/09/2025-13:01:29] [I] timingCacheMode: local\n",
      "[07/09/2025-13:01:29] [I] timingCacheFile: \n",
      "[07/09/2025-13:01:29] [I] Heuristic: Disabled\n",
      "[07/09/2025-13:01:29] [I] Preview Features: Use default preview flags.\n",
      "[07/09/2025-13:01:29] [I] MaxAuxStreams: -1\n",
      "[07/09/2025-13:01:29] [I] BuilderOptimizationLevel: -1\n",
      "[07/09/2025-13:01:29] [I] Input(s)s format: fp32:CHW\n",
      "[07/09/2025-13:01:29] [I] Output(s)s format: fp32:CHW\n",
      "[07/09/2025-13:01:29] [I] Input build shape: images=1x3x640x640+16x3x640x640+16x3x640x640\n",
      "[07/09/2025-13:01:29] [I] Input calibration shapes: model\n",
      "[07/09/2025-13:01:29] [I] === System Options ===\n",
      "[07/09/2025-13:01:29] [I] Device: 0\n",
      "[07/09/2025-13:01:29] [I] DLACore: \n",
      "[07/09/2025-13:01:29] [I] Plugins:\n",
      "[07/09/2025-13:01:29] [I] setPluginsToSerialize:\n",
      "[07/09/2025-13:01:29] [I] dynamicPlugins:\n",
      "[07/09/2025-13:01:29] [I] ignoreParsedPluginLibs: 0\n",
      "[07/09/2025-13:01:29] [I] \n",
      "[07/09/2025-13:01:29] [I] === Inference Options ===\n",
      "[07/09/2025-13:01:29] [I] Batch: Explicit\n",
      "[07/09/2025-13:01:29] [I] Input inference shape: images=16x3x640x640\n",
      "[07/09/2025-13:01:29] [I] Iterations: 10\n",
      "[07/09/2025-13:01:29] [I] Duration: 3s (+ 200ms warm up)\n",
      "[07/09/2025-13:01:29] [I] Sleep time: 0ms\n",
      "[07/09/2025-13:01:29] [I] Idle time: 0ms\n",
      "[07/09/2025-13:01:29] [I] Inference Streams: 1\n",
      "[07/09/2025-13:01:29] [I] ExposeDMA: Disabled\n",
      "[07/09/2025-13:01:29] [I] Data transfers: Enabled\n",
      "[07/09/2025-13:01:29] [I] Spin-wait: Disabled\n",
      "[07/09/2025-13:01:29] [I] Multithreading: Disabled\n",
      "[07/09/2025-13:01:29] [I] CUDA Graph: Disabled\n",
      "[07/09/2025-13:01:29] [I] Separate profiling: Disabled\n",
      "[07/09/2025-13:01:29] [I] Time Deserialize: Disabled\n",
      "[07/09/2025-13:01:29] [I] Time Refit: Disabled\n",
      "[07/09/2025-13:01:29] [I] NVTX verbosity: 0\n",
      "[07/09/2025-13:01:29] [I] Persistent Cache Ratio: 0\n",
      "[07/09/2025-13:01:29] [I] Inputs:\n",
      "[07/09/2025-13:01:29] [I] === Reporting Options ===\n",
      "[07/09/2025-13:01:29] [I] Verbose: Disabled\n",
      "[07/09/2025-13:01:29] [I] Averages: 10 inferences\n",
      "[07/09/2025-13:01:29] [I] Percentiles: 90,95,99\n",
      "[07/09/2025-13:01:29] [I] Dump refittable layers:Disabled\n",
      "[07/09/2025-13:01:29] [I] Dump output: Disabled\n",
      "[07/09/2025-13:01:29] [I] Profile: Disabled\n",
      "[07/09/2025-13:01:29] [I] Export timing to JSON file: \n",
      "[07/09/2025-13:01:29] [I] Export output to JSON file: \n",
      "[07/09/2025-13:01:29] [I] Export profile to JSON file: \n",
      "[07/09/2025-13:01:29] [I] \n",
      "[07/09/2025-13:01:29] [I] === Device Information ===\n",
      "[07/09/2025-13:01:29] [I] Selected Device: NVIDIA L40\n",
      "[07/09/2025-13:01:29] [I] Compute Capability: 8.9\n",
      "[07/09/2025-13:01:29] [I] SMs: 142\n",
      "[07/09/2025-13:01:29] [I] Device Global Memory: 45385 MiB\n",
      "[07/09/2025-13:01:29] [I] Shared Memory per SM: 100 KiB\n",
      "[07/09/2025-13:01:29] [I] Memory Bus Width: 384 bits (ECC enabled)\n",
      "[07/09/2025-13:01:29] [I] Application Compute Clock Rate: 2.49 GHz\n",
      "[07/09/2025-13:01:29] [I] Application Memory Clock Rate: 9.001 GHz\n",
      "[07/09/2025-13:01:29] [I] \n",
      "[07/09/2025-13:01:29] [I] Note: The application clock rates do not reflect the actual clock rates that the GPU is currently running at.\n",
      "[07/09/2025-13:01:29] [I] \n",
      "[07/09/2025-13:01:29] [I] TensorRT version: 8.6.1\n",
      "[07/09/2025-13:01:29] [I] Loading standard plugins\n",
      "[07/09/2025-13:01:29] [I] [TRT] [MemUsageChange] Init CUDA: CPU +2, GPU +0, now: CPU 19, GPU 19178 (MiB)\n",
      "[07/09/2025-13:01:36] [I] [TRT] [MemUsageChange] Init builder kernel library: CPU +1445, GPU +268, now: CPU 1540, GPU 19446 (MiB)\n",
      "[07/09/2025-13:01:36] [I] Start parsing network model.\n",
      "[07/09/2025-13:01:36] [I] [TRT] ----------------------------------------------------------------\n",
      "[07/09/2025-13:01:36] [I] [TRT] Input filename:   ./weights/yolov8s-pose-qat.onnx\n",
      "[07/09/2025-13:01:36] [I] [TRT] ONNX IR version:  0.0.9\n",
      "[07/09/2025-13:01:36] [I] [TRT] Opset version:    19\n",
      "[07/09/2025-13:01:36] [I] [TRT] Producer name:    pytorch\n",
      "[07/09/2025-13:01:36] [I] [TRT] Producer version: 2.4.1\n",
      "[07/09/2025-13:01:36] [I] [TRT] Domain:           \n",
      "[07/09/2025-13:01:36] [I] [TRT] Model version:    0\n",
      "[07/09/2025-13:01:36] [I] [TRT] Doc string:       \n",
      "[07/09/2025-13:01:36] [I] [TRT] ----------------------------------------------------------------\n",
      "[07/09/2025-13:01:36] [W] [TRT] onnx2trt_utils.cpp:374: Your ONNX model has been generated with INT64 weights, while TensorRT does not natively support INT64. Attempting to cast down to INT32.\n",
      "[07/09/2025-13:01:36] [I] Finished parsing network model. Parse time: 0.116084\n",
      "[07/09/2025-13:01:37] [W] [TRT] Calibrator won't be used in explicit precision mode. Use quantization aware training to generate network with Quantize/Dequantize nodes.\n",
      "[07/09/2025-13:01:37] [I] [TRT] Graph optimization time: 0.0585774 seconds.\n",
      "[07/09/2025-13:01:37] [I] [TRT] Local timing cache in use. Profiling results in this builder pass will not be stored.\n",
      "[07/09/2025-13:09:37] [I] [TRT] Detected 1 inputs and 4 output network tensors.\n",
      "[07/09/2025-13:09:42] [I] [TRT] Total Host Persistent Memory: 381296\n",
      "[07/09/2025-13:09:42] [I] [TRT] Total Device Persistent Memory: 0\n",
      "[07/09/2025-13:09:42] [I] [TRT] Total Scratch Memory: 17203200\n",
      "[07/09/2025-13:09:42] [I] [TRT] [MemUsageStats] Peak memory usage of TRT CPU/GPU memory allocators: CPU 56 MiB, GPU 276 MiB\n",
      "[07/09/2025-13:09:42] [I] [TRT] [BlockAssignment] Started assigning block shifts. This will take 189 steps to complete.\n",
      "[07/09/2025-13:09:42] [I] [TRT] [BlockAssignment] Algorithm ShiftNTopDown took 33.3785ms to assign 15 blocks to 189 nodes requiring 193383424 bytes.\n",
      "[07/09/2025-13:09:42] [I] [TRT] Total Activation Memory: 193381888\n",
      "[07/09/2025-13:09:44] [W] [TRT] TensorRT encountered issues when converting weights between types and that could affect accuracy.\n",
      "[07/09/2025-13:09:44] [W] [TRT] If this is not the desired behavior, please modify the weights or retrain with regularization to adjust the magnitude of the weights.\n",
      "[07/09/2025-13:09:44] [W] [TRT] Check verbose logs for the list of affected weights.\n",
      "[07/09/2025-13:09:44] [W] [TRT] - 43 weights are affected by this issue: Detected values which are outside of int8_t range and clipped them to int8_t range.\n",
      "[07/09/2025-13:09:44] [I] [TRT] [MemUsageChange] TensorRT-managed allocation in building engine: CPU +11, GPU +12, now: CPU 11, GPU 12 (MiB)\n",
      "[07/09/2025-13:09:45] [I] Engine built in 495.75 sec.\n",
      "[07/09/2025-13:09:45] [I] [TRT] Loaded engine size: 15 MiB\n",
      "[07/09/2025-13:09:45] [I] [TRT] [MemUsageChange] TensorRT-managed allocation in engine deserialization: CPU +0, GPU +11, now: CPU 0, GPU 11 (MiB)\n",
      "[07/09/2025-13:09:45] [I] Engine deserialized in 0.100615 sec.\n",
      "[07/09/2025-13:09:45] [I] [TRT] [MemUsageChange] TensorRT-managed allocation in IExecutionContext creation: CPU +0, GPU +184, now: CPU 0, GPU 195 (MiB)\n",
      "[07/09/2025-13:09:45] [I] Setting persistentCacheLimit to 0 bytes.\n",
      "[07/09/2025-13:09:45] [I] Using random values for input images\n",
      "[07/09/2025-13:09:46] [I] Input binding for images with dimensions 16x3x640x640 is created.\n",
      "[07/09/2025-13:09:46] [I] Output binding for output0 with dimensions 16x56x8400 is created.\n",
      "[07/09/2025-13:09:46] [I] Starting inference\n",
      "[07/09/2025-13:09:49] [I] Warmup completed 51 queries over 200 ms\n",
      "[07/09/2025-13:09:49] [I] Timing trace has 761 queries over 3.0094 s\n",
      "[07/09/2025-13:09:49] [I] \n",
      "[07/09/2025-13:09:49] [I] === Trace details ===\n",
      "[07/09/2025-13:09:49] [I] Trace averages of 10 runs:\n",
      "[07/09/2025-13:09:49] [I] Average on 10 runs - GPU latency: 3.28428 ms - Host latency: 7.79522 ms (enqueue 0.674248 ms)\n",
      "[07/09/2025-13:09:49] [I] Average on 10 runs - GPU latency: 3.30301 ms - Host latency: 7.81228 ms (enqueue 0.674153 ms)\n",
      "[07/09/2025-13:09:49] [I] Average on 10 runs - GPU latency: 3.31244 ms - Host latency: 7.81961 ms (enqueue 0.670636 ms)\n",
      "[07/09/2025-13:09:49] [I] Average on 10 runs - GPU latency: 3.29708 ms - Host latency: 7.81224 ms (enqueue 0.661511 ms)\n",
      "[07/09/2025-13:09:49] [I] Average on 10 runs - GPU latency: 3.28182 ms - Host latency: 7.79495 ms (enqueue 0.662598 ms)\n",
      "[07/09/2025-13:09:49] [I] Average on 10 runs - GPU latency: 3.26062 ms - Host latency: 7.77895 ms (enqueue 0.663498 ms)\n",
      "[07/09/2025-13:09:49] [I] Average on 10 runs - GPU latency: 3.27568 ms - Host latency: 7.78896 ms (enqueue 0.659784 ms)\n",
      "[07/09/2025-13:09:49] [I] Average on 10 runs - GPU latency: 3.31581 ms - Host latency: 7.82396 ms (enqueue 0.663495 ms)\n",
      "[07/09/2025-13:09:49] [I] Average on 10 runs - GPU latency: 3.3193 ms - Host latency: 7.82223 ms (enqueue 0.662018 ms)\n",
      "[07/09/2025-13:09:49] [I] Average on 10 runs - GPU latency: 3.3237 ms - Host latency: 7.82914 ms (enqueue 0.667895 ms)\n",
      "[07/09/2025-13:09:49] [I] Average on 10 runs - GPU latency: 3.31295 ms - Host latency: 7.82629 ms (enqueue 0.66098 ms)\n",
      "[07/09/2025-13:09:49] [I] Average on 10 runs - GPU latency: 3.31356 ms - Host latency: 7.8193 ms (enqueue 0.662653 ms)\n",
      "[07/09/2025-13:09:49] [I] Average on 10 runs - GPU latency: 3.27117 ms - Host latency: 7.78624 ms (enqueue 0.667108 ms)\n",
      "[07/09/2025-13:09:49] [I] Average on 10 runs - GPU latency: 3.27394 ms - Host latency: 7.78682 ms (enqueue 0.667334 ms)\n",
      "[07/09/2025-13:09:49] [I] Average on 10 runs - GPU latency: 3.28028 ms - Host latency: 7.79603 ms (enqueue 0.663147 ms)\n",
      "[07/09/2025-13:09:49] [I] Average on 10 runs - GPU latency: 3.29483 ms - Host latency: 7.80883 ms (enqueue 0.658636 ms)\n",
      "[07/09/2025-13:09:49] [I] Average on 10 runs - GPU latency: 3.31365 ms - Host latency: 7.82208 ms (enqueue 0.661371 ms)\n",
      "[07/09/2025-13:09:49] [I] Average on 10 runs - GPU latency: 3.32319 ms - Host latency: 7.83156 ms (enqueue 0.663232 ms)\n",
      "[07/09/2025-13:09:49] [I] Average on 10 runs - GPU latency: 3.31347 ms - Host latency: 7.81754 ms (enqueue 0.660651 ms)\n",
      "[07/09/2025-13:09:49] [I] Average on 10 runs - GPU latency: 3.29655 ms - Host latency: 7.80968 ms (enqueue 0.662207 ms)\n",
      "[07/09/2025-13:09:49] [I] Average on 10 runs - GPU latency: 3.28243 ms - Host latency: 7.79442 ms (enqueue 0.663293 ms)\n",
      "[07/09/2025-13:09:49] [I] Average on 10 runs - GPU latency: 3.28179 ms - Host latency: 7.79547 ms (enqueue 0.665601 ms)\n",
      "[07/09/2025-13:09:49] [I] Average on 10 runs - GPU latency: 3.31071 ms - Host latency: 7.8222 ms (enqueue 0.660144 ms)\n",
      "[07/09/2025-13:09:49] [I] Average on 10 runs - GPU latency: 3.32596 ms - Host latency: 7.83263 ms (enqueue 0.662183 ms)\n",
      "[07/09/2025-13:09:49] [I] Average on 10 runs - GPU latency: 3.32698 ms - Host latency: 7.83553 ms (enqueue 0.661462 ms)\n",
      "[07/09/2025-13:09:49] [I] Average on 10 runs - GPU latency: 3.32626 ms - Host latency: 7.83193 ms (enqueue 0.659961 ms)\n",
      "[07/09/2025-13:09:49] [I] Average on 10 runs - GPU latency: 3.31724 ms - Host latency: 7.83179 ms (enqueue 0.663147 ms)\n",
      "[07/09/2025-13:09:49] [I] Average on 10 runs - GPU latency: 3.30394 ms - Host latency: 7.82422 ms (enqueue 0.656482 ms)\n",
      "[07/09/2025-13:09:49] [I] Average on 10 runs - GPU latency: 3.29698 ms - Host latency: 7.81459 ms (enqueue 0.661133 ms)\n",
      "[07/09/2025-13:09:49] [I] Average on 10 runs - GPU latency: 3.31367 ms - Host latency: 7.82726 ms (enqueue 0.66156 ms)\n",
      "[07/09/2025-13:09:49] [I] Average on 10 runs - GPU latency: 3.31801 ms - Host latency: 7.82589 ms (enqueue 0.663245 ms)\n",
      "[07/09/2025-13:09:49] [I] Average on 10 runs - GPU latency: 3.33427 ms - Host latency: 7.8475 ms (enqueue 0.659656 ms)\n",
      "[07/09/2025-13:09:49] [I] Average on 10 runs - GPU latency: 3.32756 ms - Host latency: 7.84102 ms (enqueue 0.660608 ms)\n",
      "[07/09/2025-13:09:49] [I] Average on 10 runs - GPU latency: 3.31826 ms - Host latency: 7.8167 ms (enqueue 0.659058 ms)\n",
      "[07/09/2025-13:09:49] [I] Average on 10 runs - GPU latency: 3.32584 ms - Host latency: 7.83264 ms (enqueue 0.66405 ms)\n",
      "[07/09/2025-13:09:49] [I] Average on 10 runs - GPU latency: 3.30938 ms - Host latency: 7.81561 ms (enqueue 0.65636 ms)\n",
      "[07/09/2025-13:09:49] [I] Average on 10 runs - GPU latency: 3.29114 ms - Host latency: 7.79851 ms (enqueue 0.665662 ms)\n",
      "[07/09/2025-13:09:49] [I] Average on 10 runs - GPU latency: 3.29288 ms - Host latency: 7.80468 ms (enqueue 0.658667 ms)\n",
      "[07/09/2025-13:09:49] [I] Average on 10 runs - GPU latency: 3.31396 ms - Host latency: 7.82092 ms (enqueue 0.661743 ms)\n",
      "[07/09/2025-13:09:49] [I] Average on 10 runs - GPU latency: 3.3113 ms - Host latency: 7.81648 ms (enqueue 0.657874 ms)\n",
      "[07/09/2025-13:09:49] [I] Average on 10 runs - GPU latency: 3.31735 ms - Host latency: 7.81885 ms (enqueue 0.663489 ms)\n",
      "[07/09/2025-13:09:49] [I] Average on 10 runs - GPU latency: 3.31735 ms - Host latency: 7.82213 ms (enqueue 0.658252 ms)\n",
      "[07/09/2025-13:09:49] [I] Average on 10 runs - GPU latency: 3.31818 ms - Host latency: 7.82201 ms (enqueue 0.662073 ms)\n",
      "[07/09/2025-13:09:49] [I] Average on 10 runs - GPU latency: 3.32147 ms - Host latency: 7.8245 ms (enqueue 0.658337 ms)\n",
      "[07/09/2025-13:09:49] [I] Average on 10 runs - GPU latency: 3.30985 ms - Host latency: 7.81729 ms (enqueue 0.662573 ms)\n",
      "[07/09/2025-13:09:49] [I] Average on 10 runs - GPU latency: 3.28795 ms - Host latency: 7.79911 ms (enqueue 0.660559 ms)\n",
      "[07/09/2025-13:09:49] [I] Average on 10 runs - GPU latency: 3.30662 ms - Host latency: 7.81663 ms (enqueue 0.663147 ms)\n",
      "[07/09/2025-13:09:49] [I] Average on 10 runs - GPU latency: 3.3228 ms - Host latency: 7.82471 ms (enqueue 0.657568 ms)\n",
      "[07/09/2025-13:09:49] [I] Average on 10 runs - GPU latency: 3.31677 ms - Host latency: 7.81853 ms (enqueue 0.660937 ms)\n",
      "[07/09/2025-13:09:49] [I] Average on 10 runs - GPU latency: 3.3155 ms - Host latency: 7.82139 ms (enqueue 0.657593 ms)\n",
      "[07/09/2025-13:09:49] [I] Average on 10 runs - GPU latency: 3.31711 ms - Host latency: 7.82356 ms (enqueue 0.664185 ms)\n",
      "[07/09/2025-13:09:49] [I] Average on 10 runs - GPU latency: 3.30994 ms - Host latency: 7.81597 ms (enqueue 0.659644 ms)\n",
      "[07/09/2025-13:09:49] [I] Average on 10 runs - GPU latency: 3.29595 ms - Host latency: 7.80413 ms (enqueue 0.662061 ms)\n",
      "[07/09/2025-13:09:49] [I] Average on 10 runs - GPU latency: 3.28188 ms - Host latency: 7.79243 ms (enqueue 0.661377 ms)\n",
      "[07/09/2025-13:09:49] [I] Average on 10 runs - GPU latency: 3.27114 ms - Host latency: 7.7874 ms (enqueue 0.663574 ms)\n",
      "[07/09/2025-13:09:49] [I] Average on 10 runs - GPU latency: 3.28542 ms - Host latency: 7.7957 ms (enqueue 0.66023 ms)\n",
      "[07/09/2025-13:09:49] [I] Average on 10 runs - GPU latency: 3.32581 ms - Host latency: 7.82756 ms (enqueue 0.659985 ms)\n",
      "[07/09/2025-13:09:49] [I] Average on 10 runs - GPU latency: 3.31946 ms - Host latency: 7.82368 ms (enqueue 0.660474 ms)\n",
      "[07/09/2025-13:09:49] [I] Average on 10 runs - GPU latency: 3.32717 ms - Host latency: 7.8322 ms (enqueue 0.662085 ms)\n",
      "[07/09/2025-13:09:49] [I] Average on 10 runs - GPU latency: 3.31621 ms - Host latency: 7.8187 ms (enqueue 0.656128 ms)\n",
      "[07/09/2025-13:09:49] [I] Average on 10 runs - GPU latency: 3.29553 ms - Host latency: 7.80676 ms (enqueue 0.659619 ms)\n",
      "[07/09/2025-13:09:49] [I] Average on 10 runs - GPU latency: 3.31462 ms - Host latency: 7.82021 ms (enqueue 0.659766 ms)\n",
      "[07/09/2025-13:09:49] [I] Average on 10 runs - GPU latency: 3.31287 ms - Host latency: 7.81633 ms (enqueue 0.661353 ms)\n",
      "[07/09/2025-13:09:49] [I] Average on 10 runs - GPU latency: 3.31511 ms - Host latency: 7.81921 ms (enqueue 0.669897 ms)\n",
      "[07/09/2025-13:09:49] [I] Average on 10 runs - GPU latency: 3.31445 ms - Host latency: 7.82053 ms (enqueue 0.658716 ms)\n",
      "[07/09/2025-13:09:49] [I] Average on 10 runs - GPU latency: 3.31868 ms - Host latency: 7.8261 ms (enqueue 0.657764 ms)\n",
      "[07/09/2025-13:09:49] [I] Average on 10 runs - GPU latency: 3.31885 ms - Host latency: 7.82434 ms (enqueue 0.663916 ms)\n",
      "[07/09/2025-13:09:49] [I] Average on 10 runs - GPU latency: 3.31621 ms - Host latency: 7.82117 ms (enqueue 0.659058 ms)\n",
      "[07/09/2025-13:09:49] [I] Average on 10 runs - GPU latency: 3.31406 ms - Host latency: 7.81846 ms (enqueue 0.662524 ms)\n",
      "[07/09/2025-13:09:49] [I] Average on 10 runs - GPU latency: 3.29963 ms - Host latency: 7.8082 ms (enqueue 0.659277 ms)\n",
      "[07/09/2025-13:09:49] [I] Average on 10 runs - GPU latency: 3.30913 ms - Host latency: 7.81138 ms (enqueue 0.663306 ms)\n",
      "[07/09/2025-13:09:49] [I] Average on 10 runs - GPU latency: 3.31328 ms - Host latency: 7.82427 ms (enqueue 0.660376 ms)\n",
      "[07/09/2025-13:09:49] [I] Average on 10 runs - GPU latency: 3.32085 ms - Host latency: 7.82336 ms (enqueue 0.661646 ms)\n",
      "[07/09/2025-13:09:49] [I] Average on 10 runs - GPU latency: 3.32571 ms - Host latency: 7.82925 ms (enqueue 0.658789 ms)\n",
      "[07/09/2025-13:09:49] [I] Average on 10 runs - GPU latency: 3.32996 ms - Host latency: 7.8345 ms (enqueue 0.839063 ms)\n",
      "[07/09/2025-13:09:49] [I] Average on 10 runs - GPU latency: 3.32595 ms - Host latency: 7.83638 ms (enqueue 0.775903 ms)\n",
      "[07/09/2025-13:09:49] [I] \n",
      "[07/09/2025-13:09:49] [I] === Performance summary ===\n",
      "[07/09/2025-13:09:49] [I] Throughput: 252.875 qps\n",
      "[07/09/2025-13:09:49] [I] Latency: min = 7.69238 ms, max = 7.8728 ms, mean = 7.81639 ms, median = 7.8186 ms, percentile(90%) = 7.83899 ms, percentile(95%) = 7.84497 ms, percentile(99%) = 7.85632 ms\n",
      "[07/09/2025-13:09:49] [I] Enqueue Time: min = 0.648132 ms, max = 2.26465 ms, mean = 0.665832 ms, median = 0.659668 ms, percentile(90%) = 0.672119 ms, percentile(95%) = 0.677612 ms, percentile(99%) = 0.764893 ms\n",
      "[07/09/2025-13:09:49] [I] H2D Latency: min = 3.18567 ms, max = 3.27745 ms, mean = 3.22619 ms, median = 3.22388 ms, percentile(90%) = 3.24927 ms, percentile(95%) = 3.25354 ms, percentile(99%) = 3.26123 ms\n",
      "[07/09/2025-13:09:49] [I] GPU Compute Time: min = 3.24197 ms, max = 3.34839 ms, mean = 3.3082 ms, median = 3.31274 ms, percentile(90%) = 3.33105 ms, percentile(95%) = 3.33618 ms, percentile(99%) = 3.34131 ms\n",
      "[07/09/2025-13:09:49] [I] D2H Latency: min = 1.15332 ms, max = 1.32855 ms, mean = 1.282 ms, median = 1.28052 ms, percentile(90%) = 1.30743 ms, percentile(95%) = 1.31171 ms, percentile(99%) = 1.31839 ms\n",
      "[07/09/2025-13:09:49] [I] Total Host Walltime: 3.0094 s\n",
      "[07/09/2025-13:09:49] [I] Total GPU Compute Time: 2.51754 s\n",
      "[07/09/2025-13:09:49] [I] Explanations of the performance metrics are printed in the verbose logs.\n",
      "[07/09/2025-13:09:49] [I] \n",
      "&&&& PASSED TensorRT.trtexec [TensorRT v8601] # trtexec --onnx=./weights/yolov8s-pose-qat.onnx --int8 --fp16 --saveEngine=./weights/yolov8s-pose-qat.engine --minShapes=images:1x3x640x640 --optShapes=images:16x3x640x640 --maxShapes=images:16x3x640x640\n"
     ]
    }
   ],
   "source": [
    "!trtexec --onnx=./weights/yolov8s-pose-qat.onnx --int8 --fp16 --saveEngine=./weights/yolov8s-pose-qat.engine --minShapes=images:1x3x640x640 --optShapes=images:16x3x640x640 --maxShapes=images:16x3x640x640"
   ]
  },
  {
   "cell_type": "code",
   "execution_count": 121,
   "id": "de724382-ee49-404b-9d8b-7a4243ec3d46",
   "metadata": {
    "execution": {
     "iopub.execute_input": "2025-07-09T06:37:26.528165Z",
     "iopub.status.busy": "2025-07-09T06:37:26.527132Z",
     "iopub.status.idle": "2025-07-09T06:37:26.535288Z",
     "shell.execute_reply": "2025-07-09T06:37:26.534288Z",
     "shell.execute_reply.started": "2025-07-09T06:37:26.528096Z"
    }
   },
   "outputs": [],
   "source": [
    "import os\n",
    "os.environ[\"CUDA_VISIBLE_DEVICES\"] = \"0\" \n",
    "qat_engine_path = './weights/yolov8s-pose-qat.engine'\n",
    "qat_model = YOLO(qat_engine_path, task='pose')"
   ]
  },
  {
   "cell_type": "code",
   "execution_count": 127,
   "id": "950f4fdb-36e7-477d-b734-af36484a15da",
   "metadata": {
    "execution": {
     "iopub.execute_input": "2025-07-09T06:39:23.193442Z",
     "iopub.status.busy": "2025-07-09T06:39:23.192620Z",
     "iopub.status.idle": "2025-07-09T06:39:45.868526Z",
     "shell.execute_reply": "2025-07-09T06:39:45.867817Z",
     "shell.execute_reply.started": "2025-07-09T06:39:23.193392Z"
    }
   },
   "outputs": [
    {
     "name": "stdout",
     "output_type": "stream",
     "text": [
      "Ultralytics 8.3.162 🚀 Python-3.10.18 torch-2.4.1+cu121 CUDA:0 (NVIDIA L40, 45386MiB)\n",
      "Loading weights/yolov8s-pose-qat.engine for TensorRT inference...\n",
      "[07/09/2025-14:39:23] [TRT] [I] The logger passed into createInferRuntime differs from one already provided for an existing builder, runtime, or refitter. Uses of the global logger, returned by nvinfer1::getLogger(), will return the existing value.\n",
      "[07/09/2025-14:39:23] [TRT] [I] Loaded engine size: 15 MiB\n",
      "[07/09/2025-14:39:23] [TRT] [I] [MemUsageChange] TensorRT-managed allocation in engine deserialization: CPU +0, GPU +12, now: CPU 1, GPU 403 (MiB)\n",
      "[07/09/2025-14:39:23] [TRT] [I] [MemUsageChange] TensorRT-managed allocation in IExecutionContext creation: CPU +1, GPU +184, now: CPU 2, GPU 587 (MiB)\n",
      "WARNING ⚠️ Metadata not found for 'model=./weights/yolov8s-pose-qat.engine'\n",
      "\u001b[34m\u001b[1mval: \u001b[0mFast image access ✅ (ping: 0.0±0.0 ms, read: 788.0±87.7 MB/s, size: 163.2 KB)\n"
     ]
    },
    {
     "name": "stderr",
     "output_type": "stream",
     "text": [
      "\u001b[34m\u001b[1mval: \u001b[0mScanning /data/xl/Projects/EdgeLite/datasets/coco-pose/labels/val2017.cache... 2346 images, 0 backgrounds, 0 corrupt: 100%|██████████| 2346/2346 [00:0\u001b[0m\n",
      "                 Class     Images  Instances      Box(P          R      mAP50  mAP50-95)     Pose(P          R      mAP50  mAP50-95): 100%|██████████| 147/\n"
     ]
    },
    {
     "name": "stdout",
     "output_type": "stream",
     "text": [
      "                   all       2346       6352      0.871      0.847      0.922        0.7      0.851      0.801      0.854      0.591\n",
      "Speed: 0.1ms preprocess, 0.2ms inference, 0.0ms loss, 0.5ms postprocess per image\n",
      "Saving /data/xl/Projects/ultralytics/runs/pose/val624/predictions.json...\n",
      "\n",
      "Evaluating faster-coco-eval mAP using /data/xl/Projects/ultralytics/runs/pose/val624/predictions.json and datasets/coco-pose/annotations/person_keypoints_val2017.json...\n",
      "Evaluate annotation type *bbox*\n",
      "COCOeval_opt.evaluate() finished...\n",
      "DONE (t=0.57s).\n",
      "Accumulating evaluation results...\n",
      "COCOeval_opt.accumulate() finished...\n",
      "DONE (t=0.00s).\n",
      " Average Precision  (AP) @[ IoU=0.50:0.95 | area=   all | maxDets=100 ] = 0.540\n",
      " Average Precision  (AP) @[ IoU=0.50      | area=   all | maxDets=100 ] = 0.737\n",
      " Average Precision  (AP) @[ IoU=0.75      | area=   all | maxDets=100 ] = 0.613\n",
      " Average Precision  (AP) @[ IoU=0.50:0.95 | area= small | maxDets=100 ] = 0.199\n",
      " Average Precision  (AP) @[ IoU=0.50:0.95 | area=medium | maxDets=100 ] = 0.668\n",
      " Average Precision  (AP) @[ IoU=0.50:0.95 | area= large | maxDets=100 ] = 0.771\n",
      " Average Recall     (AR) @[ IoU=0.50:0.95 | area=   all | maxDets=  1 ] = 0.206\n",
      " Average Recall     (AR) @[ IoU=0.50:0.95 | area=   all | maxDets= 10 ] = 0.556\n",
      " Average Recall     (AR) @[ IoU=0.50:0.95 | area=   all | maxDets=100 ] = 0.631\n",
      " Average Recall     (AR) @[ IoU=0.50:0.95 | area= small | maxDets=100 ] = 0.273\n",
      " Average Recall     (AR) @[ IoU=0.50:0.95 | area=medium | maxDets=100 ] = 0.757\n",
      " Average Recall     (AR) @[ IoU=0.50:0.95 | area= large | maxDets=100 ] = 0.843\n",
      " Average Recall     (AR) @[ IoU=0.50      | area=   all | maxDets=100 ] = 0.821\n",
      " Average Recall     (AR) @[ IoU=0.75      | area=   all | maxDets=100 ] = 0.712\n",
      "Evaluate annotation type *keypoints*\n",
      "COCOeval_opt.evaluate() finished...\n",
      "DONE (t=3.09s).\n",
      "Accumulating evaluation results...\n",
      "COCOeval_opt.accumulate() finished...\n",
      "DONE (t=0.00s).\n",
      " Average Precision  (AP) @[ IoU=0.50:0.95 | area=   all | maxDets= 20 ] = 0.584\n",
      " Average Precision  (AP) @[ IoU=0.50      | area=   all | maxDets= 20 ] = 0.857\n",
      " Average Precision  (AP) @[ IoU=0.75      | area=   all | maxDets= 20 ] = 0.647\n",
      " Average Precision  (AP) @[ IoU=0.50:0.95 | area=medium | maxDets= 20 ] = 0.519\n",
      " Average Precision  (AP) @[ IoU=0.50:0.95 | area= large | maxDets= 20 ] = 0.688\n",
      " Average Recall     (AR) @[ IoU=0.50:0.95 | area=   all | maxDets= 20 ] = 0.652\n",
      " Average Recall     (AR) @[ IoU=0.50      | area=   all | maxDets= 20 ] = 0.897\n",
      " Average Recall     (AR) @[ IoU=0.75      | area=   all | maxDets= 20 ] = 0.716\n",
      " Average Recall     (AR) @[ IoU=0.50:0.95 | area=medium | maxDets= 20 ] = 0.574\n",
      " Average Recall     (AR) @[ IoU=0.50:0.95 | area= large | maxDets= 20 ] = 0.759\n",
      "Results saved to \u001b[1m/data/xl/Projects/ultralytics/runs/pose/val624\u001b[0m\n"
     ]
    }
   ],
   "source": [
    "metrics = qat_model.val(data=data_yaml_file,batch=16, rect=False, device=device)"
   ]
  },
  {
   "cell_type": "markdown",
   "id": "76a47ecf-1afd-467f-b216-519a659a0420",
   "metadata": {},
   "source": [
    "**--int8(fp32+int8)**"
   ]
  },
  {
   "cell_type": "code",
   "execution_count": 119,
   "id": "ec2de690-51c6-471a-af7d-500c51c19fb0",
   "metadata": {
    "execution": {
     "iopub.execute_input": "2025-07-09T05:00:31.126608Z",
     "iopub.status.busy": "2025-07-09T05:00:31.126392Z",
     "iopub.status.idle": "2025-07-09T05:00:31.131009Z",
     "shell.execute_reply": "2025-07-09T05:00:31.130563Z",
     "shell.execute_reply.started": "2025-07-09T05:00:31.126591Z"
    }
   },
   "outputs": [
    {
     "data": {
      "text/plain": [
       "{'preprocess': 0.1592556812990225,\n",
       " 'inference': 0.3285312433909698,\n",
       " 'loss': 0.00043988958491808007,\n",
       " 'postprocess': 0.4968066672113297}"
      ]
     },
     "execution_count": 119,
     "metadata": {},
     "output_type": "execute_result"
    }
   ],
   "source": [
    "metrics.speed"
   ]
  },
  {
   "cell_type": "markdown",
   "id": "7f112aee-af8f-445a-819b-757341d2a516",
   "metadata": {},
   "source": [
    "**--int8 --fp16 (fp32+fp16+int8)**"
   ]
  },
  {
   "cell_type": "code",
   "execution_count": 112,
   "id": "235aafc0-c884-491e-a4a8-42e176d89663",
   "metadata": {
    "execution": {
     "iopub.execute_input": "2025-07-09T04:50:24.222277Z",
     "iopub.status.busy": "2025-07-09T04:50:24.221528Z",
     "iopub.status.idle": "2025-07-09T04:50:24.227587Z",
     "shell.execute_reply": "2025-07-09T04:50:24.227063Z",
     "shell.execute_reply.started": "2025-07-09T04:50:24.222247Z"
    }
   },
   "outputs": [
    {
     "data": {
      "text/plain": [
       "{'preprocess': 0.14382310366283432,\n",
       " 'inference': 0.20884833815098697,\n",
       " 'loss': 0.0004549553452690036,\n",
       " 'postprocess': 0.5027503953239891}"
      ]
     },
     "execution_count": 112,
     "metadata": {},
     "output_type": "execute_result"
    }
   ],
   "source": [
    "metrics.speed"
   ]
  },
  {
   "cell_type": "markdown",
   "id": "f345f083-e635-44bf-96b8-8aa535923310",
   "metadata": {},
   "source": [
    "# prune"
   ]
  },
  {
   "cell_type": "markdown",
   "id": "b3105cbc-6949-46b7-a46b-af58ec97ae76",
   "metadata": {
    "execution": {
     "iopub.execute_input": "2025-07-04T09:19:42.106333Z",
     "iopub.status.busy": "2025-07-04T09:19:42.105635Z",
     "iopub.status.idle": "2025-07-04T09:19:42.112641Z",
     "shell.execute_reply": "2025-07-04T09:19:42.111789Z",
     "shell.execute_reply.started": "2025-07-04T09:19:42.106288Z"
    }
   },
   "source": [
    "* 剪枝后的yolov8s-pose的pt->\"./output/yolov8s-pose-prune-sp0.5-epoch60/step_19_finetune/weights/best.pt\"\n",
    "* 原始的yolov8s-pose的pt->'./weights/yolov8s-pose.pt'"
   ]
  },
  {
   "cell_type": "code",
   "execution_count": 77,
   "id": "352e8007-62a3-4703-b9ef-a9787d7bbbd7",
   "metadata": {
    "execution": {
     "iopub.execute_input": "2025-07-09T03:50:07.204330Z",
     "iopub.status.busy": "2025-07-09T03:50:07.203919Z",
     "iopub.status.idle": "2025-07-09T03:50:07.207708Z",
     "shell.execute_reply": "2025-07-09T03:50:07.207017Z",
     "shell.execute_reply.started": "2025-07-09T03:50:07.204311Z"
    }
   },
   "outputs": [],
   "source": [
    "# pt_path = \"./output/yolov8s-pose-prune-sp0.5-epoch60/step_19_finetune/weights/best.pt\"\n",
    "pt_path = \"./output/yolov8s-pose-prune-sp0.3-epochs120/step_6_finetune/weights/best.pt\"\n",
    "# pt_path = \"./output/yolov8s-pose-prune-sp0.3-epoch60/step_19_finetune/weights/best.pt\""
   ]
  },
  {
   "cell_type": "code",
   "execution_count": null,
   "id": "b6639211-6c6e-4cc8-8adb-323cc28d11bb",
   "metadata": {},
   "outputs": [],
   "source": []
  },
  {
   "cell_type": "code",
   "execution_count": 82,
   "id": "5024882d-8e21-43d0-a552-3ca27e3c26db",
   "metadata": {
    "execution": {
     "iopub.execute_input": "2025-07-09T03:51:47.310636Z",
     "iopub.status.busy": "2025-07-09T03:51:47.310192Z",
     "iopub.status.idle": "2025-07-09T03:51:47.362008Z",
     "shell.execute_reply": "2025-07-09T03:51:47.361131Z",
     "shell.execute_reply.started": "2025-07-09T03:51:47.310615Z"
    }
   },
   "outputs": [],
   "source": [
    "pruned_model = YOLO(pt_path, task='pose')\n",
    "# pruned_model = load_model(org_pt_path, pt_path)"
   ]
  },
  {
   "cell_type": "code",
   "execution_count": 85,
   "id": "c6ae139f-fca1-45b6-b316-887763ed7af4",
   "metadata": {
    "collapsed": true,
    "execution": {
     "iopub.execute_input": "2025-07-09T03:52:49.709435Z",
     "iopub.status.busy": "2025-07-09T03:52:49.709236Z",
     "iopub.status.idle": "2025-07-09T03:53:12.936134Z",
     "shell.execute_reply": "2025-07-09T03:53:12.934847Z",
     "shell.execute_reply.started": "2025-07-09T03:52:49.709416Z"
    },
    "jupyter": {
     "outputs_hidden": true
    },
    "scrolled": true
   },
   "outputs": [
    {
     "name": "stdout",
     "output_type": "stream",
     "text": [
      "Ultralytics 8.3.162 🚀 Python-3.10.18 torch-2.4.1+cu121 CUDA:0 (NVIDIA L40, 45386MiB)\n",
      "\u001b[34m\u001b[1mval: \u001b[0mFast image access ✅ (ping: 0.0±0.0 ms, read: 1124.7±172.8 MB/s, size: 204.4 KB)\n"
     ]
    },
    {
     "name": "stderr",
     "output_type": "stream",
     "text": [
      "\u001b[34m\u001b[1mval: \u001b[0mScanning /data/xl/Projects/EdgeLite/datasets/coco-pose/labels/val2017.cache... 2346 images, 0 backgrounds, 0 corrupt: 100%|██████████| 2346/2346 [00:0\u001b[0m\n",
      "                 Class     Images  Instances      Box(P          R      mAP50  mAP50-95)     Pose(P          R      mAP50  mAP50-95): 100%|██████████| 147/\n"
     ]
    },
    {
     "name": "stdout",
     "output_type": "stream",
     "text": [
      "                   all       2346       6352      0.874      0.849      0.926      0.733      0.857      0.794      0.847       0.58\n",
      "Speed: 0.1ms preprocess, 0.9ms inference, 0.0ms loss, 0.5ms postprocess per image\n",
      "Saving /data/xl/Projects/ultralytics/runs/pose/val589/predictions.json...\n",
      "\n",
      "Evaluating faster-coco-eval mAP using /data/xl/Projects/ultralytics/runs/pose/val589/predictions.json and datasets/coco-pose/annotations/person_keypoints_val2017.json...\n",
      "Evaluate annotation type *bbox*\n",
      "COCOeval_opt.evaluate() finished...\n",
      "DONE (t=0.56s).\n",
      "Accumulating evaluation results...\n",
      "COCOeval_opt.accumulate() finished...\n",
      "DONE (t=0.00s).\n",
      " Average Precision  (AP) @[ IoU=0.50:0.95 | area=   all | maxDets=100 ] = 0.562\n",
      " Average Precision  (AP) @[ IoU=0.50      | area=   all | maxDets=100 ] = 0.740\n",
      " Average Precision  (AP) @[ IoU=0.75      | area=   all | maxDets=100 ] = 0.623\n",
      " Average Precision  (AP) @[ IoU=0.50:0.95 | area= small | maxDets=100 ] = 0.235\n",
      " Average Precision  (AP) @[ IoU=0.50:0.95 | area=medium | maxDets=100 ] = 0.690\n",
      " Average Precision  (AP) @[ IoU=0.50:0.95 | area= large | maxDets=100 ] = 0.814\n",
      " Average Recall     (AR) @[ IoU=0.50:0.95 | area=   all | maxDets=  1 ] = 0.214\n",
      " Average Recall     (AR) @[ IoU=0.50:0.95 | area=   all | maxDets= 10 ] = 0.575\n",
      " Average Recall     (AR) @[ IoU=0.50:0.95 | area=   all | maxDets=100 ] = 0.646\n",
      " Average Recall     (AR) @[ IoU=0.50:0.95 | area= small | maxDets=100 ] = 0.272\n",
      " Average Recall     (AR) @[ IoU=0.50:0.95 | area=medium | maxDets=100 ] = 0.773\n",
      " Average Recall     (AR) @[ IoU=0.50:0.95 | area= large | maxDets=100 ] = 0.875\n",
      " Average Recall     (AR) @[ IoU=0.50      | area=   all | maxDets=100 ] = 0.824\n",
      " Average Recall     (AR) @[ IoU=0.75      | area=   all | maxDets=100 ] = 0.719\n",
      "Evaluate annotation type *keypoints*\n",
      "COCOeval_opt.evaluate() finished...\n",
      "DONE (t=3.04s).\n",
      "Accumulating evaluation results...\n",
      "COCOeval_opt.accumulate() finished...\n",
      "DONE (t=0.00s).\n",
      " Average Precision  (AP) @[ IoU=0.50:0.95 | area=   all | maxDets= 20 ] = 0.571\n",
      " Average Precision  (AP) @[ IoU=0.50      | area=   all | maxDets= 20 ] = 0.851\n",
      " Average Precision  (AP) @[ IoU=0.75      | area=   all | maxDets= 20 ] = 0.621\n",
      " Average Precision  (AP) @[ IoU=0.50:0.95 | area=medium | maxDets= 20 ] = 0.511\n",
      " Average Precision  (AP) @[ IoU=0.50:0.95 | area= large | maxDets= 20 ] = 0.672\n",
      " Average Recall     (AR) @[ IoU=0.50:0.95 | area=   all | maxDets= 20 ] = 0.639\n",
      " Average Recall     (AR) @[ IoU=0.50      | area=   all | maxDets= 20 ] = 0.892\n",
      " Average Recall     (AR) @[ IoU=0.75      | area=   all | maxDets= 20 ] = 0.693\n",
      " Average Recall     (AR) @[ IoU=0.50:0.95 | area=medium | maxDets= 20 ] = 0.564\n",
      " Average Recall     (AR) @[ IoU=0.50:0.95 | area= large | maxDets= 20 ] = 0.743\n",
      "Results saved to \u001b[1m/data/xl/Projects/ultralytics/runs/pose/val589\u001b[0m\n"
     ]
    }
   ],
   "source": [
    "metrics = pruned_model.val(data=data_yaml_file, batch=16, device=device) "
   ]
  },
  {
   "cell_type": "code",
   "execution_count": 23,
   "id": "4b298927-1b39-49cc-b620-a172ae510128",
   "metadata": {
    "execution": {
     "iopub.execute_input": "2025-07-07T14:03:47.307709Z",
     "iopub.status.busy": "2025-07-07T14:03:47.307508Z",
     "iopub.status.idle": "2025-07-07T14:03:47.311638Z",
     "shell.execute_reply": "2025-07-07T14:03:47.311205Z",
     "shell.execute_reply.started": "2025-07-07T14:03:47.307692Z"
    }
   },
   "outputs": [
    {
     "name": "stderr",
     "output_type": "stream",
     "text": [
      "\u001b[32m2025-07-07 22:03:47.308\u001b[0m | \u001b[1mINFO    \u001b[0m | \u001b[36m__main__\u001b[0m:\u001b[36m<module>\u001b[0m:\u001b[36m1\u001b[0m - \u001b[1mpruning sp0.5 pt-->YOLO load model evaluate inference speed:0.5 ms\u001b[0m\n"
     ]
    }
   ],
   "source": [
    "logger.info(f\"pruning sp0.5 pt-->YOLO load model evaluate inference speed:{metrics.speed['inference']:.1f} ms\")"
   ]
  },
  {
   "cell_type": "code",
   "execution_count": 24,
   "id": "7effea42-f4c0-44c5-8100-2af4ed623654",
   "metadata": {
    "execution": {
     "iopub.execute_input": "2025-07-07T14:03:47.312500Z",
     "iopub.status.busy": "2025-07-07T14:03:47.312364Z",
     "iopub.status.idle": "2025-07-07T14:03:47.315299Z",
     "shell.execute_reply": "2025-07-07T14:03:47.314888Z",
     "shell.execute_reply.started": "2025-07-07T14:03:47.312486Z"
    }
   },
   "outputs": [
    {
     "name": "stderr",
     "output_type": "stream",
     "text": [
      "\u001b[32m2025-07-07 22:03:47.313\u001b[0m | \u001b[1mINFO    \u001b[0m | \u001b[36m__main__\u001b[0m:\u001b[36m<module>\u001b[0m:\u001b[36m1\u001b[0m - \u001b[1mpruning sp0.3 pt-->YOLO load model evaluate inference speed:0.5 ms\u001b[0m\n"
     ]
    }
   ],
   "source": [
    "logger.info(f\"pruning sp0.3 pt-->YOLO load model evaluate inference speed:{metrics.speed['inference']:.1f} ms\")"
   ]
  },
  {
   "cell_type": "markdown",
   "id": "a3c9ff10-cc41-48eb-adcb-241e683cb93c",
   "metadata": {},
   "source": [
    "**注意,我们发现，多次运行会得到不一样的结果，取值分别有1.3、0.9、0.8、0.6、0.5、0.4ms**\n",
    "* 可以YOLO加载model以及load_model加载model多次切换运行，就可以得到0.4ms"
   ]
  },
  {
   "cell_type": "markdown",
   "id": "04fa8618-b4a9-4fca-9225-a2086ee4616f",
   "metadata": {
    "execution": {
     "iopub.execute_input": "2025-07-04T11:03:31.786813Z",
     "iopub.status.busy": "2025-07-04T11:03:31.786183Z",
     "iopub.status.idle": "2025-07-04T11:03:31.792454Z",
     "shell.execute_reply": "2025-07-04T11:03:31.791699Z",
     "shell.execute_reply.started": "2025-07-04T11:03:31.786767Z"
    }
   },
   "source": [
    "**Pruned fp16 trt engine**"
   ]
  },
  {
   "cell_type": "code",
   "execution_count": 86,
   "id": "cc68c256-ef98-4f51-91a4-b98cc9c21ba0",
   "metadata": {
    "execution": {
     "iopub.execute_input": "2025-07-09T03:53:37.983693Z",
     "iopub.status.busy": "2025-07-09T03:53:37.983198Z",
     "iopub.status.idle": "2025-07-09T03:58:29.491665Z",
     "shell.execute_reply": "2025-07-09T03:58:29.490943Z",
     "shell.execute_reply.started": "2025-07-09T03:53:37.983667Z"
    }
   },
   "outputs": [
    {
     "name": "stdout",
     "output_type": "stream",
     "text": [
      "WARNING ⚠️ TensorRT requires GPU export, automatically assigning device=0\n",
      "Ultralytics 8.3.162 🚀 Python-3.10.18 torch-2.4.1+cu121 CUDA:0 (NVIDIA L40, 45386MiB)\n",
      "\n",
      "\u001b[34m\u001b[1mPyTorch:\u001b[0m starting from 'output/yolov8s-pose-prune-sp0.3-epochs120/step_6_finetune/weights/best.pt' with input shape (16, 3, 640, 640) BCHW and output shape(s) (16, 56, 8400) (33.4 MB)\n",
      "\n",
      "\u001b[34m\u001b[1mONNX:\u001b[0m starting export with onnx 1.17.0 opset 19...\n",
      "\u001b[34m\u001b[1mONNX:\u001b[0m slimming with onnxslim 0.1.58...\n",
      "\u001b[34m\u001b[1mONNX:\u001b[0m export success ✅ 3.9s, saved as 'output/yolov8s-pose-prune-sp0.3-epochs120/step_6_finetune/weights/best.onnx' (33.2 MB)\n",
      "\n",
      "\u001b[34m\u001b[1mTensorRT:\u001b[0m starting export with TensorRT 8.6.1...\n",
      "[07/09/2025-11:53:42] [TRT] [I] [MemUsageChange] Init CUDA: CPU +0, GPU +0, now: CPU 1822, GPU 18753 (MiB)\n",
      "[07/09/2025-11:53:48] [TRT] [I] [MemUsageChange] Init builder kernel library: CPU +1443, GPU +252, now: CPU 3265, GPU 19005 (MiB)\n",
      "[07/09/2025-11:53:48] [TRT] [I] ----------------------------------------------------------------\n",
      "[07/09/2025-11:53:48] [TRT] [I] Input filename:   output/yolov8s-pose-prune-sp0.3-epochs120/step_6_finetune/weights/best.onnx\n",
      "[07/09/2025-11:53:48] [TRT] [I] ONNX IR version:  0.0.9\n",
      "[07/09/2025-11:53:48] [TRT] [I] Opset version:    19\n",
      "[07/09/2025-11:53:48] [TRT] [I] Producer name:    pytorch\n",
      "[07/09/2025-11:53:48] [TRT] [I] Producer version: 2.4.1\n",
      "[07/09/2025-11:53:48] [TRT] [I] Domain:           \n",
      "[07/09/2025-11:53:48] [TRT] [I] Model version:    0\n",
      "[07/09/2025-11:53:48] [TRT] [I] Doc string:       \n",
      "[07/09/2025-11:53:48] [TRT] [I] ----------------------------------------------------------------\n",
      "[07/09/2025-11:53:48] [TRT] [W] onnx2trt_utils.cpp:374: Your ONNX model has been generated with INT64 weights, while TensorRT does not natively support INT64. Attempting to cast down to INT32.\n",
      "\u001b[34m\u001b[1mTensorRT:\u001b[0m input \"images\" with shape(-1, 3, -1, -1) DataType.FLOAT\n",
      "\u001b[34m\u001b[1mTensorRT:\u001b[0m output \"output0\" with shape(-1, 56, -1) DataType.FLOAT\n",
      "\u001b[34m\u001b[1mTensorRT:\u001b[0m building FP16 engine as output/yolov8s-pose-prune-sp0.3-epochs120/step_6_finetune/weights/best.engine\n",
      "[07/09/2025-11:53:48] [TRT] [I] Graph optimization time: 0.0831681 seconds.\n",
      "[07/09/2025-11:53:48] [TRT] [I] Local timing cache in use. Profiling results in this builder pass will not be stored.\n",
      "[07/09/2025-11:58:26] [TRT] [I] Detected 1 inputs and 4 output network tensors.\n",
      "[07/09/2025-11:58:27] [TRT] [I] Total Host Persistent Memory: 411680\n",
      "[07/09/2025-11:58:27] [TRT] [I] Total Device Persistent Memory: 4096\n",
      "[07/09/2025-11:58:27] [TRT] [I] Total Scratch Memory: 68812800\n",
      "[07/09/2025-11:58:27] [TRT] [I] [MemUsageStats] Peak memory usage of TRT CPU/GPU memory allocators: CPU 28 MiB, GPU 2230 MiB\n",
      "[07/09/2025-11:58:27] [TRT] [I] [BlockAssignment] Started assigning block shifts. This will take 182 steps to complete.\n",
      "[07/09/2025-11:58:27] [TRT] [I] [BlockAssignment] Algorithm ShiftNTopDown took 39.7677ms to assign 16 blocks to 182 nodes requiring 1200467456 bytes.\n",
      "[07/09/2025-11:58:27] [TRT] [I] Total Activation Memory: 1200464896\n",
      "[07/09/2025-11:58:28] [TRT] [W] TensorRT encountered issues when converting weights between types and that could affect accuracy.\n",
      "[07/09/2025-11:58:28] [TRT] [W] If this is not the desired behavior, please modify the weights or retrain with regularization to adjust the magnitude of the weights.\n",
      "[07/09/2025-11:58:28] [TRT] [W] Check verbose logs for the list of affected weights.\n",
      "[07/09/2025-11:58:28] [TRT] [W] - 64 weights are affected by this issue: Detected subnormal FP16 values.\n",
      "[07/09/2025-11:58:28] [TRT] [W] - 2 weights are affected by this issue: Detected values less than smallest positive FP16 subnormal value and converted them to the FP16 minimum subnormalized value.\n",
      "[07/09/2025-11:58:28] [TRT] [I] [MemUsageChange] TensorRT-managed allocation in building engine: CPU +16, GPU +18, now: CPU 16, GPU 18 (MiB)\n",
      "\u001b[34m\u001b[1mTensorRT:\u001b[0m export success ✅ 291.4s, saved as 'output/yolov8s-pose-prune-sp0.3-epochs120/step_6_finetune/weights/best.engine' (21.0 MB)\n",
      "\n",
      "Export complete (291.5s)\n",
      "Results saved to \u001b[1m/data/xl/Projects/EdgeLite/output/yolov8s-pose-prune-sp0.3-epochs120/step_6_finetune/weights\u001b[0m\n",
      "Predict:         yolo predict task=pose model=output/yolov8s-pose-prune-sp0.3-epochs120/step_6_finetune/weights/best.engine imgsz=640 half \n",
      "Validate:        yolo val task=pose model=output/yolov8s-pose-prune-sp0.3-epochs120/step_6_finetune/weights/best.engine imgsz=640 data=./datasets/my-coco-pose.yaml half \n",
      "Visualize:       https://netron.app\n"
     ]
    }
   ],
   "source": [
    "pruned_fp16_engine_path = pruned_model.export(format='engine', imgsz=640, dynamic=True, verbose=False, batch=16, workspace=2, half=True)"
   ]
  },
  {
   "cell_type": "code",
   "execution_count": 44,
   "id": "57e12241-9529-4f05-bcc8-6708d4686247",
   "metadata": {
    "collapsed": true,
    "execution": {
     "iopub.execute_input": "2025-07-05T04:52:48.057027Z",
     "iopub.status.busy": "2025-07-05T04:52:48.056196Z",
     "iopub.status.idle": "2025-07-05T04:52:51.485232Z",
     "shell.execute_reply": "2025-07-05T04:52:51.484671Z",
     "shell.execute_reply.started": "2025-07-05T04:52:48.056971Z"
    },
    "jupyter": {
     "outputs_hidden": true
    }
   },
   "outputs": [
    {
     "name": "stdout",
     "output_type": "stream",
     "text": [
      "Ultralytics 8.3.155 🚀 Python-3.10.18 torch-2.4.1+cu121 CUDA:0 (NVIDIA L40, 45386MiB)\n",
      "\n",
      "\u001b[34m\u001b[1mPyTorch:\u001b[0m starting from 'output/yolov8s-pose-prune-sp0.5-epoch60/step_18_finetune/weights/best.pt' with input shape (1, 3, 640, 640) BCHW and output shape(s) (1, 56, 8400) (14.5 MB)\n",
      "\n",
      "\u001b[34m\u001b[1mONNX:\u001b[0m starting export with onnx 1.17.0 opset 19...\n",
      "\u001b[34m\u001b[1mONNX:\u001b[0m slimming with onnxslim 0.1.58...\n",
      "\u001b[34m\u001b[1mONNX:\u001b[0m export success ✅ 3.4s, saved as 'output/yolov8s-pose-prune-sp0.5-epoch60/step_18_finetune/weights/best.onnx' (13.5 MB)\n",
      "\n",
      "Export complete (3.4s)\n",
      "Results saved to \u001b[1m/data/xl/Projects/EdgeLite/output/yolov8s-pose-prune-sp0.5-epoch60/step_18_finetune/weights\u001b[0m\n",
      "Predict:         yolo predict task=pose model=output/yolov8s-pose-prune-sp0.5-epoch60/step_18_finetune/weights/best.onnx imgsz=640  \n",
      "Validate:        yolo val task=pose model=output/yolov8s-pose-prune-sp0.5-epoch60/step_18_finetune/weights/best.onnx imgsz=640 data=./datasets/my-coco-pose.yaml  \n",
      "Visualize:       https://netron.app\n"
     ]
    },
    {
     "data": {
      "text/plain": [
       "'output/yolov8s-pose-prune-sp0.5-epoch60/step_18_finetune/weights/best.onnx'"
      ]
     },
     "execution_count": 44,
     "metadata": {},
     "output_type": "execute_result"
    }
   ],
   "source": [
    "pruned_model.export(format='onnx', dynamic=True, imgsz=640, simplify=True, device=device)"
   ]
  },
  {
   "cell_type": "code",
   "execution_count": 46,
   "id": "3bce3649-6117-4ea3-9496-6fc8a5f59a3e",
   "metadata": {
    "collapsed": true,
    "execution": {
     "iopub.execute_input": "2025-07-05T04:58:31.458948Z",
     "iopub.status.busy": "2025-07-05T04:58:31.458077Z",
     "iopub.status.idle": "2025-07-05T05:04:20.625986Z",
     "shell.execute_reply": "2025-07-05T05:04:20.624993Z",
     "shell.execute_reply.started": "2025-07-05T04:58:31.458888Z"
    },
    "jupyter": {
     "outputs_hidden": true
    }
   },
   "outputs": [
    {
     "name": "stdout",
     "output_type": "stream",
     "text": [
      "&&&& RUNNING TensorRT.trtexec [TensorRT v100700] [b23] # trtexec --onnx=output/yolov8s-pose-prune-sp0.5-epoch60/step_18_finetune/weights/best.onnx --fp16 --saveEngine=output/yolov8s-pose-prune-sp0.5-epoch60/step_18_finetune/weights/best.engine --minShapes=images:1x3x640x640 --maxShapes=images:16x3x640x640 --optShapes=images:12x3x640x640\n",
      "[07/05/2025-12:58:32] [I] === Model Options ===\n",
      "[07/05/2025-12:58:32] [I] Format: ONNX\n",
      "[07/05/2025-12:58:32] [I] Model: output/yolov8s-pose-prune-sp0.5-epoch60/step_18_finetune/weights/best.onnx\n",
      "[07/05/2025-12:58:32] [I] Output:\n",
      "[07/05/2025-12:58:32] [I] === Build Options ===\n",
      "[07/05/2025-12:58:32] [I] Memory Pools: workspace: default, dlaSRAM: default, dlaLocalDRAM: default, dlaGlobalDRAM: default, tacticSharedMem: default\n",
      "[07/05/2025-12:58:32] [I] avgTiming: 8\n",
      "[07/05/2025-12:58:32] [I] Precision: FP32+FP16\n",
      "[07/05/2025-12:58:32] [I] LayerPrecisions: \n",
      "[07/05/2025-12:58:32] [I] Layer Device Types: \n",
      "[07/05/2025-12:58:32] [I] Calibration: \n",
      "[07/05/2025-12:58:32] [I] Refit: Disabled\n",
      "[07/05/2025-12:58:32] [I] Strip weights: Disabled\n",
      "[07/05/2025-12:58:32] [I] Version Compatible: Disabled\n",
      "[07/05/2025-12:58:32] [I] ONNX Plugin InstanceNorm: Disabled\n",
      "[07/05/2025-12:58:32] [I] TensorRT runtime: full\n",
      "[07/05/2025-12:58:32] [I] Lean DLL Path: \n",
      "[07/05/2025-12:58:32] [I] Tempfile Controls: { in_memory: allow, temporary: allow }\n",
      "[07/05/2025-12:58:32] [I] Exclude Lean Runtime: Disabled\n",
      "[07/05/2025-12:58:32] [I] Sparsity: Disabled\n",
      "[07/05/2025-12:58:32] [I] Safe mode: Disabled\n",
      "[07/05/2025-12:58:32] [I] Build DLA standalone loadable: Disabled\n",
      "[07/05/2025-12:58:32] [I] Allow GPU fallback for DLA: Disabled\n",
      "[07/05/2025-12:58:32] [I] DirectIO mode: Disabled\n",
      "[07/05/2025-12:58:32] [I] Restricted mode: Disabled\n",
      "[07/05/2025-12:58:32] [I] Skip inference: Disabled\n",
      "[07/05/2025-12:58:32] [I] Save engine: output/yolov8s-pose-prune-sp0.5-epoch60/step_18_finetune/weights/best.engine\n",
      "[07/05/2025-12:58:32] [I] Load engine: \n",
      "[07/05/2025-12:58:32] [I] Profiling verbosity: 0\n",
      "[07/05/2025-12:58:32] [I] Tactic sources: Using default tactic sources\n",
      "[07/05/2025-12:58:32] [I] timingCacheMode: local\n",
      "[07/05/2025-12:58:32] [I] timingCacheFile: \n",
      "[07/05/2025-12:58:32] [I] Enable Compilation Cache: Enabled\n",
      "[07/05/2025-12:58:32] [I] Enable Monitor Memory: Disabled\n",
      "[07/05/2025-12:58:32] [I] errorOnTimingCacheMiss: Disabled\n",
      "[07/05/2025-12:58:32] [I] Preview Features: Use default preview flags.\n",
      "[07/05/2025-12:58:32] [I] MaxAuxStreams: -1\n",
      "[07/05/2025-12:58:32] [I] BuilderOptimizationLevel: -1\n",
      "[07/05/2025-12:58:32] [I] MaxTactics: -1\n",
      "[07/05/2025-12:58:32] [I] Calibration Profile Index: 0\n",
      "[07/05/2025-12:58:32] [I] Weight Streaming: Disabled\n",
      "[07/05/2025-12:58:32] [I] Runtime Platform: Same As Build\n",
      "[07/05/2025-12:58:32] [I] Debug Tensors: \n",
      "[07/05/2025-12:58:32] [I] Input(s)s format: fp32:CHW\n",
      "[07/05/2025-12:58:32] [I] Output(s)s format: fp32:CHW\n",
      "[07/05/2025-12:58:32] [I] Input build shape (profile 0): images=1x3x640x640+12x3x640x640+16x3x640x640\n",
      "[07/05/2025-12:58:32] [I] Input calibration shapes: model\n",
      "[07/05/2025-12:58:32] [I] === System Options ===\n",
      "[07/05/2025-12:58:32] [I] Device: 0\n",
      "[07/05/2025-12:58:32] [I] DLACore: \n",
      "[07/05/2025-12:58:32] [I] Plugins:\n",
      "[07/05/2025-12:58:32] [I] setPluginsToSerialize:\n",
      "[07/05/2025-12:58:32] [I] dynamicPlugins:\n",
      "[07/05/2025-12:58:32] [I] ignoreParsedPluginLibs: 0\n",
      "[07/05/2025-12:58:32] [I] \n",
      "[07/05/2025-12:58:32] [I] === Inference Options ===\n",
      "[07/05/2025-12:58:32] [I] Batch: Explicit\n",
      "[07/05/2025-12:58:32] [I] Input inference shape : images=12x3x640x640\n",
      "[07/05/2025-12:58:32] [I] Iterations: 10\n",
      "[07/05/2025-12:58:32] [I] Duration: 3s (+ 200ms warm up)\n",
      "[07/05/2025-12:58:32] [I] Sleep time: 0ms\n",
      "[07/05/2025-12:58:32] [I] Idle time: 0ms\n",
      "[07/05/2025-12:58:32] [I] Inference Streams: 1\n",
      "[07/05/2025-12:58:32] [I] ExposeDMA: Disabled\n",
      "[07/05/2025-12:58:32] [I] Data transfers: Enabled\n",
      "[07/05/2025-12:58:32] [I] Spin-wait: Disabled\n",
      "[07/05/2025-12:58:32] [I] Multithreading: Disabled\n",
      "[07/05/2025-12:58:32] [I] CUDA Graph: Disabled\n",
      "[07/05/2025-12:58:32] [I] Separate profiling: Disabled\n",
      "[07/05/2025-12:58:32] [I] Time Deserialize: Disabled\n",
      "[07/05/2025-12:58:32] [I] Time Refit: Disabled\n",
      "[07/05/2025-12:58:32] [I] NVTX verbosity: 0\n",
      "[07/05/2025-12:58:32] [I] Persistent Cache Ratio: 0\n",
      "[07/05/2025-12:58:32] [I] Optimization Profile Index: 0\n",
      "[07/05/2025-12:58:32] [I] Weight Streaming Budget: 100.000000%\n",
      "[07/05/2025-12:58:32] [I] Inputs:\n",
      "[07/05/2025-12:58:32] [I] Debug Tensor Save Destinations:\n",
      "[07/05/2025-12:58:32] [I] === Reporting Options ===\n",
      "[07/05/2025-12:58:32] [I] Verbose: Disabled\n",
      "[07/05/2025-12:58:32] [I] Averages: 10 inferences\n",
      "[07/05/2025-12:58:32] [I] Percentiles: 90,95,99\n",
      "[07/05/2025-12:58:32] [I] Dump refittable layers:Disabled\n",
      "[07/05/2025-12:58:32] [I] Dump output: Disabled\n",
      "[07/05/2025-12:58:32] [I] Profile: Disabled\n",
      "[07/05/2025-12:58:32] [I] Export timing to JSON file: \n",
      "[07/05/2025-12:58:32] [I] Export output to JSON file: \n",
      "[07/05/2025-12:58:32] [I] Export profile to JSON file: \n",
      "[07/05/2025-12:58:32] [I] \n",
      "[07/05/2025-12:58:32] [I] === Device Information ===\n",
      "[07/05/2025-12:58:32] [I] Available Devices: \n",
      "[07/05/2025-12:58:32] [I]   Device 0: \"NVIDIA L40\" UUID: GPU-24489db8-bad2-120a-7d4a-fc0957a903fb\n",
      "[07/05/2025-12:58:32] [I] Selected Device: NVIDIA L40\n",
      "[07/05/2025-12:58:32] [I] Selected Device ID: 0\n",
      "[07/05/2025-12:58:32] [I] Selected Device UUID: GPU-24489db8-bad2-120a-7d4a-fc0957a903fb\n",
      "[07/05/2025-12:58:32] [I] Compute Capability: 8.9\n",
      "[07/05/2025-12:58:32] [I] SMs: 142\n",
      "[07/05/2025-12:58:32] [I] Device Global Memory: 45385 MiB\n",
      "[07/05/2025-12:58:32] [I] Shared Memory per SM: 100 KiB\n",
      "[07/05/2025-12:58:32] [I] Memory Bus Width: 384 bits (ECC enabled)\n",
      "[07/05/2025-12:58:32] [I] Application Compute Clock Rate: 2.49 GHz\n",
      "[07/05/2025-12:58:32] [I] Application Memory Clock Rate: 9.001 GHz\n",
      "[07/05/2025-12:58:32] [I] \n",
      "[07/05/2025-12:58:32] [I] Note: The application clock rates do not reflect the actual clock rates that the GPU is currently running at.\n",
      "[07/05/2025-12:58:32] [I] \n",
      "[07/05/2025-12:58:32] [I] TensorRT version: 10.7.0\n",
      "[07/05/2025-12:58:32] [I] Loading standard plugins\n",
      "[07/05/2025-12:58:32] [I] [TRT] [MemUsageChange] Init CUDA: CPU +2, GPU +0, now: CPU 19, GPU 5933 (MiB)\n",
      "[07/05/2025-12:58:37] [I] [TRT] [MemUsageChange] Init builder kernel library: CPU +2266, GPU +440, now: CPU 2442, GPU 6373 (MiB)\n",
      "[07/05/2025-12:58:37] [I] Start parsing network model.\n",
      "[07/05/2025-12:58:37] [I] [TRT] ----------------------------------------------------------------\n",
      "[07/05/2025-12:58:37] [I] [TRT] Input filename:   output/yolov8s-pose-prune-sp0.5-epoch60/step_18_finetune/weights/best.onnx\n",
      "[07/05/2025-12:58:37] [I] [TRT] ONNX IR version:  0.0.9\n",
      "[07/05/2025-12:58:37] [I] [TRT] Opset version:    19\n",
      "[07/05/2025-12:58:37] [I] [TRT] Producer name:    pytorch\n",
      "[07/05/2025-12:58:37] [I] [TRT] Producer version: 2.4.1\n",
      "[07/05/2025-12:58:37] [I] [TRT] Domain:           \n",
      "[07/05/2025-12:58:37] [I] [TRT] Model version:    0\n",
      "[07/05/2025-12:58:37] [I] [TRT] Doc string:       \n",
      "[07/05/2025-12:58:37] [I] [TRT] ----------------------------------------------------------------\n",
      "[07/05/2025-12:58:37] [I] Finished parsing network model. Parse time: 0.0267971\n",
      "[07/05/2025-12:58:37] [I] Set shape of input tensor images for optimization profile 0 to: MIN=1x3x640x640 OPT=12x3x640x640 MAX=16x3x640x640\n",
      "[07/05/2025-12:58:37] [I] [TRT] Local timing cache in use. Profiling results in this builder pass will not be stored.\n",
      "[07/05/2025-13:04:08] [I] [TRT] Detected 1 inputs and 4 output network tensors.\n",
      "[07/05/2025-13:04:13] [I] [TRT] Total Host Persistent Memory: 423472 bytes\n",
      "[07/05/2025-13:04:13] [I] [TRT] Total Device Persistent Memory: 1024 bytes\n",
      "[07/05/2025-13:04:13] [I] [TRT] Max Scratch Memory: 0 bytes\n",
      "[07/05/2025-13:04:13] [I] [TRT] [BlockAssignment] Started assigning block shifts. This will take 181 steps to complete.\n",
      "[07/05/2025-13:04:14] [I] [TRT] [BlockAssignment] Algorithm ShiftNTopDown took 32.6266ms to assign 14 blocks to 181 nodes requiring 155593728 bytes.\n",
      "[07/05/2025-13:04:14] [I] [TRT] Total Activation Memory: 155591680 bytes\n",
      "[07/05/2025-13:04:14] [I] [TRT] Total Weights Memory: 7474432 bytes\n",
      "[07/05/2025-13:04:14] [I] [TRT] Engine generation completed in 337.085 seconds.\n",
      "[07/05/2025-13:04:14] [I] [TRT] [MemUsageStats] Peak memory usage of TRT CPU/GPU memory allocators: CPU 1 MiB, GPU 400 MiB\n",
      "[07/05/2025-13:04:15] [I] Engine built in 337.909 sec.\n",
      "[07/05/2025-13:04:15] [I] Created engine with size: 11.1633 MiB\n",
      "[07/05/2025-13:04:15] [I] [TRT] Loaded engine size: 11 MiB\n",
      "[07/05/2025-13:04:15] [I] Engine deserialized in 0.0394652 sec.\n",
      "[07/05/2025-13:04:15] [I] [TRT] [MemUsageChange] TensorRT-managed allocation in IExecutionContext creation: CPU +0, GPU +148, now: CPU 0, GPU 155 (MiB)\n",
      "[07/05/2025-13:04:15] [I] Setting persistentCacheLimit to 0 bytes.\n",
      "[07/05/2025-13:04:15] [I] Set shape of input tensor images to: 12x3x640x640\n",
      "[07/05/2025-13:04:15] [I] Created execution context with device memory size: 148.384 MiB\n",
      "[07/05/2025-13:04:15] [I] Using random values for input images\n",
      "[07/05/2025-13:04:16] [I] Input binding for images with dimensions 12x3x640x640 is created.\n",
      "[07/05/2025-13:04:16] [I] Output binding for output0 with dimensions 12x56x8400 is created.\n",
      "[07/05/2025-13:04:16] [I] Starting inference\n",
      "[07/05/2025-13:04:19] [I] Warmup completed 69 queries over 200 ms\n",
      "[07/05/2025-13:04:19] [I] Timing trace has 1047 queries over 3.00911 s\n",
      "[07/05/2025-13:04:19] [I] \n",
      "[07/05/2025-13:04:19] [I] === Trace details ===\n",
      "[07/05/2025-13:04:19] [I] Trace averages of 10 runs:\n",
      "[07/05/2025-13:04:19] [I] Average on 10 runs - GPU latency: 2.25044 ms - Host latency: 5.63986 ms (enqueue 0.696574 ms)\n",
      "[07/05/2025-13:04:19] [I] Average on 10 runs - GPU latency: 2.25874 ms - Host latency: 5.65092 ms (enqueue 0.751868 ms)\n",
      "[07/05/2025-13:04:19] [I] Average on 10 runs - GPU latency: 2.26888 ms - Host latency: 5.65865 ms (enqueue 0.62825 ms)\n",
      "[07/05/2025-13:04:19] [I] Average on 10 runs - GPU latency: 2.24531 ms - Host latency: 5.63841 ms (enqueue 0.630292 ms)\n",
      "[07/05/2025-13:04:19] [I] Average on 10 runs - GPU latency: 2.26939 ms - Host latency: 5.65848 ms (enqueue 0.627969 ms)\n",
      "[07/05/2025-13:04:19] [I] Average on 10 runs - GPU latency: 2.26437 ms - Host latency: 5.65591 ms (enqueue 0.619489 ms)\n",
      "[07/05/2025-13:04:19] [I] Average on 10 runs - GPU latency: 2.24849 ms - Host latency: 5.64408 ms (enqueue 0.617093 ms)\n",
      "[07/05/2025-13:04:19] [I] Average on 10 runs - GPU latency: 2.28403 ms - Host latency: 5.6737 ms (enqueue 0.615723 ms)\n",
      "[07/05/2025-13:04:19] [I] Average on 10 runs - GPU latency: 2.26006 ms - Host latency: 5.65352 ms (enqueue 0.617014 ms)\n",
      "[07/05/2025-13:04:19] [I] Average on 10 runs - GPU latency: 2.27694 ms - Host latency: 5.66933 ms (enqueue 0.620193 ms)\n",
      "[07/05/2025-13:04:19] [I] Average on 10 runs - GPU latency: 2.26622 ms - Host latency: 5.65715 ms (enqueue 0.614368 ms)\n",
      "[07/05/2025-13:04:19] [I] Average on 10 runs - GPU latency: 2.25196 ms - Host latency: 5.6458 ms (enqueue 0.617426 ms)\n",
      "[07/05/2025-13:04:19] [I] Average on 10 runs - GPU latency: 2.30297 ms - Host latency: 5.69145 ms (enqueue 0.616864 ms)\n",
      "[07/05/2025-13:04:19] [I] Average on 10 runs - GPU latency: 2.28046 ms - Host latency: 5.67274 ms (enqueue 0.61615 ms)\n",
      "[07/05/2025-13:04:19] [I] Average on 10 runs - GPU latency: 2.28196 ms - Host latency: 5.67416 ms (enqueue 0.61402 ms)\n",
      "[07/05/2025-13:04:19] [I] Average on 10 runs - GPU latency: 2.25618 ms - Host latency: 5.64988 ms (enqueue 0.617487 ms)\n",
      "[07/05/2025-13:04:19] [I] Average on 10 runs - GPU latency: 2.27104 ms - Host latency: 5.66602 ms (enqueue 0.612256 ms)\n",
      "[07/05/2025-13:04:19] [I] Average on 10 runs - GPU latency: 2.28384 ms - Host latency: 5.6756 ms (enqueue 0.616339 ms)\n",
      "[07/05/2025-13:04:19] [I] Average on 10 runs - GPU latency: 2.27747 ms - Host latency: 5.67301 ms (enqueue 0.620447 ms)\n",
      "[07/05/2025-13:04:19] [I] Average on 10 runs - GPU latency: 2.27769 ms - Host latency: 5.6718 ms (enqueue 0.617578 ms)\n",
      "[07/05/2025-13:04:19] [I] Average on 10 runs - GPU latency: 2.26285 ms - Host latency: 5.65427 ms (enqueue 0.616498 ms)\n",
      "[07/05/2025-13:04:19] [I] Average on 10 runs - GPU latency: 2.26786 ms - Host latency: 5.65911 ms (enqueue 0.615979 ms)\n",
      "[07/05/2025-13:04:19] [I] Average on 10 runs - GPU latency: 2.24867 ms - Host latency: 5.64147 ms (enqueue 0.616278 ms)\n",
      "[07/05/2025-13:04:19] [I] Average on 10 runs - GPU latency: 2.28128 ms - Host latency: 5.67046 ms (enqueue 0.614612 ms)\n",
      "[07/05/2025-13:04:19] [I] Average on 10 runs - GPU latency: 2.25884 ms - Host latency: 5.64896 ms (enqueue 0.615582 ms)\n",
      "[07/05/2025-13:04:19] [I] Average on 10 runs - GPU latency: 2.25526 ms - Host latency: 5.64625 ms (enqueue 0.61521 ms)\n",
      "[07/05/2025-13:04:19] [I] Average on 10 runs - GPU latency: 2.28034 ms - Host latency: 5.66569 ms (enqueue 0.616205 ms)\n",
      "[07/05/2025-13:04:19] [I] Average on 10 runs - GPU latency: 2.25414 ms - Host latency: 5.64788 ms (enqueue 0.614185 ms)\n",
      "[07/05/2025-13:04:19] [I] Average on 10 runs - GPU latency: 2.24733 ms - Host latency: 5.64048 ms (enqueue 0.615552 ms)\n",
      "[07/05/2025-13:04:19] [I] Average on 10 runs - GPU latency: 2.26315 ms - Host latency: 5.65422 ms (enqueue 0.611157 ms)\n",
      "[07/05/2025-13:04:19] [I] Average on 10 runs - GPU latency: 2.25442 ms - Host latency: 5.64442 ms (enqueue 0.61626 ms)\n",
      "[07/05/2025-13:04:19] [I] Average on 10 runs - GPU latency: 2.27909 ms - Host latency: 5.66736 ms (enqueue 0.614185 ms)\n",
      "[07/05/2025-13:04:19] [I] Average on 10 runs - GPU latency: 2.25966 ms - Host latency: 5.64883 ms (enqueue 0.615515 ms)\n",
      "[07/05/2025-13:04:19] [I] Average on 10 runs - GPU latency: 2.2916 ms - Host latency: 5.67994 ms (enqueue 0.6151 ms)\n",
      "[07/05/2025-13:04:19] [I] Average on 10 runs - GPU latency: 2.28923 ms - Host latency: 5.6748 ms (enqueue 0.614636 ms)\n",
      "[07/05/2025-13:04:19] [I] Average on 10 runs - GPU latency: 2.27975 ms - Host latency: 5.67021 ms (enqueue 0.619385 ms)\n",
      "[07/05/2025-13:04:19] [I] Average on 10 runs - GPU latency: 2.25392 ms - Host latency: 5.64515 ms (enqueue 0.611963 ms)\n",
      "[07/05/2025-13:04:19] [I] Average on 10 runs - GPU latency: 2.26775 ms - Host latency: 5.65778 ms (enqueue 0.615259 ms)\n",
      "[07/05/2025-13:04:19] [I] Average on 10 runs - GPU latency: 2.28998 ms - Host latency: 5.68022 ms (enqueue 0.614197 ms)\n",
      "[07/05/2025-13:04:19] [I] Average on 10 runs - GPU latency: 2.27756 ms - Host latency: 5.66736 ms (enqueue 0.624817 ms)\n",
      "[07/05/2025-13:04:19] [I] Average on 10 runs - GPU latency: 2.27748 ms - Host latency: 5.66698 ms (enqueue 0.622412 ms)\n",
      "[07/05/2025-13:04:19] [I] Average on 10 runs - GPU latency: 2.26978 ms - Host latency: 5.6572 ms (enqueue 0.61554 ms)\n",
      "[07/05/2025-13:04:19] [I] Average on 10 runs - GPU latency: 2.28687 ms - Host latency: 5.67317 ms (enqueue 0.617249 ms)\n",
      "[07/05/2025-13:04:19] [I] Average on 10 runs - GPU latency: 2.25525 ms - Host latency: 5.64822 ms (enqueue 0.616174 ms)\n",
      "[07/05/2025-13:04:19] [I] Average on 10 runs - GPU latency: 2.27891 ms - Host latency: 5.66884 ms (enqueue 0.619507 ms)\n",
      "[07/05/2025-13:04:19] [I] Average on 10 runs - GPU latency: 2.25536 ms - Host latency: 5.64443 ms (enqueue 0.613269 ms)\n",
      "[07/05/2025-13:04:19] [I] Average on 10 runs - GPU latency: 2.28483 ms - Host latency: 5.67102 ms (enqueue 0.61604 ms)\n",
      "[07/05/2025-13:04:19] [I] Average on 10 runs - GPU latency: 2.26067 ms - Host latency: 5.65198 ms (enqueue 0.614001 ms)\n",
      "[07/05/2025-13:04:19] [I] Average on 10 runs - GPU latency: 2.25115 ms - Host latency: 5.64609 ms (enqueue 0.615442 ms)\n",
      "[07/05/2025-13:04:19] [I] Average on 10 runs - GPU latency: 2.25602 ms - Host latency: 5.65242 ms (enqueue 0.611963 ms)\n",
      "[07/05/2025-13:04:19] [I] Average on 10 runs - GPU latency: 2.26232 ms - Host latency: 5.65826 ms (enqueue 0.611804 ms)\n",
      "[07/05/2025-13:04:19] [I] Average on 10 runs - GPU latency: 2.25906 ms - Host latency: 5.65414 ms (enqueue 0.614685 ms)\n",
      "[07/05/2025-13:04:19] [I] Average on 10 runs - GPU latency: 2.27604 ms - Host latency: 5.6673 ms (enqueue 0.614478 ms)\n",
      "[07/05/2025-13:04:19] [I] Average on 10 runs - GPU latency: 2.28383 ms - Host latency: 5.67695 ms (enqueue 0.614929 ms)\n",
      "[07/05/2025-13:04:19] [I] Average on 10 runs - GPU latency: 2.27902 ms - Host latency: 5.67074 ms (enqueue 0.615295 ms)\n",
      "[07/05/2025-13:04:19] [I] Average on 10 runs - GPU latency: 2.25332 ms - Host latency: 5.64941 ms (enqueue 0.612744 ms)\n",
      "[07/05/2025-13:04:19] [I] Average on 10 runs - GPU latency: 2.27792 ms - Host latency: 5.67161 ms (enqueue 0.615796 ms)\n",
      "[07/05/2025-13:04:19] [I] Average on 10 runs - GPU latency: 2.26157 ms - Host latency: 5.65765 ms (enqueue 0.616309 ms)\n",
      "[07/05/2025-13:04:19] [I] Average on 10 runs - GPU latency: 2.27122 ms - Host latency: 5.6641 ms (enqueue 0.613684 ms)\n",
      "[07/05/2025-13:04:19] [I] Average on 10 runs - GPU latency: 2.2536 ms - Host latency: 5.6491 ms (enqueue 0.616406 ms)\n",
      "[07/05/2025-13:04:19] [I] Average on 10 runs - GPU latency: 2.26057 ms - Host latency: 5.65555 ms (enqueue 0.614954 ms)\n",
      "[07/05/2025-13:04:19] [I] Average on 10 runs - GPU latency: 2.24355 ms - Host latency: 5.64049 ms (enqueue 0.618579 ms)\n",
      "[07/05/2025-13:04:19] [I] Average on 10 runs - GPU latency: 2.27098 ms - Host latency: 5.66542 ms (enqueue 0.614185 ms)\n",
      "[07/05/2025-13:04:19] [I] Average on 10 runs - GPU latency: 2.26077 ms - Host latency: 5.65339 ms (enqueue 0.612952 ms)\n",
      "[07/05/2025-13:04:19] [I] Average on 10 runs - GPU latency: 2.27288 ms - Host latency: 5.66625 ms (enqueue 0.617041 ms)\n",
      "[07/05/2025-13:04:19] [I] Average on 10 runs - GPU latency: 2.25872 ms - Host latency: 5.65574 ms (enqueue 0.617505 ms)\n",
      "[07/05/2025-13:04:19] [I] Average on 10 runs - GPU latency: 2.26492 ms - Host latency: 5.65808 ms (enqueue 0.611914 ms)\n",
      "[07/05/2025-13:04:19] [I] Average on 10 runs - GPU latency: 2.26157 ms - Host latency: 5.654 ms (enqueue 0.614966 ms)\n",
      "[07/05/2025-13:04:19] [I] Average on 10 runs - GPU latency: 2.28179 ms - Host latency: 5.67693 ms (enqueue 0.615137 ms)\n",
      "[07/05/2025-13:04:19] [I] Average on 10 runs - GPU latency: 2.2675 ms - Host latency: 5.66116 ms (enqueue 0.615723 ms)\n",
      "[07/05/2025-13:04:19] [I] Average on 10 runs - GPU latency: 2.26868 ms - Host latency: 5.66338 ms (enqueue 0.613989 ms)\n",
      "[07/05/2025-13:04:19] [I] Average on 10 runs - GPU latency: 2.27993 ms - Host latency: 5.67056 ms (enqueue 0.612939 ms)\n",
      "[07/05/2025-13:04:19] [I] Average on 10 runs - GPU latency: 2.26062 ms - Host latency: 5.6553 ms (enqueue 0.613086 ms)\n",
      "[07/05/2025-13:04:19] [I] Average on 10 runs - GPU latency: 2.2645 ms - Host latency: 5.65916 ms (enqueue 0.614331 ms)\n",
      "[07/05/2025-13:04:19] [I] Average on 10 runs - GPU latency: 2.24426 ms - Host latency: 5.64263 ms (enqueue 0.614575 ms)\n",
      "[07/05/2025-13:04:19] [I] Average on 10 runs - GPU latency: 2.27302 ms - Host latency: 5.66606 ms (enqueue 0.614526 ms)\n",
      "[07/05/2025-13:04:19] [I] Average on 10 runs - GPU latency: 2.26404 ms - Host latency: 5.65874 ms (enqueue 0.612329 ms)\n",
      "[07/05/2025-13:04:19] [I] Average on 10 runs - GPU latency: 2.26206 ms - Host latency: 5.65833 ms (enqueue 0.614429 ms)\n",
      "[07/05/2025-13:04:19] [I] Average on 10 runs - GPU latency: 2.254 ms - Host latency: 5.649 ms (enqueue 0.615283 ms)\n",
      "[07/05/2025-13:04:19] [I] Average on 10 runs - GPU latency: 2.26201 ms - Host latency: 5.65403 ms (enqueue 0.613037 ms)\n",
      "[07/05/2025-13:04:19] [I] Average on 10 runs - GPU latency: 2.253 ms - Host latency: 5.64871 ms (enqueue 0.614868 ms)\n",
      "[07/05/2025-13:04:19] [I] Average on 10 runs - GPU latency: 2.27717 ms - Host latency: 5.67156 ms (enqueue 0.61394 ms)\n",
      "[07/05/2025-13:04:19] [I] Average on 10 runs - GPU latency: 2.26179 ms - Host latency: 5.65613 ms (enqueue 0.615259 ms)\n",
      "[07/05/2025-13:04:19] [I] Average on 10 runs - GPU latency: 2.27056 ms - Host latency: 5.66345 ms (enqueue 0.615601 ms)\n",
      "[07/05/2025-13:04:19] [I] Average on 10 runs - GPU latency: 2.29163 ms - Host latency: 5.68213 ms (enqueue 0.612573 ms)\n",
      "[07/05/2025-13:04:19] [I] Average on 10 runs - GPU latency: 2.27646 ms - Host latency: 5.6688 ms (enqueue 0.616821 ms)\n",
      "[07/05/2025-13:04:19] [I] Average on 10 runs - GPU latency: 2.26182 ms - Host latency: 5.65637 ms (enqueue 0.617188 ms)\n",
      "[07/05/2025-13:04:19] [I] Average on 10 runs - GPU latency: 2.25134 ms - Host latency: 5.6468 ms (enqueue 0.613501 ms)\n",
      "[07/05/2025-13:04:19] [I] Average on 10 runs - GPU latency: 2.26892 ms - Host latency: 5.66367 ms (enqueue 0.61648 ms)\n",
      "[07/05/2025-13:04:19] [I] Average on 10 runs - GPU latency: 2.25737 ms - Host latency: 5.65237 ms (enqueue 0.616968 ms)\n",
      "[07/05/2025-13:04:19] [I] Average on 10 runs - GPU latency: 2.26938 ms - Host latency: 5.66116 ms (enqueue 0.613428 ms)\n",
      "[07/05/2025-13:04:19] [I] Average on 10 runs - GPU latency: 2.26855 ms - Host latency: 5.65801 ms (enqueue 0.613184 ms)\n",
      "[07/05/2025-13:04:19] [I] Average on 10 runs - GPU latency: 2.28171 ms - Host latency: 5.6729 ms (enqueue 0.612402 ms)\n",
      "[07/05/2025-13:04:19] [I] Average on 10 runs - GPU latency: 2.25063 ms - Host latency: 5.63977 ms (enqueue 0.614673 ms)\n",
      "[07/05/2025-13:04:19] [I] Average on 10 runs - GPU latency: 2.28711 ms - Host latency: 5.67651 ms (enqueue 0.613306 ms)\n",
      "[07/05/2025-13:04:19] [I] Average on 10 runs - GPU latency: 2.2741 ms - Host latency: 5.66758 ms (enqueue 0.618604 ms)\n",
      "[07/05/2025-13:04:19] [I] Average on 10 runs - GPU latency: 2.26672 ms - Host latency: 5.66157 ms (enqueue 0.615161 ms)\n",
      "[07/05/2025-13:04:19] [I] Average on 10 runs - GPU latency: 2.29526 ms - Host latency: 5.68545 ms (enqueue 0.61521 ms)\n",
      "[07/05/2025-13:04:19] [I] Average on 10 runs - GPU latency: 2.2793 ms - Host latency: 5.67117 ms (enqueue 0.613574 ms)\n",
      "[07/05/2025-13:04:19] [I] Average on 10 runs - GPU latency: 2.31025 ms - Host latency: 5.69631 ms (enqueue 0.613037 ms)\n",
      "[07/05/2025-13:04:19] [I] Average on 10 runs - GPU latency: 2.2833 ms - Host latency: 5.67402 ms (enqueue 0.614111 ms)\n",
      "[07/05/2025-13:04:19] [I] Average on 10 runs - GPU latency: 2.27341 ms - Host latency: 5.66707 ms (enqueue 0.614966 ms)\n",
      "[07/05/2025-13:04:19] [I] Average on 10 runs - GPU latency: 2.25896 ms - Host latency: 5.65288 ms (enqueue 0.614014 ms)\n",
      "[07/05/2025-13:04:19] [I] Average on 10 runs - GPU latency: 2.29626 ms - Host latency: 5.68582 ms (enqueue 0.61272 ms)\n",
      "[07/05/2025-13:04:19] [I] \n",
      "[07/05/2025-13:04:19] [I] === Performance summary ===\n",
      "[07/05/2025-13:04:19] [I] Throughput: 347.944 qps\n",
      "[07/05/2025-13:04:19] [I] Latency: min = 5.56982 ms, max = 5.71582 ms, mean = 5.66083 ms, median = 5.66211 ms, percentile(90%) = 5.68115 ms, percentile(95%) = 5.68835 ms, percentile(99%) = 5.70239 ms\n",
      "[07/05/2025-13:04:19] [I] Enqueue Time: min = 0.603027 ms, max = 1.68462 ms, mean = 0.617786 ms, median = 0.61438 ms, percentile(90%) = 0.625488 ms, percentile(95%) = 0.629944 ms, percentile(99%) = 0.691742 ms\n",
      "[07/05/2025-13:04:19] [I] H2D Latency: min = 2.37158 ms, max = 2.47437 ms, mean = 2.42106 ms, median = 2.45276 ms, percentile(90%) = 2.46484 ms, percentile(95%) = 2.46606 ms, percentile(99%) = 2.4718 ms\n",
      "[07/05/2025-13:04:19] [I] GPU Compute Time: min = 2.2334 ms, max = 2.32251 ms, mean = 2.26865 ms, median = 2.27026 ms, percentile(90%) = 2.28864 ms, percentile(95%) = 2.30176 ms, percentile(99%) = 2.31616 ms\n",
      "[07/05/2025-13:04:19] [I] D2H Latency: min = 0.866455 ms, max = 1.01636 ms, mean = 0.97112 ms, median = 0.947784 ms, percentile(90%) = 1.01147 ms, percentile(95%) = 1.01294 ms, percentile(99%) = 1.01495 ms\n",
      "[07/05/2025-13:04:19] [I] Total Host Walltime: 3.00911 s\n",
      "[07/05/2025-13:04:19] [I] Total GPU Compute Time: 2.37528 s\n",
      "[07/05/2025-13:04:19] [W] * Throughput may be bound by host-to-device transfers for the inputs rather than GPU Compute and the GPU may be under-utilized.\n",
      "[07/05/2025-13:04:19] [W]   Add --noDataTransfers flag to disable data transfers.\n",
      "[07/05/2025-13:04:19] [I] Explanations of the performance metrics are printed in the verbose logs.\n",
      "[07/05/2025-13:04:19] [I] \n",
      "&&&& PASSED TensorRT.trtexec [TensorRT v100700] [b23] # trtexec --onnx=output/yolov8s-pose-prune-sp0.5-epoch60/step_18_finetune/weights/best.onnx --fp16 --saveEngine=output/yolov8s-pose-prune-sp0.5-epoch60/step_18_finetune/weights/best.engine --minShapes=images:1x3x640x640 --maxShapes=images:16x3x640x640 --optShapes=images:12x3x640x640\n"
     ]
    }
   ],
   "source": [
    "import os\n",
    "os.environ[\"CUDA_VISIBLE_DEVICES\"] = \"0\" \n",
    "!trtexec --onnx='output/yolov8s-pose-prune-sp0.5-epoch60/step_18_finetune/weights/best.onnx' --fp16 --saveEngine='output/yolov8s-pose-prune-sp0.5-epoch60/step_18_finetune/weights/best.engine' --minShapes=images:1x3x640x640 --maxShapes=images:16x3x640x640 --optShapes=images:12x3x640x640"
   ]
  },
  {
   "cell_type": "code",
   "execution_count": 49,
   "id": "e237ff21-0fa7-4851-999a-ef831903abf1",
   "metadata": {
    "execution": {
     "iopub.execute_input": "2025-07-05T05:18:00.085941Z",
     "iopub.status.busy": "2025-07-05T05:18:00.085153Z",
     "iopub.status.idle": "2025-07-05T05:18:00.093855Z",
     "shell.execute_reply": "2025-07-05T05:18:00.092671Z",
     "shell.execute_reply.started": "2025-07-05T05:18:00.085890Z"
    }
   },
   "outputs": [
    {
     "data": {
      "text/plain": [
       "'output/yolov8s-pose-prune-sp0.5-epoch60/step_18_finetune/weights/best.engine'"
      ]
     },
     "execution_count": 49,
     "metadata": {},
     "output_type": "execute_result"
    }
   ],
   "source": [
    "pruned_fp16_engine_path"
   ]
  },
  {
   "cell_type": "code",
   "execution_count": 87,
   "id": "b14d7c2d-3c9e-47ff-8bbd-3418cc31b131",
   "metadata": {
    "execution": {
     "iopub.execute_input": "2025-07-09T03:59:49.506514Z",
     "iopub.status.busy": "2025-07-09T03:59:49.505456Z",
     "iopub.status.idle": "2025-07-09T03:59:49.512136Z",
     "shell.execute_reply": "2025-07-09T03:59:49.511297Z",
     "shell.execute_reply.started": "2025-07-09T03:59:49.506451Z"
    }
   },
   "outputs": [],
   "source": [
    "# pruned_fp16_engine_path = 'output/yolov8s-pose-prune-sp0.5-epoch60/step_18_finetune/weights/best.engine'\n",
    "pruned_fp16_engine_path = 'output/yolov8s-pose-prune-sp0.3-epochs120/step_6_finetune/weights/best.engine'"
   ]
  },
  {
   "cell_type": "code",
   "execution_count": 27,
   "id": "d470793e-aa42-460a-a956-4c38f94d05a3",
   "metadata": {
    "execution": {
     "iopub.execute_input": "2025-07-07T14:17:59.716023Z",
     "iopub.status.busy": "2025-07-07T14:17:59.714639Z",
     "iopub.status.idle": "2025-07-07T14:17:59.720949Z",
     "shell.execute_reply": "2025-07-07T14:17:59.720362Z",
     "shell.execute_reply.started": "2025-07-07T14:17:59.715964Z"
    }
   },
   "outputs": [],
   "source": [
    "os.rename(pruned_fp16_engine_path, './weights/yolov8s-pose-pruned-sp0.5-fp16.engine')"
   ]
  },
  {
   "cell_type": "code",
   "execution_count": 88,
   "id": "b905e28e-942b-420d-b4d7-702dbec18cc8",
   "metadata": {
    "execution": {
     "iopub.execute_input": "2025-07-09T03:59:54.025830Z",
     "iopub.status.busy": "2025-07-09T03:59:54.025176Z",
     "iopub.status.idle": "2025-07-09T03:59:54.032673Z",
     "shell.execute_reply": "2025-07-09T03:59:54.031205Z",
     "shell.execute_reply.started": "2025-07-09T03:59:54.025807Z"
    }
   },
   "outputs": [],
   "source": [
    "# pruned_fp16_trt_engine = YOLO('./weights/yolov8s-pose-pruned-sp0.3-fp16.engine', task='pose')\n",
    "import os\n",
    "os.environ[\"CUDA_VISIBLE_DEVICES\"] = \"0\" \n",
    "pruned_fp16_trt_engine = YOLO(pruned_fp16_engine_path, task='pose')"
   ]
  },
  {
   "cell_type": "code",
   "execution_count": 90,
   "id": "59b57075-5431-420c-a470-ee98003f8eb9",
   "metadata": {
    "collapsed": true,
    "execution": {
     "iopub.execute_input": "2025-07-09T04:00:28.121773Z",
     "iopub.status.busy": "2025-07-09T04:00:28.120713Z",
     "iopub.status.idle": "2025-07-09T04:00:51.206157Z",
     "shell.execute_reply": "2025-07-09T04:00:51.205252Z",
     "shell.execute_reply.started": "2025-07-09T04:00:28.121734Z"
    },
    "jupyter": {
     "outputs_hidden": true
    }
   },
   "outputs": [
    {
     "name": "stdout",
     "output_type": "stream",
     "text": [
      "Ultralytics 8.3.162 🚀 Python-3.10.18 torch-2.4.1+cu121 CUDA:0 (NVIDIA L40, 45386MiB)\n",
      "Loading output/yolov8s-pose-prune-sp0.3-epochs120/step_6_finetune/weights/best.engine for TensorRT inference...\n",
      "[07/09/2025-12:00:28] [TRT] [I] The logger passed into createInferRuntime differs from one already provided for an existing builder, runtime, or refitter. Uses of the global logger, returned by nvinfer1::getLogger(), will return the existing value.\n",
      "[07/09/2025-12:00:28] [TRT] [I] Loaded engine size: 21 MiB\n",
      "[07/09/2025-12:00:28] [TRT] [I] [MemUsageChange] TensorRT-managed allocation in engine deserialization: CPU +0, GPU +18, now: CPU 0, GPU 1179 (MiB)\n",
      "[07/09/2025-12:00:28] [TRT] [I] [MemUsageChange] TensorRT-managed allocation in IExecutionContext creation: CPU +1, GPU +1144, now: CPU 1, GPU 2323 (MiB)\n",
      "\u001b[34m\u001b[1mval: \u001b[0mFast image access ✅ (ping: 0.0±0.0 ms, read: 1196.1±843.1 MB/s, size: 102.1 KB)\n"
     ]
    },
    {
     "name": "stderr",
     "output_type": "stream",
     "text": [
      "\u001b[34m\u001b[1mval: \u001b[0mScanning /data/xl/Projects/EdgeLite/datasets/coco-pose/labels/val2017.cache... 2346 images, 0 backgrounds, 0 corrupt: 100%|██████████| 2346/2346 [00:0\u001b[0m\n",
      "                 Class     Images  Instances      Box(P          R      mAP50  mAP50-95)     Pose(P          R      mAP50  mAP50-95): 100%|██████████| 147/\n"
     ]
    },
    {
     "name": "stdout",
     "output_type": "stream",
     "text": [
      "                   all       2346       6352      0.867      0.846      0.922      0.726      0.845      0.804      0.847      0.577\n",
      "Speed: 0.1ms preprocess, 0.4ms inference, 0.0ms loss, 0.5ms postprocess per image\n",
      "Saving /data/xl/Projects/ultralytics/runs/pose/val591/predictions.json...\n",
      "\n",
      "Evaluating faster-coco-eval mAP using /data/xl/Projects/ultralytics/runs/pose/val591/predictions.json and datasets/coco-pose/annotations/person_keypoints_val2017.json...\n",
      "Evaluate annotation type *bbox*\n",
      "COCOeval_opt.evaluate() finished...\n",
      "DONE (t=0.56s).\n",
      "Accumulating evaluation results...\n",
      "COCOeval_opt.accumulate() finished...\n",
      "DONE (t=0.00s).\n",
      " Average Precision  (AP) @[ IoU=0.50:0.95 | area=   all | maxDets=100 ] = 0.551\n",
      " Average Precision  (AP) @[ IoU=0.50      | area=   all | maxDets=100 ] = 0.726\n",
      " Average Precision  (AP) @[ IoU=0.75      | area=   all | maxDets=100 ] = 0.613\n",
      " Average Precision  (AP) @[ IoU=0.50:0.95 | area= small | maxDets=100 ] = 0.194\n",
      " Average Precision  (AP) @[ IoU=0.50:0.95 | area=medium | maxDets=100 ] = 0.683\n",
      " Average Precision  (AP) @[ IoU=0.50:0.95 | area= large | maxDets=100 ] = 0.809\n",
      " Average Recall     (AR) @[ IoU=0.50:0.95 | area=   all | maxDets=  1 ] = 0.212\n",
      " Average Recall     (AR) @[ IoU=0.50:0.95 | area=   all | maxDets= 10 ] = 0.565\n",
      " Average Recall     (AR) @[ IoU=0.50:0.95 | area=   all | maxDets=100 ] = 0.638\n",
      " Average Recall     (AR) @[ IoU=0.50:0.95 | area= small | maxDets=100 ] = 0.258\n",
      " Average Recall     (AR) @[ IoU=0.50:0.95 | area=medium | maxDets=100 ] = 0.768\n",
      " Average Recall     (AR) @[ IoU=0.50:0.95 | area= large | maxDets=100 ] = 0.870\n",
      " Average Recall     (AR) @[ IoU=0.50      | area=   all | maxDets=100 ] = 0.817\n",
      " Average Recall     (AR) @[ IoU=0.75      | area=   all | maxDets=100 ] = 0.711\n",
      "Evaluate annotation type *keypoints*\n",
      "COCOeval_opt.evaluate() finished...\n",
      "DONE (t=3.12s).\n",
      "Accumulating evaluation results...\n",
      "COCOeval_opt.accumulate() finished...\n",
      "DONE (t=0.00s).\n",
      " Average Precision  (AP) @[ IoU=0.50:0.95 | area=   all | maxDets= 20 ] = 0.571\n",
      " Average Precision  (AP) @[ IoU=0.50      | area=   all | maxDets= 20 ] = 0.849\n",
      " Average Precision  (AP) @[ IoU=0.75      | area=   all | maxDets= 20 ] = 0.623\n",
      " Average Precision  (AP) @[ IoU=0.50:0.95 | area=medium | maxDets= 20 ] = 0.514\n",
      " Average Precision  (AP) @[ IoU=0.50:0.95 | area= large | maxDets= 20 ] = 0.671\n",
      " Average Recall     (AR) @[ IoU=0.50:0.95 | area=   all | maxDets= 20 ] = 0.640\n",
      " Average Recall     (AR) @[ IoU=0.50      | area=   all | maxDets= 20 ] = 0.892\n",
      " Average Recall     (AR) @[ IoU=0.75      | area=   all | maxDets= 20 ] = 0.696\n",
      " Average Recall     (AR) @[ IoU=0.50:0.95 | area=medium | maxDets= 20 ] = 0.566\n",
      " Average Recall     (AR) @[ IoU=0.50:0.95 | area= large | maxDets= 20 ] = 0.744\n",
      "Results saved to \u001b[1m/data/xl/Projects/ultralytics/runs/pose/val591\u001b[0m\n"
     ]
    }
   ],
   "source": [
    "metrics = pruned_fp16_trt_engine.val(data=data_yaml_file,batch=1, rect=False, verbose=False, device=device)"
   ]
  },
  {
   "cell_type": "code",
   "execution_count": 91,
   "id": "d7f92f43-ef5f-4f39-821c-592d83bcee30",
   "metadata": {
    "execution": {
     "iopub.execute_input": "2025-07-09T04:01:01.683012Z",
     "iopub.status.busy": "2025-07-09T04:01:01.682153Z",
     "iopub.status.idle": "2025-07-09T04:01:01.688931Z",
     "shell.execute_reply": "2025-07-09T04:01:01.688433Z",
     "shell.execute_reply.started": "2025-07-09T04:01:01.682952Z"
    }
   },
   "outputs": [
    {
     "data": {
      "text/plain": [
       "{'preprocess': 0.12907418602035847,\n",
       " 'inference': 0.42045535266642337,\n",
       " 'loss': 0.000513308947129399,\n",
       " 'postprocess': 0.536118865734441}"
      ]
     },
     "execution_count": 91,
     "metadata": {},
     "output_type": "execute_result"
    }
   ],
   "source": [
    "metrics.speed"
   ]
  },
  {
   "cell_type": "code",
   "execution_count": 68,
   "id": "a613b2a9-f248-4b7e-bd59-012475ce2358",
   "metadata": {
    "execution": {
     "iopub.execute_input": "2025-07-09T03:44:17.704196Z",
     "iopub.status.busy": "2025-07-09T03:44:17.703738Z",
     "iopub.status.idle": "2025-07-09T03:44:17.709921Z",
     "shell.execute_reply": "2025-07-09T03:44:17.709236Z",
     "shell.execute_reply.started": "2025-07-09T03:44:17.704176Z"
    }
   },
   "outputs": [
    {
     "data": {
      "text/plain": [
       "{'preprocess': 0.1036744346033912,\n",
       " 'inference': 0.4730086527702868,\n",
       " 'loss': 0.00043406574220697494,\n",
       " 'postprocess': 0.44061620816991737}"
      ]
     },
     "execution_count": 68,
     "metadata": {},
     "output_type": "execute_result"
    }
   ],
   "source": [
    "metrics.speed"
   ]
  },
  {
   "cell_type": "code",
   "execution_count": 31,
   "id": "15dc64bb-97bd-43f6-8810-c7923954c2e8",
   "metadata": {
    "collapsed": true,
    "execution": {
     "iopub.execute_input": "2025-07-05T08:30:44.347102Z",
     "iopub.status.busy": "2025-07-05T08:30:44.346206Z",
     "iopub.status.idle": "2025-07-05T08:30:49.596725Z",
     "shell.execute_reply": "2025-07-05T08:30:49.595515Z",
     "shell.execute_reply.started": "2025-07-05T08:30:44.347042Z"
    },
    "jupyter": {
     "outputs_hidden": true
    }
   },
   "outputs": [
    {
     "name": "stdout",
     "output_type": "stream",
     "text": [
      "&&&& RUNNING TensorRT.trtexec [TensorRT v100700] [b23] # trtexec --loadEngine=weights/yolov8s-pose-pruned-sp0.5-fp16.engine --shapes=images:16x3x640x640\n",
      "[07/05/2025-16:30:44] [I] TF32 is enabled by default. Add --noTF32 flag to further improve accuracy with some performance cost.\n",
      "[07/05/2025-16:30:44] [I] === Model Options ===\n",
      "[07/05/2025-16:30:44] [I] Format: *\n",
      "[07/05/2025-16:30:44] [I] Model: \n",
      "[07/05/2025-16:30:44] [I] Output:\n",
      "[07/05/2025-16:30:44] [I] \n",
      "[07/05/2025-16:30:44] [I] === System Options ===\n",
      "[07/05/2025-16:30:44] [I] Device: 0\n",
      "[07/05/2025-16:30:44] [I] DLACore: \n",
      "[07/05/2025-16:30:44] [I] Plugins:\n",
      "[07/05/2025-16:30:44] [I] setPluginsToSerialize:\n",
      "[07/05/2025-16:30:44] [I] dynamicPlugins:\n",
      "[07/05/2025-16:30:44] [I] ignoreParsedPluginLibs: 0\n",
      "[07/05/2025-16:30:44] [I] \n",
      "[07/05/2025-16:30:44] [I] === Inference Options ===\n",
      "[07/05/2025-16:30:44] [I] Batch: Explicit\n",
      "[07/05/2025-16:30:44] [I] Input inference shape : images=16x3x640x640\n",
      "[07/05/2025-16:30:44] [I] Iterations: 10\n",
      "[07/05/2025-16:30:44] [I] Duration: 3s (+ 200ms warm up)\n",
      "[07/05/2025-16:30:44] [I] Sleep time: 0ms\n",
      "[07/05/2025-16:30:44] [I] Idle time: 0ms\n",
      "[07/05/2025-16:30:44] [I] Inference Streams: 1\n",
      "[07/05/2025-16:30:44] [I] ExposeDMA: Disabled\n",
      "[07/05/2025-16:30:44] [I] Data transfers: Enabled\n",
      "[07/05/2025-16:30:44] [I] Spin-wait: Disabled\n",
      "[07/05/2025-16:30:44] [I] Multithreading: Disabled\n",
      "[07/05/2025-16:30:44] [I] CUDA Graph: Disabled\n",
      "[07/05/2025-16:30:44] [I] Separate profiling: Disabled\n",
      "[07/05/2025-16:30:44] [I] Time Deserialize: Disabled\n",
      "[07/05/2025-16:30:44] [I] Time Refit: Disabled\n",
      "[07/05/2025-16:30:44] [I] NVTX verbosity: 0\n",
      "[07/05/2025-16:30:44] [I] Persistent Cache Ratio: 0\n",
      "[07/05/2025-16:30:44] [I] Optimization Profile Index: 0\n",
      "[07/05/2025-16:30:44] [I] Weight Streaming Budget: 100.000000%\n",
      "[07/05/2025-16:30:44] [I] Inputs:\n",
      "[07/05/2025-16:30:44] [I] Debug Tensor Save Destinations:\n",
      "[07/05/2025-16:30:44] [I] === Reporting Options ===\n",
      "[07/05/2025-16:30:44] [I] Verbose: Disabled\n",
      "[07/05/2025-16:30:44] [I] Averages: 10 inferences\n",
      "[07/05/2025-16:30:44] [I] Percentiles: 90,95,99\n",
      "[07/05/2025-16:30:44] [I] Dump refittable layers:Disabled\n",
      "[07/05/2025-16:30:44] [I] Dump output: Disabled\n",
      "[07/05/2025-16:30:44] [I] Profile: Disabled\n",
      "[07/05/2025-16:30:44] [I] Export timing to JSON file: \n",
      "[07/05/2025-16:30:44] [I] Export output to JSON file: \n",
      "[07/05/2025-16:30:44] [I] Export profile to JSON file: \n",
      "[07/05/2025-16:30:44] [I] \n",
      "[07/05/2025-16:30:44] [I] === Device Information ===\n",
      "[07/05/2025-16:30:44] [I] Available Devices: \n",
      "[07/05/2025-16:30:44] [I]   Device 0: \"NVIDIA L40\" UUID: GPU-24489db8-bad2-120a-7d4a-fc0957a903fb\n",
      "[07/05/2025-16:30:44] [I] Selected Device: NVIDIA L40\n",
      "[07/05/2025-16:30:44] [I] Selected Device ID: 0\n",
      "[07/05/2025-16:30:44] [I] Selected Device UUID: GPU-24489db8-bad2-120a-7d4a-fc0957a903fb\n",
      "[07/05/2025-16:30:44] [I] Compute Capability: 8.9\n",
      "[07/05/2025-16:30:44] [I] SMs: 142\n",
      "[07/05/2025-16:30:44] [I] Device Global Memory: 45385 MiB\n",
      "[07/05/2025-16:30:44] [I] Shared Memory per SM: 100 KiB\n",
      "[07/05/2025-16:30:44] [I] Memory Bus Width: 384 bits (ECC enabled)\n",
      "[07/05/2025-16:30:44] [I] Application Compute Clock Rate: 2.49 GHz\n",
      "[07/05/2025-16:30:44] [I] Application Memory Clock Rate: 9.001 GHz\n",
      "[07/05/2025-16:30:44] [I] \n",
      "[07/05/2025-16:30:44] [I] Note: The application clock rates do not reflect the actual clock rates that the GPU is currently running at.\n",
      "[07/05/2025-16:30:44] [I] \n",
      "[07/05/2025-16:30:44] [I] TensorRT version: 10.7.0\n",
      "[07/05/2025-16:30:44] [I] Loading standard plugins\n",
      "[07/05/2025-16:30:44] [I] [TRT] Loaded engine size: 11 MiB\n",
      "[07/05/2025-16:30:44] [I] Engine deserialized in 0.0549225 sec.\n",
      "[07/05/2025-16:30:44] [I] [TRT] [MemUsageChange] TensorRT-managed allocation in IExecutionContext creation: CPU +0, GPU +148, now: CPU 0, GPU 155 (MiB)\n",
      "[07/05/2025-16:30:44] [I] Setting persistentCacheLimit to 0 bytes.\n",
      "[07/05/2025-16:30:44] [I] Set shape of input tensor images to: 16x3x640x640\n",
      "[07/05/2025-16:30:44] [I] Created execution context with device memory size: 148.384 MiB\n",
      "[07/05/2025-16:30:44] [I] Using random values for input images\n",
      "[07/05/2025-16:30:45] [I] Input binding for images with dimensions 16x3x640x640 is created.\n",
      "[07/05/2025-16:30:45] [I] Output binding for output0 with dimensions 16x56x8400 is created.\n",
      "[07/05/2025-16:30:45] [I] Starting inference\n",
      "[07/05/2025-16:30:48] [I] Warmup completed 21 queries over 200 ms\n",
      "[07/05/2025-16:30:48] [I] Timing trace has 796 queries over 3.01115 s\n",
      "[07/05/2025-16:30:48] [I] \n",
      "[07/05/2025-16:30:48] [I] === Trace details ===\n",
      "[07/05/2025-16:30:48] [I] Trace averages of 10 runs:\n",
      "[07/05/2025-16:30:48] [I] Average on 10 runs - GPU latency: 2.88676 ms - Host latency: 7.44945 ms (enqueue 0.756532 ms)\n",
      "[07/05/2025-16:30:48] [I] Average on 10 runs - GPU latency: 2.88235 ms - Host latency: 7.44432 ms (enqueue 0.743474 ms)\n",
      "[07/05/2025-16:30:48] [I] Average on 10 runs - GPU latency: 2.89178 ms - Host latency: 7.45605 ms (enqueue 0.749347 ms)\n",
      "[07/05/2025-16:30:48] [I] Average on 10 runs - GPU latency: 2.89013 ms - Host latency: 7.45212 ms (enqueue 0.736646 ms)\n",
      "[07/05/2025-16:30:48] [I] Average on 10 runs - GPU latency: 2.90048 ms - Host latency: 7.4601 ms (enqueue 0.766049 ms)\n",
      "[07/05/2025-16:30:48] [I] Average on 10 runs - GPU latency: 2.89065 ms - Host latency: 7.45294 ms (enqueue 0.740512 ms)\n",
      "[07/05/2025-16:30:48] [I] Average on 10 runs - GPU latency: 2.89023 ms - Host latency: 7.45197 ms (enqueue 0.72894 ms)\n",
      "[07/05/2025-16:30:48] [I] Average on 10 runs - GPU latency: 2.89167 ms - Host latency: 7.45288 ms (enqueue 0.732172 ms)\n",
      "[07/05/2025-16:30:48] [I] Average on 10 runs - GPU latency: 2.87888 ms - Host latency: 7.43994 ms (enqueue 0.751251 ms)\n",
      "[07/05/2025-16:30:48] [I] Average on 10 runs - GPU latency: 2.89362 ms - Host latency: 7.45457 ms (enqueue 0.74339 ms)\n",
      "[07/05/2025-16:30:48] [I] Average on 10 runs - GPU latency: 2.89158 ms - Host latency: 7.45205 ms (enqueue 0.73053 ms)\n",
      "[07/05/2025-16:30:48] [I] Average on 10 runs - GPU latency: 2.89118 ms - Host latency: 7.45157 ms (enqueue 0.731421 ms)\n",
      "[07/05/2025-16:30:48] [I] Average on 10 runs - GPU latency: 2.88849 ms - Host latency: 7.45403 ms (enqueue 0.72995 ms)\n",
      "[07/05/2025-16:30:48] [I] Average on 10 runs - GPU latency: 2.90827 ms - Host latency: 7.46899 ms (enqueue 0.731555 ms)\n",
      "[07/05/2025-16:30:48] [I] Average on 10 runs - GPU latency: 2.89639 ms - Host latency: 7.4583 ms (enqueue 0.735339 ms)\n",
      "[07/05/2025-16:30:48] [I] Average on 10 runs - GPU latency: 2.90641 ms - Host latency: 7.4703 ms (enqueue 0.727832 ms)\n",
      "[07/05/2025-16:30:48] [I] Average on 10 runs - GPU latency: 2.90384 ms - Host latency: 7.47045 ms (enqueue 0.9539 ms)\n",
      "[07/05/2025-16:30:48] [I] Average on 10 runs - GPU latency: 2.89443 ms - Host latency: 7.46059 ms (enqueue 0.75036 ms)\n",
      "[07/05/2025-16:30:48] [I] Average on 10 runs - GPU latency: 2.9015 ms - Host latency: 7.46861 ms (enqueue 0.735687 ms)\n",
      "[07/05/2025-16:30:48] [I] Average on 10 runs - GPU latency: 2.89628 ms - Host latency: 7.46597 ms (enqueue 0.729742 ms)\n",
      "[07/05/2025-16:30:48] [I] Average on 10 runs - GPU latency: 2.90745 ms - Host latency: 7.47386 ms (enqueue 0.730304 ms)\n",
      "[07/05/2025-16:30:48] [I] Average on 10 runs - GPU latency: 2.91483 ms - Host latency: 7.47808 ms (enqueue 0.730457 ms)\n",
      "[07/05/2025-16:30:48] [I] Average on 10 runs - GPU latency: 2.91041 ms - Host latency: 7.47491 ms (enqueue 0.731055 ms)\n",
      "[07/05/2025-16:30:48] [I] Average on 10 runs - GPU latency: 2.89424 ms - Host latency: 7.45834 ms (enqueue 0.729761 ms)\n",
      "[07/05/2025-16:30:48] [I] Average on 10 runs - GPU latency: 2.88943 ms - Host latency: 7.45138 ms (enqueue 0.730164 ms)\n",
      "[07/05/2025-16:30:48] [I] Average on 10 runs - GPU latency: 2.8925 ms - Host latency: 7.4521 ms (enqueue 0.729846 ms)\n",
      "[07/05/2025-16:30:48] [I] Average on 10 runs - GPU latency: 2.88572 ms - Host latency: 7.44769 ms (enqueue 0.727246 ms)\n",
      "[07/05/2025-16:30:48] [I] Average on 10 runs - GPU latency: 2.89104 ms - Host latency: 7.45288 ms (enqueue 0.741748 ms)\n",
      "[07/05/2025-16:30:48] [I] Average on 10 runs - GPU latency: 2.88635 ms - Host latency: 7.4501 ms (enqueue 0.728723 ms)\n",
      "[07/05/2025-16:30:48] [I] Average on 10 runs - GPU latency: 2.89906 ms - Host latency: 7.45936 ms (enqueue 0.728699 ms)\n",
      "[07/05/2025-16:30:48] [I] Average on 10 runs - GPU latency: 2.89955 ms - Host latency: 7.45608 ms (enqueue 0.726648 ms)\n",
      "[07/05/2025-16:30:48] [I] Average on 10 runs - GPU latency: 2.90284 ms - Host latency: 7.46644 ms (enqueue 0.729553 ms)\n",
      "[07/05/2025-16:30:48] [I] Average on 10 runs - GPU latency: 2.89044 ms - Host latency: 7.4503 ms (enqueue 0.730896 ms)\n",
      "[07/05/2025-16:30:48] [I] Average on 10 runs - GPU latency: 2.87971 ms - Host latency: 7.44158 ms (enqueue 0.728809 ms)\n",
      "[07/05/2025-16:30:48] [I] Average on 10 runs - GPU latency: 2.88217 ms - Host latency: 7.44879 ms (enqueue 0.728259 ms)\n",
      "[07/05/2025-16:30:48] [I] Average on 10 runs - GPU latency: 2.8922 ms - Host latency: 7.45383 ms (enqueue 0.727478 ms)\n",
      "[07/05/2025-16:30:48] [I] Average on 10 runs - GPU latency: 2.88696 ms - Host latency: 7.45331 ms (enqueue 0.730566 ms)\n",
      "[07/05/2025-16:30:48] [I] Average on 10 runs - GPU latency: 2.89126 ms - Host latency: 7.45344 ms (enqueue 0.728247 ms)\n",
      "[07/05/2025-16:30:48] [I] Average on 10 runs - GPU latency: 2.90077 ms - Host latency: 7.46145 ms (enqueue 0.726453 ms)\n",
      "[07/05/2025-16:30:48] [I] Average on 10 runs - GPU latency: 2.9137 ms - Host latency: 7.47291 ms (enqueue 0.726428 ms)\n",
      "[07/05/2025-16:30:48] [I] Average on 10 runs - GPU latency: 2.9097 ms - Host latency: 7.47108 ms (enqueue 0.726147 ms)\n",
      "[07/05/2025-16:30:48] [I] Average on 10 runs - GPU latency: 2.89486 ms - Host latency: 7.45471 ms (enqueue 0.742981 ms)\n",
      "[07/05/2025-16:30:48] [I] Average on 10 runs - GPU latency: 2.89729 ms - Host latency: 7.4569 ms (enqueue 0.733386 ms)\n",
      "[07/05/2025-16:30:48] [I] Average on 10 runs - GPU latency: 2.89534 ms - Host latency: 7.45709 ms (enqueue 0.727124 ms)\n",
      "[07/05/2025-16:30:48] [I] Average on 10 runs - GPU latency: 2.89752 ms - Host latency: 7.45726 ms (enqueue 0.727002 ms)\n",
      "[07/05/2025-16:30:48] [I] Average on 10 runs - GPU latency: 2.90009 ms - Host latency: 7.46185 ms (enqueue 0.728088 ms)\n",
      "[07/05/2025-16:30:48] [I] Average on 10 runs - GPU latency: 2.90695 ms - Host latency: 7.46757 ms (enqueue 0.726599 ms)\n",
      "[07/05/2025-16:30:48] [I] Average on 10 runs - GPU latency: 2.89497 ms - Host latency: 7.45524 ms (enqueue 0.728711 ms)\n",
      "[07/05/2025-16:30:48] [I] Average on 10 runs - GPU latency: 2.8932 ms - Host latency: 7.45663 ms (enqueue 0.728943 ms)\n",
      "[07/05/2025-16:30:48] [I] Average on 10 runs - GPU latency: 2.90247 ms - Host latency: 7.4623 ms (enqueue 0.727173 ms)\n",
      "[07/05/2025-16:30:48] [I] Average on 10 runs - GPU latency: 2.89932 ms - Host latency: 7.4593 ms (enqueue 0.726416 ms)\n",
      "[07/05/2025-16:30:48] [I] Average on 10 runs - GPU latency: 2.89663 ms - Host latency: 7.46008 ms (enqueue 0.729004 ms)\n",
      "[07/05/2025-16:30:48] [I] Average on 10 runs - GPU latency: 2.8855 ms - Host latency: 7.44832 ms (enqueue 0.742041 ms)\n",
      "[07/05/2025-16:30:48] [I] Average on 10 runs - GPU latency: 2.88618 ms - Host latency: 7.44573 ms (enqueue 0.72688 ms)\n",
      "[07/05/2025-16:30:48] [I] Average on 10 runs - GPU latency: 2.88694 ms - Host latency: 7.44927 ms (enqueue 0.725293 ms)\n",
      "[07/05/2025-16:30:48] [I] Average on 10 runs - GPU latency: 2.90896 ms - Host latency: 7.46787 ms (enqueue 0.725855 ms)\n",
      "[07/05/2025-16:30:48] [I] Average on 10 runs - GPU latency: 2.89807 ms - Host latency: 7.45898 ms (enqueue 0.729614 ms)\n",
      "[07/05/2025-16:30:48] [I] Average on 10 runs - GPU latency: 2.89597 ms - Host latency: 7.45515 ms (enqueue 0.726855 ms)\n",
      "[07/05/2025-16:30:48] [I] Average on 10 runs - GPU latency: 2.9052 ms - Host latency: 7.4645 ms (enqueue 0.724487 ms)\n",
      "[07/05/2025-16:30:48] [I] Average on 10 runs - GPU latency: 2.90691 ms - Host latency: 7.4678 ms (enqueue 0.725855 ms)\n",
      "[07/05/2025-16:30:48] [I] Average on 10 runs - GPU latency: 2.90469 ms - Host latency: 7.46645 ms (enqueue 0.736035 ms)\n",
      "[07/05/2025-16:30:48] [I] Average on 10 runs - GPU latency: 2.89724 ms - Host latency: 7.45764 ms (enqueue 0.727222 ms)\n",
      "[07/05/2025-16:30:48] [I] Average on 10 runs - GPU latency: 2.88945 ms - Host latency: 7.45305 ms (enqueue 0.729639 ms)\n",
      "[07/05/2025-16:30:48] [I] Average on 10 runs - GPU latency: 2.87815 ms - Host latency: 7.43948 ms (enqueue 0.728027 ms)\n",
      "[07/05/2025-16:30:48] [I] Average on 10 runs - GPU latency: 2.90855 ms - Host latency: 7.46914 ms (enqueue 0.72666 ms)\n",
      "[07/05/2025-16:30:48] [I] Average on 10 runs - GPU latency: 2.896 ms - Host latency: 7.45676 ms (enqueue 0.727148 ms)\n",
      "[07/05/2025-16:30:48] [I] Average on 10 runs - GPU latency: 2.89883 ms - Host latency: 7.46033 ms (enqueue 0.726782 ms)\n",
      "[07/05/2025-16:30:48] [I] Average on 10 runs - GPU latency: 2.89897 ms - Host latency: 7.45935 ms (enqueue 0.727148 ms)\n",
      "[07/05/2025-16:30:48] [I] Average on 10 runs - GPU latency: 2.90159 ms - Host latency: 7.46504 ms (enqueue 0.726587 ms)\n",
      "[07/05/2025-16:30:48] [I] Average on 10 runs - GPU latency: 2.90103 ms - Host latency: 7.46033 ms (enqueue 0.733984 ms)\n",
      "[07/05/2025-16:30:48] [I] Average on 10 runs - GPU latency: 2.89819 ms - Host latency: 7.45808 ms (enqueue 0.725439 ms)\n",
      "[07/05/2025-16:30:48] [I] Average on 10 runs - GPU latency: 2.89487 ms - Host latency: 7.45356 ms (enqueue 0.725586 ms)\n",
      "[07/05/2025-16:30:48] [I] Average on 10 runs - GPU latency: 2.89314 ms - Host latency: 7.45566 ms (enqueue 0.728809 ms)\n",
      "[07/05/2025-16:30:48] [I] Average on 10 runs - GPU latency: 2.91758 ms - Host latency: 7.47561 ms (enqueue 0.72561 ms)\n",
      "[07/05/2025-16:30:48] [I] Average on 10 runs - GPU latency: 2.901 ms - Host latency: 7.46304 ms (enqueue 0.749634 ms)\n",
      "[07/05/2025-16:30:48] [I] Average on 10 runs - GPU latency: 2.90376 ms - Host latency: 7.4648 ms (enqueue 0.734082 ms)\n",
      "[07/05/2025-16:30:48] [I] Average on 10 runs - GPU latency: 2.90625 ms - Host latency: 7.4657 ms (enqueue 0.72959 ms)\n",
      "[07/05/2025-16:30:48] [I] Average on 10 runs - GPU latency: 2.91428 ms - Host latency: 7.47297 ms (enqueue 0.729224 ms)\n",
      "[07/05/2025-16:30:48] [I] Average on 10 runs - GPU latency: 2.90796 ms - Host latency: 7.47063 ms (enqueue 0.730176 ms)\n",
      "[07/05/2025-16:30:48] [I] \n",
      "[07/05/2025-16:30:48] [I] === Performance summary ===\n",
      "[07/05/2025-16:30:48] [I] Throughput: 264.351 qps\n",
      "[07/05/2025-16:30:48] [I] Latency: min = 7.22241 ms, max = 7.51941 ms, mean = 7.45849 ms, median = 7.45844 ms, percentile(90%) = 7.49097 ms, percentile(95%) = 7.49854 ms, percentile(99%) = 7.50989 ms\n",
      "[07/05/2025-16:30:48] [I] Enqueue Time: min = 0.71582 ms, max = 2.59766 ms, mean = 0.734687 ms, median = 0.728577 ms, percentile(90%) = 0.741272 ms, percentile(95%) = 0.75412 ms, percentile(99%) = 0.831512 ms\n",
      "[07/05/2025-16:30:48] [I] H2D Latency: min = 3.18823 ms, max = 3.31879 ms, mean = 3.24625 ms, median = 3.25288 ms, percentile(90%) = 3.29541 ms, percentile(95%) = 3.2998 ms, percentile(99%) = 3.3042 ms\n",
      "[07/05/2025-16:30:48] [I] GPU Compute Time: min = 2.85797 ms, max = 2.93884 ms, mean = 2.89702 ms, median = 2.89587 ms, percentile(90%) = 2.91638 ms, percentile(95%) = 2.92047 ms, percentile(99%) = 2.92969 ms\n",
      "[07/05/2025-16:30:48] [I] D2H Latency: min = 1.15576 ms, max = 1.35321 ms, mean = 1.31523 ms, median = 1.2998 ms, percentile(90%) = 1.34839 ms, percentile(95%) = 1.34924 ms, percentile(99%) = 1.35083 ms\n",
      "[07/05/2025-16:30:48] [I] Total Host Walltime: 3.01115 s\n",
      "[07/05/2025-16:30:48] [I] Total GPU Compute Time: 2.30603 s\n",
      "[07/05/2025-16:30:48] [W] * Throughput may be bound by host-to-device transfers for the inputs rather than GPU Compute and the GPU may be under-utilized.\n",
      "[07/05/2025-16:30:48] [W]   Add --noDataTransfers flag to disable data transfers.\n",
      "[07/05/2025-16:30:48] [I] Explanations of the performance metrics are printed in the verbose logs.\n",
      "[07/05/2025-16:30:48] [I] \n",
      "&&&& PASSED TensorRT.trtexec [TensorRT v100700] [b23] # trtexec --loadEngine=weights/yolov8s-pose-pruned-sp0.5-fp16.engine --shapes=images:16x3x640x640\n"
     ]
    }
   ],
   "source": [
    "!trtexec --loadEngine=weights/yolov8s-pose-pruned-sp0.5-fp16.engine --shapes=images:16x3x640x640"
   ]
  },
  {
   "cell_type": "code",
   "execution_count": 39,
   "id": "ddfb64be-3a01-406c-8afc-ff8b97733af2",
   "metadata": {
    "collapsed": true,
    "execution": {
     "iopub.execute_input": "2025-07-05T08:45:42.913788Z",
     "iopub.status.busy": "2025-07-05T08:45:42.913079Z",
     "iopub.status.idle": "2025-07-05T08:45:48.589569Z",
     "shell.execute_reply": "2025-07-05T08:45:48.588268Z",
     "shell.execute_reply.started": "2025-07-05T08:45:42.913738Z"
    },
    "jupyter": {
     "outputs_hidden": true
    }
   },
   "outputs": [
    {
     "name": "stdout",
     "output_type": "stream",
     "text": [
      "&&&& RUNNING TensorRT.trtexec [TensorRT v100700] [b23] # trtexec --loadEngine=weights/yolov8s-pose-pruned-sp0.5-fp16.engine --shapes=images:1x3x640x640\n",
      "[07/05/2025-16:45:43] [I] TF32 is enabled by default. Add --noTF32 flag to further improve accuracy with some performance cost.\n",
      "[07/05/2025-16:45:43] [I] === Model Options ===\n",
      "[07/05/2025-16:45:43] [I] Format: *\n",
      "[07/05/2025-16:45:43] [I] Model: \n",
      "[07/05/2025-16:45:43] [I] Output:\n",
      "[07/05/2025-16:45:43] [I] \n",
      "[07/05/2025-16:45:43] [I] === System Options ===\n",
      "[07/05/2025-16:45:43] [I] Device: 0\n",
      "[07/05/2025-16:45:43] [I] DLACore: \n",
      "[07/05/2025-16:45:43] [I] Plugins:\n",
      "[07/05/2025-16:45:43] [I] setPluginsToSerialize:\n",
      "[07/05/2025-16:45:43] [I] dynamicPlugins:\n",
      "[07/05/2025-16:45:43] [I] ignoreParsedPluginLibs: 0\n",
      "[07/05/2025-16:45:43] [I] \n",
      "[07/05/2025-16:45:43] [I] === Inference Options ===\n",
      "[07/05/2025-16:45:43] [I] Batch: Explicit\n",
      "[07/05/2025-16:45:43] [I] Input inference shape : images=1x3x640x640\n",
      "[07/05/2025-16:45:43] [I] Iterations: 10\n",
      "[07/05/2025-16:45:43] [I] Duration: 3s (+ 200ms warm up)\n",
      "[07/05/2025-16:45:43] [I] Sleep time: 0ms\n",
      "[07/05/2025-16:45:43] [I] Idle time: 0ms\n",
      "[07/05/2025-16:45:43] [I] Inference Streams: 1\n",
      "[07/05/2025-16:45:43] [I] ExposeDMA: Disabled\n",
      "[07/05/2025-16:45:43] [I] Data transfers: Enabled\n",
      "[07/05/2025-16:45:43] [I] Spin-wait: Disabled\n",
      "[07/05/2025-16:45:43] [I] Multithreading: Disabled\n",
      "[07/05/2025-16:45:43] [I] CUDA Graph: Disabled\n",
      "[07/05/2025-16:45:43] [I] Separate profiling: Disabled\n",
      "[07/05/2025-16:45:43] [I] Time Deserialize: Disabled\n",
      "[07/05/2025-16:45:43] [I] Time Refit: Disabled\n",
      "[07/05/2025-16:45:43] [I] NVTX verbosity: 0\n",
      "[07/05/2025-16:45:43] [I] Persistent Cache Ratio: 0\n",
      "[07/05/2025-16:45:43] [I] Optimization Profile Index: 0\n",
      "[07/05/2025-16:45:43] [I] Weight Streaming Budget: 100.000000%\n",
      "[07/05/2025-16:45:43] [I] Inputs:\n",
      "[07/05/2025-16:45:43] [I] Debug Tensor Save Destinations:\n",
      "[07/05/2025-16:45:43] [I] === Reporting Options ===\n",
      "[07/05/2025-16:45:43] [I] Verbose: Disabled\n",
      "[07/05/2025-16:45:43] [I] Averages: 10 inferences\n",
      "[07/05/2025-16:45:43] [I] Percentiles: 90,95,99\n",
      "[07/05/2025-16:45:43] [I] Dump refittable layers:Disabled\n",
      "[07/05/2025-16:45:43] [I] Dump output: Disabled\n",
      "[07/05/2025-16:45:43] [I] Profile: Disabled\n",
      "[07/05/2025-16:45:43] [I] Export timing to JSON file: \n",
      "[07/05/2025-16:45:43] [I] Export output to JSON file: \n",
      "[07/05/2025-16:45:43] [I] Export profile to JSON file: \n",
      "[07/05/2025-16:45:43] [I] \n",
      "[07/05/2025-16:45:43] [I] === Device Information ===\n",
      "[07/05/2025-16:45:43] [I] Available Devices: \n",
      "[07/05/2025-16:45:43] [I]   Device 0: \"NVIDIA L40\" UUID: GPU-24489db8-bad2-120a-7d4a-fc0957a903fb\n",
      "[07/05/2025-16:45:44] [I] Selected Device: NVIDIA L40\n",
      "[07/05/2025-16:45:44] [I] Selected Device ID: 0\n",
      "[07/05/2025-16:45:44] [I] Selected Device UUID: GPU-24489db8-bad2-120a-7d4a-fc0957a903fb\n",
      "[07/05/2025-16:45:44] [I] Compute Capability: 8.9\n",
      "[07/05/2025-16:45:44] [I] SMs: 142\n",
      "[07/05/2025-16:45:44] [I] Device Global Memory: 45385 MiB\n",
      "[07/05/2025-16:45:44] [I] Shared Memory per SM: 100 KiB\n",
      "[07/05/2025-16:45:44] [I] Memory Bus Width: 384 bits (ECC enabled)\n",
      "[07/05/2025-16:45:44] [I] Application Compute Clock Rate: 2.49 GHz\n",
      "[07/05/2025-16:45:44] [I] Application Memory Clock Rate: 9.001 GHz\n",
      "[07/05/2025-16:45:44] [I] \n",
      "[07/05/2025-16:45:44] [I] Note: The application clock rates do not reflect the actual clock rates that the GPU is currently running at.\n",
      "[07/05/2025-16:45:44] [I] \n",
      "[07/05/2025-16:45:44] [I] TensorRT version: 10.7.0\n",
      "[07/05/2025-16:45:44] [I] Loading standard plugins\n",
      "[07/05/2025-16:45:44] [I] [TRT] Loaded engine size: 11 MiB\n",
      "[07/05/2025-16:45:44] [I] Engine deserialized in 0.0550457 sec.\n",
      "[07/05/2025-16:45:44] [I] [TRT] [MemUsageChange] TensorRT-managed allocation in IExecutionContext creation: CPU +0, GPU +148, now: CPU 0, GPU 155 (MiB)\n",
      "[07/05/2025-16:45:44] [I] Setting persistentCacheLimit to 0 bytes.\n",
      "[07/05/2025-16:45:44] [I] Set shape of input tensor images to: 1x3x640x640\n",
      "[07/05/2025-16:45:44] [I] Created execution context with device memory size: 148.384 MiB\n",
      "[07/05/2025-16:45:44] [I] Using random values for input images\n",
      "[07/05/2025-16:45:44] [I] Input binding for images with dimensions 1x3x640x640 is created.\n",
      "[07/05/2025-16:45:44] [I] Output binding for output0 with dimensions 1x56x8400 is created.\n",
      "[07/05/2025-16:45:44] [I] Starting inference\n",
      "[07/05/2025-16:45:47] [I] Warmup completed 82 queries over 200 ms\n",
      "[07/05/2025-16:45:47] [I] Timing trace has 3255 queries over 3.00304 s\n",
      "[07/05/2025-16:45:47] [I] \n",
      "[07/05/2025-16:45:47] [I] === Trace details ===\n",
      "[07/05/2025-16:45:47] [I] Trace averages of 10 runs:\n",
      "[07/05/2025-16:45:47] [I] Average on 10 runs - GPU latency: 0.916786 ms - Host latency: 1.19756 ms (enqueue 0.859483 ms)\n",
      "[07/05/2025-16:45:47] [I] Average on 10 runs - GPU latency: 0.916479 ms - Host latency: 1.19624 ms (enqueue 0.861481 ms)\n",
      "[07/05/2025-16:45:47] [I] Average on 10 runs - GPU latency: 0.916685 ms - Host latency: 1.19712 ms (enqueue 0.867976 ms)\n",
      "[07/05/2025-16:45:47] [I] Average on 10 runs - GPU latency: 0.916689 ms - Host latency: 1.19683 ms (enqueue 0.861473 ms)\n",
      "[07/05/2025-16:45:47] [I] Average on 10 runs - GPU latency: 0.916479 ms - Host latency: 1.19621 ms (enqueue 0.863927 ms)\n",
      "[07/05/2025-16:45:47] [I] Average on 10 runs - GPU latency: 0.916594 ms - Host latency: 1.19691 ms (enqueue 0.85948 ms)\n",
      "[07/05/2025-16:45:47] [I] Average on 10 runs - GPU latency: 0.917094 ms - Host latency: 1.19761 ms (enqueue 0.860681 ms)\n",
      "[07/05/2025-16:45:47] [I] Average on 10 runs - GPU latency: 0.916788 ms - Host latency: 1.19722 ms (enqueue 0.860678 ms)\n",
      "[07/05/2025-16:45:47] [I] Average on 10 runs - GPU latency: 0.916791 ms - Host latency: 1.19708 ms (enqueue 0.86239 ms)\n",
      "[07/05/2025-16:45:47] [I] Average on 10 runs - GPU latency: 0.916476 ms - Host latency: 1.19631 ms (enqueue 0.865701 ms)\n",
      "[07/05/2025-16:45:47] [I] Average on 10 runs - GPU latency: 0.916684 ms - Host latency: 1.19745 ms (enqueue 0.861414 ms)\n",
      "[07/05/2025-16:45:47] [I] Average on 10 runs - GPU latency: 0.917093 ms - Host latency: 1.19793 ms (enqueue 0.862799 ms)\n",
      "[07/05/2025-16:45:47] [I] Average on 10 runs - GPU latency: 0.916681 ms - Host latency: 1.19685 ms (enqueue 0.862918 ms)\n",
      "[07/05/2025-16:45:47] [I] Average on 10 runs - GPU latency: 0.916989 ms - Host latency: 1.19742 ms (enqueue 0.868475 ms)\n",
      "[07/05/2025-16:45:47] [I] Average on 10 runs - GPU latency: 0.916586 ms - Host latency: 1.19646 ms (enqueue 0.860822 ms)\n",
      "[07/05/2025-16:45:47] [I] Average on 10 runs - GPU latency: 0.916788 ms - Host latency: 1.1968 ms (enqueue 0.861688 ms)\n",
      "[07/05/2025-16:45:47] [I] Average on 10 runs - GPU latency: 0.916681 ms - Host latency: 1.19703 ms (enqueue 0.861652 ms)\n",
      "[07/05/2025-16:45:47] [I] Average on 10 runs - GPU latency: 0.916788 ms - Host latency: 1.19718 ms (enqueue 0.865482 ms)\n",
      "[07/05/2025-16:45:47] [I] Average on 10 runs - GPU latency: 0.916583 ms - Host latency: 1.19637 ms (enqueue 0.867398 ms)\n",
      "[07/05/2025-16:45:47] [I] Average on 10 runs - GPU latency: 0.916791 ms - Host latency: 1.19707 ms (enqueue 0.864636 ms)\n",
      "[07/05/2025-16:45:47] [I] Average on 10 runs - GPU latency: 0.916486 ms - Host latency: 1.19716 ms (enqueue 0.864673 ms)\n",
      "[07/05/2025-16:45:47] [I] Average on 10 runs - GPU latency: 0.916592 ms - Host latency: 1.1963 ms (enqueue 0.860754 ms)\n",
      "[07/05/2025-16:45:47] [I] Average on 10 runs - GPU latency: 0.91658 ms - Host latency: 1.19632 ms (enqueue 0.862372 ms)\n",
      "[07/05/2025-16:45:47] [I] Average on 10 runs - GPU latency: 0.916684 ms - Host latency: 1.19712 ms (enqueue 0.859363 ms)\n",
      "[07/05/2025-16:45:47] [I] Average on 10 runs - GPU latency: 0.916275 ms - Host latency: 1.19676 ms (enqueue 0.862009 ms)\n",
      "[07/05/2025-16:45:47] [I] Average on 10 runs - GPU latency: 0.916479 ms - Host latency: 1.19735 ms (enqueue 0.861813 ms)\n",
      "[07/05/2025-16:45:47] [I] Average on 10 runs - GPU latency: 0.916287 ms - Host latency: 1.1959 ms (enqueue 0.862891 ms)\n",
      "[07/05/2025-16:45:47] [I] Average on 10 runs - GPU latency: 0.91658 ms - Host latency: 1.19651 ms (enqueue 0.859787 ms)\n",
      "[07/05/2025-16:45:47] [I] Average on 10 runs - GPU latency: 0.916681 ms - Host latency: 1.19737 ms (enqueue 0.860632 ms)\n",
      "[07/05/2025-16:45:47] [I] Average on 10 runs - GPU latency: 0.916498 ms - Host latency: 1.19709 ms (enqueue 0.862448 ms)\n",
      "[07/05/2025-16:45:47] [I] Average on 10 runs - GPU latency: 0.91658 ms - Host latency: 1.19641 ms (enqueue 0.862808 ms)\n",
      "[07/05/2025-16:45:47] [I] Average on 10 runs - GPU latency: 0.916479 ms - Host latency: 1.19626 ms (enqueue 0.861435 ms)\n",
      "[07/05/2025-16:45:47] [I] Average on 10 runs - GPU latency: 0.916782 ms - Host latency: 1.19673 ms (enqueue 0.859277 ms)\n",
      "[07/05/2025-16:45:47] [I] Average on 10 runs - GPU latency: 0.916895 ms - Host latency: 1.19766 ms (enqueue 0.861542 ms)\n",
      "[07/05/2025-16:45:47] [I] Average on 10 runs - GPU latency: 0.916583 ms - Host latency: 1.19684 ms (enqueue 0.862411 ms)\n",
      "[07/05/2025-16:45:47] [I] Average on 10 runs - GPU latency: 0.916492 ms - Host latency: 1.19676 ms (enqueue 0.863123 ms)\n",
      "[07/05/2025-16:45:47] [I] Average on 10 runs - GPU latency: 0.916479 ms - Host latency: 1.19605 ms (enqueue 0.859027 ms)\n",
      "[07/05/2025-16:45:47] [I] Average on 10 runs - GPU latency: 0.916785 ms - Host latency: 1.19673 ms (enqueue 0.859613 ms)\n",
      "[07/05/2025-16:45:47] [I] Average on 10 runs - GPU latency: 0.916821 ms - Host latency: 1.19647 ms (enqueue 0.863416 ms)\n",
      "[07/05/2025-16:45:47] [I] Average on 10 runs - GPU latency: 0.916486 ms - Host latency: 1.19666 ms (enqueue 0.861664 ms)\n",
      "[07/05/2025-16:45:47] [I] Average on 10 runs - GPU latency: 0.916882 ms - Host latency: 1.19696 ms (enqueue 0.85849 ms)\n",
      "[07/05/2025-16:45:47] [I] Average on 10 runs - GPU latency: 0.916516 ms - Host latency: 1.19643 ms (enqueue 0.858331 ms)\n",
      "[07/05/2025-16:45:47] [I] Average on 10 runs - GPU latency: 0.916791 ms - Host latency: 1.19689 ms (enqueue 0.859259 ms)\n",
      "[07/05/2025-16:45:47] [I] Average on 10 runs - GPU latency: 0.916797 ms - Host latency: 1.19661 ms (enqueue 0.8638 ms)\n",
      "[07/05/2025-16:45:47] [I] Average on 10 runs - GPU latency: 0.916687 ms - Host latency: 1.19652 ms (enqueue 0.860175 ms)\n",
      "[07/05/2025-16:45:47] [I] Average on 10 runs - GPU latency: 0.916388 ms - Host latency: 1.19639 ms (enqueue 0.862994 ms)\n",
      "[07/05/2025-16:45:47] [I] Average on 10 runs - GPU latency: 0.916303 ms - Host latency: 1.19633 ms (enqueue 0.864935 ms)\n",
      "[07/05/2025-16:45:47] [I] Average on 10 runs - GPU latency: 0.916693 ms - Host latency: 1.19681 ms (enqueue 0.858411 ms)\n",
      "[07/05/2025-16:45:47] [I] Average on 10 runs - GPU latency: 0.916571 ms - Host latency: 1.1961 ms (enqueue 0.862982 ms)\n",
      "[07/05/2025-16:45:47] [I] Average on 10 runs - GPU latency: 0.916718 ms - Host latency: 1.19644 ms (enqueue 0.859998 ms)\n",
      "[07/05/2025-16:45:47] [I] Average on 10 runs - GPU latency: 0.916602 ms - Host latency: 1.19684 ms (enqueue 0.862659 ms)\n",
      "[07/05/2025-16:45:47] [I] Average on 10 runs - GPU latency: 0.916687 ms - Host latency: 1.19684 ms (enqueue 0.864288 ms)\n",
      "[07/05/2025-16:45:47] [I] Average on 10 runs - GPU latency: 0.916577 ms - Host latency: 1.19691 ms (enqueue 0.865198 ms)\n",
      "[07/05/2025-16:45:47] [I] Average on 10 runs - GPU latency: 0.916815 ms - Host latency: 1.19671 ms (enqueue 0.863824 ms)\n",
      "[07/05/2025-16:45:47] [I] Average on 10 runs - GPU latency: 0.916583 ms - Host latency: 1.19657 ms (enqueue 0.859839 ms)\n",
      "[07/05/2025-16:45:47] [I] Average on 10 runs - GPU latency: 0.916486 ms - Host latency: 1.19589 ms (enqueue 0.860217 ms)\n",
      "[07/05/2025-16:45:47] [I] Average on 10 runs - GPU latency: 0.915967 ms - Host latency: 1.19582 ms (enqueue 0.860974 ms)\n",
      "[07/05/2025-16:45:47] [I] Average on 10 runs - GPU latency: 0.917072 ms - Host latency: 1.19701 ms (enqueue 0.863751 ms)\n",
      "[07/05/2025-16:45:47] [I] Average on 10 runs - GPU latency: 0.916589 ms - Host latency: 1.19616 ms (enqueue 0.862897 ms)\n",
      "[07/05/2025-16:45:47] [I] Average on 10 runs - GPU latency: 0.91687 ms - Host latency: 1.19741 ms (enqueue 0.860632 ms)\n",
      "[07/05/2025-16:45:47] [I] Average on 10 runs - GPU latency: 0.916687 ms - Host latency: 1.19685 ms (enqueue 0.862433 ms)\n",
      "[07/05/2025-16:45:47] [I] Average on 10 runs - GPU latency: 0.916498 ms - Host latency: 1.19652 ms (enqueue 0.862555 ms)\n",
      "[07/05/2025-16:45:47] [I] Average on 10 runs - GPU latency: 0.91701 ms - Host latency: 1.1967 ms (enqueue 0.861963 ms)\n",
      "[07/05/2025-16:45:47] [I] Average on 10 runs - GPU latency: 0.916583 ms - Host latency: 1.19712 ms (enqueue 0.86225 ms)\n",
      "[07/05/2025-16:45:47] [I] Average on 10 runs - GPU latency: 0.916675 ms - Host latency: 1.19702 ms (enqueue 0.862665 ms)\n",
      "[07/05/2025-16:45:47] [I] Average on 10 runs - GPU latency: 0.916479 ms - Host latency: 1.19644 ms (enqueue 0.862048 ms)\n",
      "[07/05/2025-16:45:47] [I] Average on 10 runs - GPU latency: 0.916882 ms - Host latency: 1.19717 ms (enqueue 0.865955 ms)\n",
      "[07/05/2025-16:45:47] [I] Average on 10 runs - GPU latency: 0.916583 ms - Host latency: 1.19611 ms (enqueue 0.863867 ms)\n",
      "[07/05/2025-16:45:47] [I] Average on 10 runs - GPU latency: 0.916693 ms - Host latency: 1.19722 ms (enqueue 0.864703 ms)\n",
      "[07/05/2025-16:45:47] [I] Average on 10 runs - GPU latency: 0.916394 ms - Host latency: 1.19621 ms (enqueue 0.863464 ms)\n",
      "[07/05/2025-16:45:47] [I] Average on 10 runs - GPU latency: 0.916895 ms - Host latency: 1.19756 ms (enqueue 0.862415 ms)\n",
      "[07/05/2025-16:45:47] [I] Average on 10 runs - GPU latency: 0.916467 ms - Host latency: 1.19652 ms (enqueue 0.863001 ms)\n",
      "[07/05/2025-16:45:47] [I] Average on 10 runs - GPU latency: 0.916809 ms - Host latency: 1.19672 ms (enqueue 0.864288 ms)\n",
      "[07/05/2025-16:45:47] [I] Average on 10 runs - GPU latency: 0.916687 ms - Host latency: 1.19691 ms (enqueue 0.86543 ms)\n",
      "[07/05/2025-16:45:47] [I] Average on 10 runs - GPU latency: 0.916785 ms - Host latency: 1.19751 ms (enqueue 0.861798 ms)\n",
      "[07/05/2025-16:45:47] [I] Average on 10 runs - GPU latency: 0.91618 ms - Host latency: 1.19606 ms (enqueue 0.865643 ms)\n",
      "[07/05/2025-16:45:47] [I] Average on 10 runs - GPU latency: 0.916888 ms - Host latency: 1.19719 ms (enqueue 0.863483 ms)\n",
      "[07/05/2025-16:45:47] [I] Average on 10 runs - GPU latency: 0.916791 ms - Host latency: 1.19816 ms (enqueue 0.864624 ms)\n",
      "[07/05/2025-16:45:47] [I] Average on 10 runs - GPU latency: 0.916577 ms - Host latency: 1.19638 ms (enqueue 0.864697 ms)\n",
      "[07/05/2025-16:45:47] [I] Average on 10 runs - GPU latency: 0.916998 ms - Host latency: 1.19803 ms (enqueue 0.864227 ms)\n",
      "[07/05/2025-16:45:47] [I] Average on 10 runs - GPU latency: 0.916779 ms - Host latency: 1.19736 ms (enqueue 0.86347 ms)\n",
      "[07/05/2025-16:45:47] [I] Average on 10 runs - GPU latency: 0.916595 ms - Host latency: 1.19688 ms (enqueue 0.864734 ms)\n",
      "[07/05/2025-16:45:47] [I] Average on 10 runs - GPU latency: 0.916876 ms - Host latency: 1.19738 ms (enqueue 0.860992 ms)\n",
      "[07/05/2025-16:45:47] [I] Average on 10 runs - GPU latency: 0.916895 ms - Host latency: 1.19686 ms (enqueue 0.862189 ms)\n",
      "[07/05/2025-16:45:47] [I] Average on 10 runs - GPU latency: 0.916492 ms - Host latency: 1.19648 ms (enqueue 0.861072 ms)\n",
      "[07/05/2025-16:45:47] [I] Average on 10 runs - GPU latency: 0.916577 ms - Host latency: 1.19673 ms (enqueue 0.86189 ms)\n",
      "[07/05/2025-16:45:47] [I] Average on 10 runs - GPU latency: 0.916473 ms - Host latency: 1.19676 ms (enqueue 0.860889 ms)\n",
      "[07/05/2025-16:45:47] [I] Average on 10 runs - GPU latency: 0.916467 ms - Host latency: 1.19752 ms (enqueue 0.866022 ms)\n",
      "[07/05/2025-16:45:47] [I] Average on 10 runs - GPU latency: 0.916602 ms - Host latency: 1.19712 ms (enqueue 0.86579 ms)\n",
      "[07/05/2025-16:45:47] [I] Average on 10 runs - GPU latency: 1.47878 ms - Host latency: 1.76335 ms (enqueue 1.54179 ms)\n",
      "[07/05/2025-16:45:47] [I] Average on 10 runs - GPU latency: 0.9172 ms - Host latency: 1.19766 ms (enqueue 0.813953 ms)\n",
      "[07/05/2025-16:45:47] [I] Average on 10 runs - GPU latency: 0.91698 ms - Host latency: 1.19707 ms (enqueue 0.783423 ms)\n",
      "[07/05/2025-16:45:47] [I] Average on 10 runs - GPU latency: 0.916577 ms - Host latency: 1.19675 ms (enqueue 0.780103 ms)\n",
      "[07/05/2025-16:45:47] [I] Average on 10 runs - GPU latency: 1.09874 ms - Host latency: 1.39312 ms (enqueue 1.13079 ms)\n",
      "[07/05/2025-16:45:47] [I] Average on 10 runs - GPU latency: 0.91698 ms - Host latency: 1.19904 ms (enqueue 0.883386 ms)\n",
      "[07/05/2025-16:45:47] [I] Average on 10 runs - GPU latency: 0.916382 ms - Host latency: 1.19569 ms (enqueue 0.876917 ms)\n",
      "[07/05/2025-16:45:47] [I] Average on 10 runs - GPU latency: 0.91676 ms - Host latency: 1.1967 ms (enqueue 0.870581 ms)\n",
      "[07/05/2025-16:45:47] [I] Average on 10 runs - GPU latency: 0.916907 ms - Host latency: 1.19707 ms (enqueue 0.861755 ms)\n",
      "[07/05/2025-16:45:47] [I] Average on 10 runs - GPU latency: 0.916455 ms - Host latency: 1.19615 ms (enqueue 0.862073 ms)\n",
      "[07/05/2025-16:45:47] [I] Average on 10 runs - GPU latency: 0.916724 ms - Host latency: 1.19677 ms (enqueue 0.862512 ms)\n",
      "[07/05/2025-16:45:47] [I] Average on 10 runs - GPU latency: 0.916589 ms - Host latency: 1.19631 ms (enqueue 0.859729 ms)\n",
      "[07/05/2025-16:45:47] [I] Average on 10 runs - GPU latency: 0.916992 ms - Host latency: 1.19705 ms (enqueue 0.861304 ms)\n",
      "[07/05/2025-16:45:47] [I] Average on 10 runs - GPU latency: 0.916699 ms - Host latency: 1.19623 ms (enqueue 0.860303 ms)\n",
      "[07/05/2025-16:45:47] [I] Average on 10 runs - GPU latency: 0.916882 ms - Host latency: 1.19771 ms (enqueue 0.861719 ms)\n",
      "[07/05/2025-16:45:47] [I] Average on 10 runs - GPU latency: 0.916187 ms - Host latency: 1.19607 ms (enqueue 0.859705 ms)\n",
      "[07/05/2025-16:45:47] [I] Average on 10 runs - GPU latency: 0.916479 ms - Host latency: 1.19622 ms (enqueue 0.858789 ms)\n",
      "[07/05/2025-16:45:47] [I] Average on 10 runs - GPU latency: 0.916687 ms - Host latency: 1.1972 ms (enqueue 0.860352 ms)\n",
      "[07/05/2025-16:45:47] [I] Average on 10 runs - GPU latency: 0.916602 ms - Host latency: 1.19678 ms (enqueue 0.863281 ms)\n",
      "[07/05/2025-16:45:47] [I] Average on 10 runs - GPU latency: 0.916821 ms - Host latency: 1.19708 ms (enqueue 0.860413 ms)\n",
      "[07/05/2025-16:45:47] [I] Average on 10 runs - GPU latency: 0.91637 ms - Host latency: 1.19615 ms (enqueue 0.857983 ms)\n",
      "[07/05/2025-16:45:47] [I] Average on 10 runs - GPU latency: 0.916467 ms - Host latency: 1.19685 ms (enqueue 0.85741 ms)\n",
      "[07/05/2025-16:45:47] [I] Average on 10 runs - GPU latency: 0.916589 ms - Host latency: 1.19634 ms (enqueue 0.860608 ms)\n",
      "[07/05/2025-16:45:47] [I] Average on 10 runs - GPU latency: 0.916895 ms - Host latency: 1.19672 ms (enqueue 0.859106 ms)\n",
      "[07/05/2025-16:45:47] [I] Average on 10 runs - GPU latency: 0.916284 ms - Host latency: 1.19652 ms (enqueue 0.859314 ms)\n",
      "[07/05/2025-16:45:47] [I] Average on 10 runs - GPU latency: 0.916992 ms - Host latency: 1.19683 ms (enqueue 0.863892 ms)\n",
      "[07/05/2025-16:45:47] [I] Average on 10 runs - GPU latency: 0.916492 ms - Host latency: 1.19634 ms (enqueue 0.857251 ms)\n",
      "[07/05/2025-16:45:47] [I] Average on 10 runs - GPU latency: 0.916577 ms - Host latency: 1.19657 ms (enqueue 0.859644 ms)\n",
      "[07/05/2025-16:45:47] [I] Average on 10 runs - GPU latency: 0.916394 ms - Host latency: 1.19601 ms (enqueue 0.85636 ms)\n",
      "[07/05/2025-16:45:47] [I] Average on 10 runs - GPU latency: 0.91637 ms - Host latency: 1.19683 ms (enqueue 0.856458 ms)\n",
      "[07/05/2025-16:45:47] [I] Average on 10 runs - GPU latency: 0.916296 ms - Host latency: 1.19578 ms (enqueue 0.862866 ms)\n",
      "[07/05/2025-16:45:47] [I] Average on 10 runs - GPU latency: 0.916565 ms - Host latency: 1.19662 ms (enqueue 0.856372 ms)\n",
      "[07/05/2025-16:45:47] [I] Average on 10 runs - GPU latency: 0.916455 ms - Host latency: 1.19713 ms (enqueue 0.858325 ms)\n",
      "[07/05/2025-16:45:47] [I] Average on 10 runs - GPU latency: 0.917102 ms - Host latency: 1.19718 ms (enqueue 0.85802 ms)\n",
      "[07/05/2025-16:45:47] [I] Average on 10 runs - GPU latency: 0.916711 ms - Host latency: 1.19692 ms (enqueue 0.856628 ms)\n",
      "[07/05/2025-16:45:47] [I] Average on 10 runs - GPU latency: 0.916809 ms - Host latency: 1.19702 ms (enqueue 0.859729 ms)\n",
      "[07/05/2025-16:45:47] [I] Average on 10 runs - GPU latency: 0.916882 ms - Host latency: 1.19667 ms (enqueue 0.858337 ms)\n",
      "[07/05/2025-16:45:47] [I] Average on 10 runs - GPU latency: 0.916602 ms - Host latency: 1.196 ms (enqueue 0.858276 ms)\n",
      "[07/05/2025-16:45:47] [I] Average on 10 runs - GPU latency: 0.916895 ms - Host latency: 1.1974 ms (enqueue 0.860095 ms)\n",
      "[07/05/2025-16:45:47] [I] Average on 10 runs - GPU latency: 0.916467 ms - Host latency: 1.19604 ms (enqueue 0.859814 ms)\n",
      "[07/05/2025-16:45:47] [I] Average on 10 runs - GPU latency: 0.916602 ms - Host latency: 1.19669 ms (enqueue 0.855945 ms)\n",
      "[07/05/2025-16:45:47] [I] Average on 10 runs - GPU latency: 0.916809 ms - Host latency: 1.19672 ms (enqueue 0.859009 ms)\n",
      "[07/05/2025-16:45:47] [I] Average on 10 runs - GPU latency: 0.91637 ms - Host latency: 1.19617 ms (enqueue 0.857422 ms)\n",
      "[07/05/2025-16:45:47] [I] Average on 10 runs - GPU latency: 0.91687 ms - Host latency: 1.19697 ms (enqueue 0.858179 ms)\n",
      "[07/05/2025-16:45:47] [I] Average on 10 runs - GPU latency: 0.916187 ms - Host latency: 1.19655 ms (enqueue 0.858423 ms)\n",
      "[07/05/2025-16:45:47] [I] Average on 10 runs - GPU latency: 0.916772 ms - Host latency: 1.19679 ms (enqueue 0.859009 ms)\n",
      "[07/05/2025-16:45:47] [I] Average on 10 runs - GPU latency: 0.916577 ms - Host latency: 1.1979 ms (enqueue 0.859277 ms)\n",
      "[07/05/2025-16:45:47] [I] Average on 10 runs - GPU latency: 0.916907 ms - Host latency: 1.19736 ms (enqueue 0.858691 ms)\n",
      "[07/05/2025-16:45:47] [I] Average on 10 runs - GPU latency: 0.917029 ms - Host latency: 1.19708 ms (enqueue 0.859619 ms)\n",
      "[07/05/2025-16:45:47] [I] Average on 10 runs - GPU latency: 0.916785 ms - Host latency: 1.19781 ms (enqueue 0.858826 ms)\n",
      "[07/05/2025-16:45:47] [I] Average on 10 runs - GPU latency: 0.916589 ms - Host latency: 1.19635 ms (enqueue 0.858911 ms)\n",
      "[07/05/2025-16:45:47] [I] Average on 10 runs - GPU latency: 0.916272 ms - Host latency: 1.19601 ms (enqueue 0.860071 ms)\n",
      "[07/05/2025-16:45:47] [I] Average on 10 runs - GPU latency: 0.917029 ms - Host latency: 1.19679 ms (enqueue 0.861328 ms)\n",
      "[07/05/2025-16:45:47] [I] Average on 10 runs - GPU latency: 0.916492 ms - Host latency: 1.19661 ms (enqueue 0.861011 ms)\n",
      "[07/05/2025-16:45:47] [I] Average on 10 runs - GPU latency: 0.916809 ms - Host latency: 1.19709 ms (enqueue 0.858044 ms)\n",
      "[07/05/2025-16:45:47] [I] Average on 10 runs - GPU latency: 0.916687 ms - Host latency: 1.19657 ms (enqueue 0.857764 ms)\n",
      "[07/05/2025-16:45:47] [I] Average on 10 runs - GPU latency: 0.916992 ms - Host latency: 1.19712 ms (enqueue 0.859729 ms)\n",
      "[07/05/2025-16:45:47] [I] Average on 10 runs - GPU latency: 0.916296 ms - Host latency: 1.19644 ms (enqueue 0.85813 ms)\n",
      "[07/05/2025-16:45:47] [I] Average on 10 runs - GPU latency: 0.91637 ms - Host latency: 1.19628 ms (enqueue 0.858936 ms)\n",
      "[07/05/2025-16:45:47] [I] Average on 10 runs - GPU latency: 0.91637 ms - Host latency: 1.19595 ms (enqueue 0.858997 ms)\n",
      "[07/05/2025-16:45:47] [I] Average on 10 runs - GPU latency: 0.916589 ms - Host latency: 1.19661 ms (enqueue 0.856335 ms)\n",
      "[07/05/2025-16:45:47] [I] Average on 10 runs - GPU latency: 0.916479 ms - Host latency: 1.19663 ms (enqueue 0.857092 ms)\n",
      "[07/05/2025-16:45:47] [I] Average on 10 runs - GPU latency: 0.91615 ms - Host latency: 1.19585 ms (enqueue 0.858874 ms)\n",
      "[07/05/2025-16:45:47] [I] Average on 10 runs - GPU latency: 0.916711 ms - Host latency: 1.19614 ms (enqueue 0.860449 ms)\n",
      "[07/05/2025-16:45:47] [I] Average on 10 runs - GPU latency: 0.916296 ms - Host latency: 1.1963 ms (enqueue 0.858264 ms)\n",
      "[07/05/2025-16:45:47] [I] Average on 10 runs - GPU latency: 0.91687 ms - Host latency: 1.19703 ms (enqueue 0.860962 ms)\n",
      "[07/05/2025-16:45:47] [I] Average on 10 runs - GPU latency: 0.916699 ms - Host latency: 1.19651 ms (enqueue 0.856116 ms)\n",
      "[07/05/2025-16:45:47] [I] Average on 10 runs - GPU latency: 0.916394 ms - Host latency: 1.19652 ms (enqueue 0.857178 ms)\n",
      "[07/05/2025-16:45:47] [I] Average on 10 runs - GPU latency: 0.917175 ms - Host latency: 1.19768 ms (enqueue 0.860754 ms)\n",
      "[07/05/2025-16:45:47] [I] Average on 10 runs - GPU latency: 0.916284 ms - Host latency: 1.19587 ms (enqueue 0.860193 ms)\n",
      "[07/05/2025-16:45:47] [I] Average on 10 runs - GPU latency: 0.916687 ms - Host latency: 1.19669 ms (enqueue 0.860059 ms)\n",
      "[07/05/2025-16:45:47] [I] Average on 10 runs - GPU latency: 0.916772 ms - Host latency: 1.19686 ms (enqueue 0.857751 ms)\n",
      "[07/05/2025-16:45:47] [I] Average on 10 runs - GPU latency: 0.916577 ms - Host latency: 1.19695 ms (enqueue 0.857751 ms)\n",
      "[07/05/2025-16:45:47] [I] Average on 10 runs - GPU latency: 0.916284 ms - Host latency: 1.19619 ms (enqueue 0.858386 ms)\n",
      "[07/05/2025-16:45:47] [I] Average on 10 runs - GPU latency: 0.916797 ms - Host latency: 1.19736 ms (enqueue 0.855908 ms)\n",
      "[07/05/2025-16:45:47] [I] Average on 10 runs - GPU latency: 0.917078 ms - Host latency: 1.19708 ms (enqueue 0.854651 ms)\n",
      "[07/05/2025-16:45:47] [I] Average on 10 runs - GPU latency: 0.916992 ms - Host latency: 1.19709 ms (enqueue 0.859741 ms)\n",
      "[07/05/2025-16:45:47] [I] Average on 10 runs - GPU latency: 0.916699 ms - Host latency: 1.19702 ms (enqueue 0.858862 ms)\n",
      "[07/05/2025-16:45:47] [I] Average on 10 runs - GPU latency: 0.916577 ms - Host latency: 1.19659 ms (enqueue 0.859876 ms)\n",
      "[07/05/2025-16:45:47] [I] Average on 10 runs - GPU latency: 0.916797 ms - Host latency: 1.19664 ms (enqueue 0.855945 ms)\n",
      "[07/05/2025-16:45:47] [I] Average on 10 runs - GPU latency: 0.917078 ms - Host latency: 1.19686 ms (enqueue 0.857263 ms)\n",
      "[07/05/2025-16:45:47] [I] Average on 10 runs - GPU latency: 0.916455 ms - Host latency: 1.19659 ms (enqueue 0.858569 ms)\n",
      "[07/05/2025-16:45:47] [I] Average on 10 runs - GPU latency: 0.916711 ms - Host latency: 1.19637 ms (enqueue 0.859058 ms)\n",
      "[07/05/2025-16:45:47] [I] Average on 10 runs - GPU latency: 0.916467 ms - Host latency: 1.19694 ms (enqueue 0.86106 ms)\n",
      "[07/05/2025-16:45:47] [I] Average on 10 runs - GPU latency: 0.916589 ms - Host latency: 1.19634 ms (enqueue 0.860693 ms)\n",
      "[07/05/2025-16:45:47] [I] Average on 10 runs - GPU latency: 0.916772 ms - Host latency: 1.19717 ms (enqueue 0.859595 ms)\n",
      "[07/05/2025-16:45:47] [I] Average on 10 runs - GPU latency: 0.916577 ms - Host latency: 1.19618 ms (enqueue 0.859119 ms)\n",
      "[07/05/2025-16:45:47] [I] Average on 10 runs - GPU latency: 0.916479 ms - Host latency: 1.19634 ms (enqueue 0.856262 ms)\n",
      "[07/05/2025-16:45:47] [I] Average on 10 runs - GPU latency: 0.91637 ms - Host latency: 1.19683 ms (enqueue 0.854565 ms)\n",
      "[07/05/2025-16:45:47] [I] Average on 10 runs - GPU latency: 0.916577 ms - Host latency: 1.19617 ms (enqueue 0.858362 ms)\n",
      "[07/05/2025-16:45:47] [I] Average on 10 runs - GPU latency: 0.91637 ms - Host latency: 1.1962 ms (enqueue 0.85675 ms)\n",
      "[07/05/2025-16:45:47] [I] Average on 10 runs - GPU latency: 0.916687 ms - Host latency: 1.19652 ms (enqueue 0.857019 ms)\n",
      "[07/05/2025-16:45:47] [I] Average on 10 runs - GPU latency: 0.916675 ms - Host latency: 1.19664 ms (enqueue 0.856775 ms)\n",
      "[07/05/2025-16:45:47] [I] Average on 10 runs - GPU latency: 0.916162 ms - Host latency: 1.19602 ms (enqueue 0.860913 ms)\n",
      "[07/05/2025-16:45:47] [I] Average on 10 runs - GPU latency: 0.916284 ms - Host latency: 1.19641 ms (enqueue 0.860974 ms)\n",
      "[07/05/2025-16:45:47] [I] Average on 10 runs - GPU latency: 0.916284 ms - Host latency: 1.19596 ms (enqueue 0.86062 ms)\n",
      "[07/05/2025-16:45:47] [I] Average on 10 runs - GPU latency: 0.916785 ms - Host latency: 1.19656 ms (enqueue 0.858069 ms)\n",
      "[07/05/2025-16:45:47] [I] Average on 10 runs - GPU latency: 0.916504 ms - Host latency: 1.19628 ms (enqueue 0.858972 ms)\n",
      "[07/05/2025-16:45:47] [I] Average on 10 runs - GPU latency: 0.916479 ms - Host latency: 1.19661 ms (enqueue 0.858972 ms)\n",
      "[07/05/2025-16:45:47] [I] Average on 10 runs - GPU latency: 0.916895 ms - Host latency: 1.19706 ms (enqueue 0.797156 ms)\n",
      "[07/05/2025-16:45:47] [I] Average on 10 runs - GPU latency: 0.917419 ms - Host latency: 1.19736 ms (enqueue 0.779761 ms)\n",
      "[07/05/2025-16:45:47] [I] Average on 10 runs - GPU latency: 0.917188 ms - Host latency: 1.19707 ms (enqueue 0.778027 ms)\n",
      "[07/05/2025-16:45:47] [I] Average on 10 runs - GPU latency: 0.917285 ms - Host latency: 1.19813 ms (enqueue 0.777356 ms)\n",
      "[07/05/2025-16:45:47] [I] Average on 10 runs - GPU latency: 0.917017 ms - Host latency: 1.197 ms (enqueue 0.776648 ms)\n",
      "[07/05/2025-16:45:47] [I] Average on 10 runs - GPU latency: 0.917419 ms - Host latency: 1.19768 ms (enqueue 0.77738 ms)\n",
      "[07/05/2025-16:45:47] [I] Average on 10 runs - GPU latency: 0.917053 ms - Host latency: 1.19753 ms (enqueue 0.774377 ms)\n",
      "[07/05/2025-16:45:47] [I] Average on 10 runs - GPU latency: 0.916479 ms - Host latency: 1.19697 ms (enqueue 0.777795 ms)\n",
      "[07/05/2025-16:45:47] [I] Average on 10 runs - GPU latency: 0.917078 ms - Host latency: 1.19728 ms (enqueue 0.778479 ms)\n",
      "[07/05/2025-16:45:47] [I] Average on 10 runs - GPU latency: 0.916577 ms - Host latency: 1.19656 ms (enqueue 0.77793 ms)\n",
      "[07/05/2025-16:45:47] [I] Average on 10 runs - GPU latency: 0.916919 ms - Host latency: 1.19771 ms (enqueue 0.779773 ms)\n",
      "[07/05/2025-16:45:47] [I] Average on 10 runs - GPU latency: 0.916797 ms - Host latency: 1.1965 ms (enqueue 0.780688 ms)\n",
      "[07/05/2025-16:45:47] [I] Average on 10 runs - GPU latency: 0.916968 ms - Host latency: 1.19677 ms (enqueue 0.776343 ms)\n",
      "[07/05/2025-16:45:47] [I] Average on 10 runs - GPU latency: 0.916675 ms - Host latency: 1.19651 ms (enqueue 0.777832 ms)\n",
      "[07/05/2025-16:45:47] [I] Average on 10 runs - GPU latency: 0.916699 ms - Host latency: 1.19639 ms (enqueue 0.777148 ms)\n",
      "[07/05/2025-16:45:47] [I] Average on 10 runs - GPU latency: 0.916992 ms - Host latency: 1.19734 ms (enqueue 0.776953 ms)\n",
      "[07/05/2025-16:45:47] [I] Average on 10 runs - GPU latency: 0.917236 ms - Host latency: 1.19687 ms (enqueue 0.779321 ms)\n",
      "[07/05/2025-16:45:47] [I] Average on 10 runs - GPU latency: 0.917285 ms - Host latency: 1.19731 ms (enqueue 0.780664 ms)\n",
      "[07/05/2025-16:45:47] [I] Average on 10 runs - GPU latency: 0.916895 ms - Host latency: 1.19668 ms (enqueue 0.779126 ms)\n",
      "[07/05/2025-16:45:47] [I] Average on 10 runs - GPU latency: 0.916992 ms - Host latency: 1.19658 ms (enqueue 0.77793 ms)\n",
      "[07/05/2025-16:45:47] [I] Average on 10 runs - GPU latency: 0.916602 ms - Host latency: 1.19607 ms (enqueue 0.776685 ms)\n",
      "[07/05/2025-16:45:47] [I] Average on 10 runs - GPU latency: 0.916895 ms - Host latency: 1.19697 ms (enqueue 0.777686 ms)\n",
      "[07/05/2025-16:45:47] [I] Average on 10 runs - GPU latency: 0.916919 ms - Host latency: 1.19692 ms (enqueue 0.777417 ms)\n",
      "[07/05/2025-16:45:47] [I] Average on 10 runs - GPU latency: 0.916724 ms - Host latency: 1.19663 ms (enqueue 0.775342 ms)\n",
      "[07/05/2025-16:45:47] [I] Average on 10 runs - GPU latency: 1.01968 ms - Host latency: 1.30247 ms (enqueue 0.960889 ms)\n",
      "[07/05/2025-16:45:47] [I] Average on 10 runs - GPU latency: 0.917188 ms - Host latency: 1.19692 ms (enqueue 0.779126 ms)\n",
      "[07/05/2025-16:45:47] [I] Average on 10 runs - GPU latency: 0.91709 ms - Host latency: 1.19734 ms (enqueue 0.776611 ms)\n",
      "[07/05/2025-16:45:47] [I] Average on 10 runs - GPU latency: 0.917065 ms - Host latency: 1.19761 ms (enqueue 0.777393 ms)\n",
      "[07/05/2025-16:45:47] [I] Average on 10 runs - GPU latency: 0.917139 ms - Host latency: 1.1978 ms (enqueue 0.777417 ms)\n",
      "[07/05/2025-16:45:47] [I] Average on 10 runs - GPU latency: 0.917554 ms - Host latency: 1.19744 ms (enqueue 0.77627 ms)\n",
      "[07/05/2025-16:45:47] [I] Average on 10 runs - GPU latency: 0.997461 ms - Host latency: 1.28154 ms (enqueue 0.978564 ms)\n",
      "[07/05/2025-16:45:47] [I] Average on 10 runs - GPU latency: 0.916943 ms - Host latency: 1.19741 ms (enqueue 0.813623 ms)\n",
      "[07/05/2025-16:45:47] [I] Average on 10 runs - GPU latency: 0.91709 ms - Host latency: 1.19709 ms (enqueue 0.8104 ms)\n",
      "[07/05/2025-16:45:47] [I] Average on 10 runs - GPU latency: 0.916211 ms - Host latency: 1.19626 ms (enqueue 0.795801 ms)\n",
      "[07/05/2025-16:45:47] [I] Average on 10 runs - GPU latency: 0.916284 ms - Host latency: 1.19609 ms (enqueue 0.789941 ms)\n",
      "[07/05/2025-16:45:47] [I] Average on 10 runs - GPU latency: 0.916992 ms - Host latency: 1.19668 ms (enqueue 0.784644 ms)\n",
      "[07/05/2025-16:45:47] [I] Average on 10 runs - GPU latency: 0.917065 ms - Host latency: 1.19751 ms (enqueue 0.781079 ms)\n",
      "[07/05/2025-16:45:47] [I] Average on 10 runs - GPU latency: 0.916382 ms - Host latency: 1.19653 ms (enqueue 0.78269 ms)\n",
      "[07/05/2025-16:45:47] [I] Average on 10 runs - GPU latency: 0.916602 ms - Host latency: 1.19673 ms (enqueue 0.781079 ms)\n",
      "[07/05/2025-16:45:47] [I] Average on 10 runs - GPU latency: 0.916992 ms - Host latency: 1.19707 ms (enqueue 0.780542 ms)\n",
      "[07/05/2025-16:45:47] [I] Average on 10 runs - GPU latency: 0.917017 ms - Host latency: 1.19683 ms (enqueue 0.778613 ms)\n",
      "[07/05/2025-16:45:47] [I] Average on 10 runs - GPU latency: 0.916699 ms - Host latency: 1.19705 ms (enqueue 0.781738 ms)\n",
      "[07/05/2025-16:45:47] [I] Average on 10 runs - GPU latency: 0.916382 ms - Host latency: 1.19602 ms (enqueue 0.780566 ms)\n",
      "[07/05/2025-16:45:47] [I] Average on 10 runs - GPU latency: 0.916357 ms - Host latency: 1.19573 ms (enqueue 0.781274 ms)\n",
      "[07/05/2025-16:45:47] [I] Average on 10 runs - GPU latency: 0.916772 ms - Host latency: 1.19631 ms (enqueue 0.779443 ms)\n",
      "[07/05/2025-16:45:47] [I] Average on 10 runs - GPU latency: 0.916577 ms - Host latency: 1.19639 ms (enqueue 0.780908 ms)\n",
      "[07/05/2025-16:45:47] [I] Average on 10 runs - GPU latency: 0.916919 ms - Host latency: 1.19683 ms (enqueue 0.782812 ms)\n",
      "[07/05/2025-16:45:47] [I] Average on 10 runs - GPU latency: 0.916187 ms - Host latency: 1.19592 ms (enqueue 0.781299 ms)\n",
      "[07/05/2025-16:45:47] [I] Average on 10 runs - GPU latency: 0.916968 ms - Host latency: 1.19727 ms (enqueue 0.784424 ms)\n",
      "[07/05/2025-16:45:47] [I] Average on 10 runs - GPU latency: 0.916699 ms - Host latency: 1.19612 ms (enqueue 0.779907 ms)\n",
      "[07/05/2025-16:45:47] [I] Average on 10 runs - GPU latency: 0.916895 ms - Host latency: 1.19707 ms (enqueue 0.78125 ms)\n",
      "[07/05/2025-16:45:47] [I] Average on 10 runs - GPU latency: 0.916772 ms - Host latency: 1.19668 ms (enqueue 0.781372 ms)\n",
      "[07/05/2025-16:45:47] [I] Average on 10 runs - GPU latency: 0.916748 ms - Host latency: 1.19619 ms (enqueue 0.783862 ms)\n",
      "[07/05/2025-16:45:47] [I] Average on 10 runs - GPU latency: 0.916797 ms - Host latency: 1.19636 ms (enqueue 0.78252 ms)\n",
      "[07/05/2025-16:45:47] [I] Average on 10 runs - GPU latency: 0.916675 ms - Host latency: 1.19668 ms (enqueue 0.779126 ms)\n",
      "[07/05/2025-16:45:47] [I] Average on 10 runs - GPU latency: 0.916992 ms - Host latency: 1.19695 ms (enqueue 0.782324 ms)\n",
      "[07/05/2025-16:45:47] [I] Average on 10 runs - GPU latency: 0.916455 ms - Host latency: 1.1958 ms (enqueue 0.78313 ms)\n",
      "[07/05/2025-16:45:47] [I] Average on 10 runs - GPU latency: 0.917114 ms - Host latency: 1.19685 ms (enqueue 0.77959 ms)\n",
      "[07/05/2025-16:45:47] [I] Average on 10 runs - GPU latency: 0.917188 ms - Host latency: 1.19763 ms (enqueue 0.777539 ms)\n",
      "[07/05/2025-16:45:47] [I] Average on 10 runs - GPU latency: 0.91709 ms - Host latency: 1.19746 ms (enqueue 0.778589 ms)\n",
      "[07/05/2025-16:45:47] [I] Average on 10 runs - GPU latency: 0.91731 ms - Host latency: 1.19741 ms (enqueue 0.778052 ms)\n",
      "[07/05/2025-16:45:47] [I] Average on 10 runs - GPU latency: 0.917017 ms - Host latency: 1.19712 ms (enqueue 0.780273 ms)\n",
      "[07/05/2025-16:45:47] [I] Average on 10 runs - GPU latency: 0.917163 ms - Host latency: 1.19768 ms (enqueue 0.777393 ms)\n",
      "[07/05/2025-16:45:47] [I] Average on 10 runs - GPU latency: 0.916919 ms - Host latency: 1.19673 ms (enqueue 0.781128 ms)\n",
      "[07/05/2025-16:45:47] [I] Average on 10 runs - GPU latency: 0.91709 ms - Host latency: 1.19744 ms (enqueue 0.780151 ms)\n",
      "[07/05/2025-16:45:47] [I] Average on 10 runs - GPU latency: 0.917505 ms - Host latency: 1.198 ms (enqueue 0.778613 ms)\n",
      "[07/05/2025-16:45:47] [I] Average on 10 runs - GPU latency: 0.917358 ms - Host latency: 1.19746 ms (enqueue 0.778955 ms)\n",
      "[07/05/2025-16:45:47] [I] Average on 10 runs - GPU latency: 0.917212 ms - Host latency: 1.19744 ms (enqueue 0.779028 ms)\n",
      "[07/05/2025-16:45:47] [I] Average on 10 runs - GPU latency: 0.916772 ms - Host latency: 1.19724 ms (enqueue 0.77915 ms)\n",
      "[07/05/2025-16:45:47] [I] Average on 10 runs - GPU latency: 0.917017 ms - Host latency: 1.19741 ms (enqueue 0.781348 ms)\n",
      "[07/05/2025-16:45:47] [I] Average on 10 runs - GPU latency: 0.91709 ms - Host latency: 1.19727 ms (enqueue 0.779541 ms)\n",
      "[07/05/2025-16:45:47] [I] Average on 10 runs - GPU latency: 0.917236 ms - Host latency: 1.1968 ms (enqueue 0.777222 ms)\n",
      "[07/05/2025-16:45:47] [I] Average on 10 runs - GPU latency: 0.916772 ms - Host latency: 1.19702 ms (enqueue 0.778052 ms)\n",
      "[07/05/2025-16:45:47] [I] Average on 10 runs - GPU latency: 0.916919 ms - Host latency: 1.19717 ms (enqueue 0.780811 ms)\n",
      "[07/05/2025-16:45:47] [I] Average on 10 runs - GPU latency: 0.916602 ms - Host latency: 1.19634 ms (enqueue 0.779858 ms)\n",
      "[07/05/2025-16:45:47] [I] Average on 10 runs - GPU latency: 0.917041 ms - Host latency: 1.19749 ms (enqueue 0.779541 ms)\n",
      "[07/05/2025-16:45:47] [I] Average on 10 runs - GPU latency: 0.916992 ms - Host latency: 1.19663 ms (enqueue 0.77998 ms)\n",
      "[07/05/2025-16:45:47] [I] Average on 10 runs - GPU latency: 0.917407 ms - Host latency: 1.19717 ms (enqueue 0.781348 ms)\n",
      "[07/05/2025-16:45:47] [I] Average on 10 runs - GPU latency: 0.916772 ms - Host latency: 1.19658 ms (enqueue 0.782983 ms)\n",
      "[07/05/2025-16:45:47] [I] Average on 10 runs - GPU latency: 0.917163 ms - Host latency: 1.19712 ms (enqueue 0.781128 ms)\n",
      "[07/05/2025-16:45:47] [I] Average on 10 runs - GPU latency: 0.916577 ms - Host latency: 1.19612 ms (enqueue 0.7802 ms)\n",
      "[07/05/2025-16:45:47] [I] Average on 10 runs - GPU latency: 0.916284 ms - Host latency: 1.1958 ms (enqueue 0.780273 ms)\n",
      "[07/05/2025-16:45:47] [I] Average on 10 runs - GPU latency: 0.916382 ms - Host latency: 1.19592 ms (enqueue 0.780542 ms)\n",
      "[07/05/2025-16:45:47] [I] Average on 10 runs - GPU latency: 0.916577 ms - Host latency: 1.19622 ms (enqueue 0.782471 ms)\n",
      "[07/05/2025-16:45:47] [I] Average on 10 runs - GPU latency: 0.916382 ms - Host latency: 1.19592 ms (enqueue 0.781348 ms)\n",
      "[07/05/2025-16:45:47] [I] Average on 10 runs - GPU latency: 0.916333 ms - Host latency: 1.19563 ms (enqueue 0.779419 ms)\n",
      "[07/05/2025-16:45:47] [I] Average on 10 runs - GPU latency: 0.916675 ms - Host latency: 1.19692 ms (enqueue 0.782886 ms)\n",
      "[07/05/2025-16:45:47] [I] Average on 10 runs - GPU latency: 0.916479 ms - Host latency: 1.19663 ms (enqueue 0.784131 ms)\n",
      "[07/05/2025-16:45:47] [I] Average on 10 runs - GPU latency: 0.916577 ms - Host latency: 1.19619 ms (enqueue 0.785474 ms)\n",
      "[07/05/2025-16:45:47] [I] Average on 10 runs - GPU latency: 0.916724 ms - Host latency: 1.19651 ms (enqueue 0.779858 ms)\n",
      "[07/05/2025-16:45:47] [I] Average on 10 runs - GPU latency: 0.916821 ms - Host latency: 1.19714 ms (enqueue 0.782129 ms)\n",
      "[07/05/2025-16:45:47] [I] Average on 10 runs - GPU latency: 0.917212 ms - Host latency: 1.19719 ms (enqueue 0.779102 ms)\n",
      "[07/05/2025-16:45:47] [I] Average on 10 runs - GPU latency: 0.916968 ms - Host latency: 1.19797 ms (enqueue 0.777661 ms)\n",
      "[07/05/2025-16:45:47] [I] Average on 10 runs - GPU latency: 0.916895 ms - Host latency: 1.19661 ms (enqueue 0.780005 ms)\n",
      "[07/05/2025-16:45:47] [I] Average on 10 runs - GPU latency: 0.916675 ms - Host latency: 1.19648 ms (enqueue 0.780371 ms)\n",
      "[07/05/2025-16:45:47] [I] Average on 10 runs - GPU latency: 0.916455 ms - Host latency: 1.1959 ms (enqueue 0.781641 ms)\n",
      "[07/05/2025-16:45:47] [I] Average on 10 runs - GPU latency: 0.916821 ms - Host latency: 1.1967 ms (enqueue 0.779932 ms)\n",
      "[07/05/2025-16:45:47] [I] Average on 10 runs - GPU latency: 0.917017 ms - Host latency: 1.19717 ms (enqueue 0.78147 ms)\n",
      "[07/05/2025-16:45:47] [I] Average on 10 runs - GPU latency: 0.916699 ms - Host latency: 1.19646 ms (enqueue 0.780322 ms)\n",
      "[07/05/2025-16:45:47] [I] Average on 10 runs - GPU latency: 0.916797 ms - Host latency: 1.19666 ms (enqueue 0.780933 ms)\n",
      "[07/05/2025-16:45:47] [I] Average on 10 runs - GPU latency: 0.91665 ms - Host latency: 1.19685 ms (enqueue 0.777832 ms)\n",
      "[07/05/2025-16:45:47] [I] Average on 10 runs - GPU latency: 0.91626 ms - Host latency: 1.19573 ms (enqueue 0.779663 ms)\n",
      "[07/05/2025-16:45:47] [I] Average on 10 runs - GPU latency: 0.916626 ms - Host latency: 1.19607 ms (enqueue 0.780884 ms)\n",
      "[07/05/2025-16:45:47] [I] Average on 10 runs - GPU latency: 0.917163 ms - Host latency: 1.19734 ms (enqueue 0.784424 ms)\n",
      "[07/05/2025-16:45:47] [I] Average on 10 runs - GPU latency: 0.916846 ms - Host latency: 1.19663 ms (enqueue 0.779712 ms)\n",
      "[07/05/2025-16:45:47] [I] Average on 10 runs - GPU latency: 0.917114 ms - Host latency: 1.19736 ms (enqueue 0.781567 ms)\n",
      "[07/05/2025-16:45:47] [I] Average on 10 runs - GPU latency: 0.91709 ms - Host latency: 1.1968 ms (enqueue 0.780249 ms)\n",
      "[07/05/2025-16:45:47] [I] Average on 10 runs - GPU latency: 0.917407 ms - Host latency: 1.19712 ms (enqueue 0.778589 ms)\n",
      "[07/05/2025-16:45:47] [I] Average on 10 runs - GPU latency: 0.916626 ms - Host latency: 1.19648 ms (enqueue 0.778174 ms)\n",
      "[07/05/2025-16:45:47] [I] Average on 10 runs - GPU latency: 0.916797 ms - Host latency: 1.19727 ms (enqueue 0.779712 ms)\n",
      "[07/05/2025-16:45:47] [I] Average on 10 runs - GPU latency: 0.916504 ms - Host latency: 1.1968 ms (enqueue 0.780029 ms)\n",
      "[07/05/2025-16:45:47] [I] Average on 10 runs - GPU latency: 0.916895 ms - Host latency: 1.19668 ms (enqueue 0.781909 ms)\n",
      "[07/05/2025-16:45:47] [I] Average on 10 runs - GPU latency: 0.917017 ms - Host latency: 1.19695 ms (enqueue 0.784326 ms)\n",
      "[07/05/2025-16:45:47] [I] Average on 10 runs - GPU latency: 0.916699 ms - Host latency: 1.19648 ms (enqueue 0.779395 ms)\n",
      "[07/05/2025-16:45:47] [I] Average on 10 runs - GPU latency: 0.916699 ms - Host latency: 1.19712 ms (enqueue 0.785962 ms)\n",
      "[07/05/2025-16:45:47] [I] Average on 10 runs - GPU latency: 0.916943 ms - Host latency: 1.19675 ms (enqueue 0.781592 ms)\n",
      "[07/05/2025-16:45:47] [I] Average on 10 runs - GPU latency: 0.916895 ms - Host latency: 1.19663 ms (enqueue 0.780908 ms)\n",
      "[07/05/2025-16:45:47] [I] Average on 10 runs - GPU latency: 0.917041 ms - Host latency: 1.19653 ms (enqueue 0.780249 ms)\n",
      "[07/05/2025-16:45:47] [I] Average on 10 runs - GPU latency: 0.916626 ms - Host latency: 1.19651 ms (enqueue 0.7771 ms)\n",
      "[07/05/2025-16:45:47] [I] Average on 10 runs - GPU latency: 0.91687 ms - Host latency: 1.19612 ms (enqueue 0.777002 ms)\n",
      "[07/05/2025-16:45:47] [I] Average on 10 runs - GPU latency: 0.916797 ms - Host latency: 1.19634 ms (enqueue 0.780151 ms)\n",
      "[07/05/2025-16:45:47] [I] Average on 10 runs - GPU latency: 0.916772 ms - Host latency: 1.19714 ms (enqueue 0.780054 ms)\n",
      "[07/05/2025-16:45:47] [I] Average on 10 runs - GPU latency: 0.917065 ms - Host latency: 1.19673 ms (enqueue 0.781567 ms)\n",
      "[07/05/2025-16:45:47] [I] Average on 10 runs - GPU latency: 0.917041 ms - Host latency: 1.19709 ms (enqueue 0.781909 ms)\n",
      "[07/05/2025-16:45:47] [I] Average on 10 runs - GPU latency: 0.916846 ms - Host latency: 1.1967 ms (enqueue 0.778442 ms)\n",
      "[07/05/2025-16:45:47] [I] Average on 10 runs - GPU latency: 0.917236 ms - Host latency: 1.19758 ms (enqueue 0.782178 ms)\n",
      "[07/05/2025-16:45:47] [I] Average on 10 runs - GPU latency: 0.91731 ms - Host latency: 1.19749 ms (enqueue 0.779663 ms)\n",
      "[07/05/2025-16:45:47] [I] Average on 10 runs - GPU latency: 0.91709 ms - Host latency: 1.19702 ms (enqueue 0.781616 ms)\n",
      "[07/05/2025-16:45:47] [I] Average on 10 runs - GPU latency: 0.917236 ms - Host latency: 1.19729 ms (enqueue 0.780981 ms)\n",
      "[07/05/2025-16:45:47] [I] Average on 10 runs - GPU latency: 0.91665 ms - Host latency: 1.19617 ms (enqueue 0.777246 ms)\n",
      "[07/05/2025-16:45:47] [I] Average on 10 runs - GPU latency: 0.916992 ms - Host latency: 1.19722 ms (enqueue 0.779297 ms)\n",
      "[07/05/2025-16:45:47] [I] Average on 10 runs - GPU latency: 0.917114 ms - Host latency: 1.19751 ms (enqueue 0.781714 ms)\n",
      "[07/05/2025-16:45:47] [I] Average on 10 runs - GPU latency: 0.916919 ms - Host latency: 1.19731 ms (enqueue 0.779907 ms)\n",
      "[07/05/2025-16:45:47] [I] Average on 10 runs - GPU latency: 0.916748 ms - Host latency: 1.19639 ms (enqueue 0.782104 ms)\n",
      "[07/05/2025-16:45:47] [I] Average on 10 runs - GPU latency: 0.917017 ms - Host latency: 1.19646 ms (enqueue 0.783203 ms)\n",
      "[07/05/2025-16:45:47] [I] Average on 10 runs - GPU latency: 0.91687 ms - Host latency: 1.19761 ms (enqueue 0.777954 ms)\n",
      "[07/05/2025-16:45:47] [I] Average on 10 runs - GPU latency: 0.916772 ms - Host latency: 1.19626 ms (enqueue 0.781567 ms)\n",
      "[07/05/2025-16:45:47] [I] \n",
      "[07/05/2025-16:45:47] [I] === Performance summary ===\n",
      "[07/05/2025-16:45:47] [I] Throughput: 1083.9 qps\n",
      "[07/05/2025-16:45:47] [I] Latency: min = 1.19348 ms, max = 5.20905 ms, mean = 1.19972 ms, median = 1.19656 ms, percentile(90%) = 1.19849 ms, percentile(95%) = 1.19934 ms, percentile(99%) = 1.20288 ms\n",
      "[07/05/2025-16:45:47] [I] Enqueue Time: min = 0.762207 ms, max = 5.69092 ms, mean = 0.83055 ms, median = 0.852417 ms, percentile(90%) = 0.868652 ms, percentile(95%) = 0.871826 ms, percentile(99%) = 0.881226 ms\n",
      "[07/05/2025-16:45:47] [I] H2D Latency: min = 0.202759 ms, max = 0.248779 ms, mean = 0.203966 ms, median = 0.203735 ms, percentile(90%) = 0.204422 ms, percentile(95%) = 0.204834 ms, percentile(99%) = 0.209961 ms\n",
      "[07/05/2025-16:45:47] [I] GPU Compute Time: min = 0.914307 ms, max = 4.91333 ms, mean = 0.919587 ms, median = 0.916504 ms, percentile(90%) = 0.917603 ms, percentile(95%) = 0.918457 ms, percentile(99%) = 0.918701 ms\n",
      "[07/05/2025-16:45:47] [I] D2H Latency: min = 0.074707 ms, max = 0.0939941 ms, mean = 0.07616 ms, median = 0.0756836 ms, percentile(90%) = 0.0773926 ms, percentile(95%) = 0.0776367 ms, percentile(99%) = 0.078125 ms\n",
      "[07/05/2025-16:45:47] [I] Total Host Walltime: 3.00304 s\n",
      "[07/05/2025-16:45:47] [I] Total GPU Compute Time: 2.99326 s\n",
      "[07/05/2025-16:45:47] [W] * Throughput may be bound by Enqueue Time rather than GPU Compute and the GPU may be under-utilized.\n",
      "[07/05/2025-16:45:47] [W]   If not already in use, --useCudaGraph (utilize CUDA graphs where possible) may increase the throughput.\n",
      "[07/05/2025-16:45:47] [W] * GPU compute time is unstable, with coefficient of variance = 8.85631%.\n",
      "[07/05/2025-16:45:47] [W]   If not already in use, locking GPU clock frequency or adding --useSpinWait may improve the stability.\n",
      "[07/05/2025-16:45:47] [I] Explanations of the performance metrics are printed in the verbose logs.\n",
      "[07/05/2025-16:45:47] [I] \n",
      "&&&& PASSED TensorRT.trtexec [TensorRT v100700] [b23] # trtexec --loadEngine=weights/yolov8s-pose-pruned-sp0.5-fp16.engine --shapes=images:1x3x640x640\n"
     ]
    }
   ],
   "source": [
    "!trtexec --loadEngine=weights/yolov8s-pose-pruned-sp0.5-fp16.engine --shapes=images:1x3x640x640"
   ]
  },
  {
   "cell_type": "code",
   "execution_count": 38,
   "id": "325eb0e6-b919-4bbe-b451-52a7f7db5405",
   "metadata": {
    "execution": {
     "iopub.execute_input": "2025-07-05T08:45:31.162008Z",
     "iopub.status.busy": "2025-07-05T08:45:31.161148Z",
     "iopub.status.idle": "2025-07-05T08:45:31.169580Z",
     "shell.execute_reply": "2025-07-05T08:45:31.168816Z",
     "shell.execute_reply.started": "2025-07-05T08:45:31.161950Z"
    }
   },
   "outputs": [
    {
     "name": "stderr",
     "output_type": "stream",
     "text": [
      "\u001b[32m2025-07-05 16:45:31.164\u001b[0m | \u001b[1mINFO    \u001b[0m | \u001b[36m__main__\u001b[0m:\u001b[36m<module>\u001b[0m:\u001b[36m1\u001b[0m - \u001b[1mpruning sp0.5 fp16 trt engine, batch 16, gpu mean time/per img: 2.9ms\u001b[0m\n"
     ]
    }
   ],
   "source": [
    "logger.info(f'pruning sp0.5 fp16 trt engine, batch 16, gpu mean time/per img: 2.9ms')"
   ]
  },
  {
   "cell_type": "code",
   "execution_count": 40,
   "id": "7b869899-702a-4dd2-b35d-3021f4364b12",
   "metadata": {
    "execution": {
     "iopub.execute_input": "2025-07-05T08:46:06.465626Z",
     "iopub.status.busy": "2025-07-05T08:46:06.464802Z",
     "iopub.status.idle": "2025-07-05T08:46:06.471788Z",
     "shell.execute_reply": "2025-07-05T08:46:06.471071Z",
     "shell.execute_reply.started": "2025-07-05T08:46:06.465568Z"
    }
   },
   "outputs": [
    {
     "name": "stderr",
     "output_type": "stream",
     "text": [
      "\u001b[32m2025-07-05 16:46:06.467\u001b[0m | \u001b[1mINFO    \u001b[0m | \u001b[36m__main__\u001b[0m:\u001b[36m<module>\u001b[0m:\u001b[36m1\u001b[0m - \u001b[1mpruning sp0.5 fp16 trt engine, batch 1, gpu mean time/per img: 0.9ms\u001b[0m\n"
     ]
    }
   ],
   "source": [
    "logger.info(f'pruning sp0.5 fp16 trt engine, batch 1, gpu mean time/per img: 0.9ms')"
   ]
  },
  {
   "cell_type": "code",
   "execution_count": 39,
   "id": "1df55af7-5a14-40be-8b80-4dec78cb99a1",
   "metadata": {
    "execution": {
     "iopub.execute_input": "2025-07-04T15:35:11.763327Z",
     "iopub.status.busy": "2025-07-04T15:35:11.762495Z",
     "iopub.status.idle": "2025-07-04T15:35:11.769754Z",
     "shell.execute_reply": "2025-07-04T15:35:11.768985Z",
     "shell.execute_reply.started": "2025-07-04T15:35:11.763272Z"
    }
   },
   "outputs": [
    {
     "name": "stderr",
     "output_type": "stream",
     "text": [
      "\u001b[32m2025-07-04 23:35:11.764\u001b[0m | \u001b[1mINFO    \u001b[0m | \u001b[36m__main__\u001b[0m:\u001b[36m<module>\u001b[0m:\u001b[36m1\u001b[0m - \u001b[1mpruning sp0.3 fp16 engine-->YOLO load model evaluate inference speed:0.7 ms\u001b[0m\n"
     ]
    }
   ],
   "source": [
    "logger.info(f\"pruning sp0.3 fp16 engine-->YOLO load model evaluate inference speed:{metrics.speed['inference']:.1f} ms\")"
   ]
  },
  {
   "cell_type": "code",
   "execution_count": 40,
   "id": "7d888efb-59e8-46e5-8da0-c8ec4ebadb07",
   "metadata": {
    "execution": {
     "iopub.execute_input": "2025-07-04T15:35:14.648478Z",
     "iopub.status.busy": "2025-07-04T15:35:14.647677Z",
     "iopub.status.idle": "2025-07-04T15:35:14.652829Z",
     "shell.execute_reply": "2025-07-04T15:35:14.652278Z",
     "shell.execute_reply.started": "2025-07-04T15:35:14.648451Z"
    }
   },
   "outputs": [
    {
     "name": "stderr",
     "output_type": "stream",
     "text": [
      "\u001b[32m2025-07-04 23:35:14.649\u001b[0m | \u001b[1mINFO    \u001b[0m | \u001b[36m__main__\u001b[0m:\u001b[36m<module>\u001b[0m:\u001b[36m1\u001b[0m - \u001b[1mpruning sp0.5 fp16 engine-->YOLO load model evaluate inference speed:0.7 ms\u001b[0m\n"
     ]
    }
   ],
   "source": [
    "logger.info(f\"pruning sp0.5 fp16 engine-->YOLO load model evaluate inference speed:{metrics.speed['inference']:.1f} ms\")"
   ]
  },
  {
   "cell_type": "markdown",
   "id": "d7fe1b01-ba51-4ef2-8e18-829cbbbb9d15",
   "metadata": {},
   "source": [
    "**非动态情况下导出的engine都是0.7ms**"
   ]
  },
  {
   "cell_type": "code",
   "execution_count": 7,
   "id": "b04c8916-0cdd-42d8-af7a-42bf16716034",
   "metadata": {
    "execution": {
     "iopub.execute_input": "2025-07-04T13:46:30.014566Z",
     "iopub.status.busy": "2025-07-04T13:46:30.013725Z",
     "iopub.status.idle": "2025-07-04T13:46:30.019852Z",
     "shell.execute_reply": "2025-07-04T13:46:30.019340Z",
     "shell.execute_reply.started": "2025-07-04T13:46:30.014519Z"
    }
   },
   "outputs": [
    {
     "name": "stderr",
     "output_type": "stream",
     "text": [
      "\u001b[32m2025-07-04 21:46:30.015\u001b[0m | \u001b[1mINFO    \u001b[0m | \u001b[36m__main__\u001b[0m:\u001b[36m<module>\u001b[0m:\u001b[36m1\u001b[0m - \u001b[1mpruning sp0.5 fp16 engine from function load_model-->YOLO load model evaluate inference speed:0.2 ms\u001b[0m\n"
     ]
    }
   ],
   "source": [
    "logger.info(f\"pruning sp0.5 fp16 engine from function load_model-->YOLO load model evaluate inference speed:{metrics.speed['inference']:.1f} ms\")"
   ]
  },
  {
   "cell_type": "markdown",
   "id": "eb835d15-91c7-4a0a-b7b2-64a42f9abb51",
   "metadata": {},
   "source": [
    "注意我们推断0.2ms是动态shape,此情况下类似与--minShapes=images:16x3x320x320 --maxShapes=images:16x3x1024x1024 --optShapes=images:16x3x640x640\n",
    "* 推理速度极快\n",
    "* 但精度却掉点十分严重"
   ]
  },
  {
   "attachments": {
    "ea2692a9-ad12-4b4d-a9ff-5d68b7197b1a.png": {
     "image/png": "[encoded data removed]"
    }
   },
   "cell_type": "markdown",
   "id": "67792c0c-e33d-4af0-ad44-01562ca8c43e",
   "metadata": {},
   "source": [
    "![image.png](attachment:ea2692a9-ad12-4b4d-a9ff-5d68b7197b1a.png)"
   ]
  },
  {
   "attachments": {
    "4af65ace-76ff-48c4-85c6-63bb4beeda3a.png": {
     "image/png": "[encoded data removed]"
    }
   },
   "cell_type": "markdown",
   "id": "287b70c2-01ea-4b58-9219-1ac8d9f8d519",
   "metadata": {},
   "source": [
    "目前我们尝试的参数中，只用--minShapes=images:1x3x640x640 --maxShapes=images:1x3x640x640 --optShapes=images:1x3x640x640\n",
    "* 能准确跑出精确度\n",
    "* 但推理速度为1ms、0.9ms、0.8ms、0.7ms等值\n",
    "![image.png](attachment:4af65ace-76ff-48c4-85c6-63bb4beeda3a.png)"
   ]
  },
  {
   "cell_type": "markdown",
   "id": "b0116878-3c3c-4b8e-a05a-687e632fb4f1",
   "metadata": {},
   "source": [
    "**利用YOLO导出的静态engine(dynamic不设置)与onnx导出并在trtextec中设置1x3x640x640是等效的-->静态**\n",
    "* 都可以正确预测精度\n",
    "* 但是推理速度较慢-->0.8-1ms"
   ]
  },
  {
   "cell_type": "markdown",
   "id": "a3815faf-cdc2-4c3e-8195-888bc8b3ada1",
   "metadata": {},
   "source": [
    "**要想动态推理，需要单独写一个engine的推理代码,在数据处理这一阶段满足动态处理要求**"
   ]
  },
  {
   "cell_type": "code",
   "execution_count": null,
   "id": "0ba0e253-46bc-42b1-a22b-4d2e87471205",
   "metadata": {},
   "outputs": [],
   "source": []
  }
 ],
 "metadata": {
  "kernelspec": {
   "display_name": "yolov8-pose",
   "language": "python",
   "name": "yolov8-pose"
  },
  "language_info": {
   "codemirror_mode": {
    "name": "ipython",
    "version": 3
   },
   "file_extension": ".py",
   "mimetype": "text/x-python",
   "name": "python",
   "nbconvert_exporter": "python",
   "pygments_lexer": "ipython3",
   "version": "3.10.18"
  }
 },
 "nbformat": 4,
 "nbformat_minor": 5
}
